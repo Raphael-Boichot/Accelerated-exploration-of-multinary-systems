{
 "cells": [
  {
   "cell_type": "markdown",
   "id": "0af17052",
   "metadata": {},
   "source": [
    "# **PyTerK** / 08.3-RF_class-report\n",
    "\n",
    "----\n",
    "An Python Iterated K-fold cross validation with shuffling  "
   ]
  },
  {
   "cell_type": "code",
   "execution_count": 1,
   "id": "e9eadbc2",
   "metadata": {
    "scrolled": true
   },
   "outputs": [],
   "source": [
    "import sys\n",
    "sys.path.append('../..')\n",
    "\n",
    "import pyterk.config   as config\n",
    "import pyterk.reporter as reporter"
   ]
  },
  {
   "cell_type": "code",
   "execution_count": 3,
   "id": "06385256",
   "metadata": {
    "scrolled": false
   },
   "outputs": [
    {
     "data": {
      "text/markdown": [
       "<br>**Pyterk - A Python iterative KFold stuff...**"
      ],
      "text/plain": [
       "<IPython.core.display.Markdown object>"
      ]
     },
     "metadata": {},
     "output_type": "display_data"
    },
    {
     "name": "stdout",
     "output_type": "stream",
     "text": [
      "settings     : 08.3-RF_class-settings.yml\n",
      "description  : Test of random forrest architecture.\n",
      "settings v.  : 1.0\n",
      "seed         : 123\n",
      "datasets_dir : /Users/elisegarel/Desktop/PUBLI/datasets//./\n",
      "run_dir      : /Users/elisegarel/Desktop/PUBLI/run//./campaign08/RF_c\n",
      "file         : 08.3-RF_class-settings.yml\n"
     ]
    },
    {
     "data": {
      "text/markdown": [
       "<br>**Load datasets...**"
      ],
      "text/plain": [
       "<IPython.core.display.Markdown object>"
      ]
     },
     "metadata": {},
     "output_type": "display_data"
    },
    {
     "name": "stdout",
     "output_type": "stream",
     "text": [
      "** WARNING : Dataset compo_CI_class have 2 missing value(s) !\n",
      "compo_CI_class : 74294bc7021bebc7a9f7d18f29fab04c2a20ddc966a5ab3b0694259162396008 (sha256)\n",
      "compo_DRX_class : 86d75db877b96a80aed23124683a9f6ab3c46f034027fc1a415c80f43910fa11 (sha256)\n"
     ]
    },
    {
     "data": {
      "text/html": [
       "<a name=\"Sommaire\"></a>"
      ],
      "text/plain": [
       "<IPython.core.display.HTML object>"
      ]
     },
     "metadata": {},
     "output_type": "display_data"
    },
    {
     "data": {
      "text/markdown": [
       "## Sommaire"
      ],
      "text/plain": [
       "<IPython.core.display.Markdown object>"
      ]
     },
     "metadata": {},
     "output_type": "display_data"
    },
    {
     "data": {
      "text/markdown": [
       "### 1. Short reports"
      ],
      "text/plain": [
       "<IPython.core.display.Markdown object>"
      ]
     },
     "metadata": {},
     "output_type": "display_data"
    },
    {
     "data": {
      "text/markdown": [
       "[1.1 - Comparison of architecture on CI class - (Class_CI)](#1.1---Comparison-of-architecture-on-CI-class----Class_CI-)  \n",
       "[1.2 - Comparison of architecture on DRX class - (Class_DRX)](#1.2---Comparison-of-architecture-on-DRX-class----Class_DRX-)"
      ],
      "text/plain": [
       "<IPython.core.display.Markdown object>"
      ]
     },
     "metadata": {},
     "output_type": "display_data"
    },
    {
     "data": {
      "text/markdown": [
       "### 2. Long reports"
      ],
      "text/plain": [
       "<IPython.core.display.Markdown object>"
      ]
     },
     "metadata": {},
     "output_type": "display_data"
    },
    {
     "data": {
      "text/markdown": [
       "[2.1 - Comparison of architecture on CI class - (Class_CI)](#2.1---Comparison-of-architecture-on-CI-class----Class_CI-)  \n",
       "[2.2 - Comparison of architecture on DRX class - (Class_DRX)](#2.2---Comparison-of-architecture-on-DRX-class----Class_DRX-)"
      ],
      "text/plain": [
       "<IPython.core.display.Markdown object>"
      ]
     },
     "metadata": {},
     "output_type": "display_data"
    },
    {
     "data": {
      "text/markdown": [
       "# 1. Short reports"
      ],
      "text/plain": [
       "<IPython.core.display.Markdown object>"
      ]
     },
     "metadata": {},
     "output_type": "display_data"
    },
    {
     "data": {
      "text/html": [
       "<a name=\"1.1---Comparison-of-architecture-on-CI-class----Class_CI-\"></a>"
      ],
      "text/plain": [
       "<IPython.core.display.HTML object>"
      ]
     },
     "metadata": {},
     "output_type": "display_data"
    },
    {
     "data": {
      "text/markdown": [
       "## 1.1 - Comparison of architecture on CI class - (Class_CI)"
      ],
      "text/plain": [
       "<IPython.core.display.Markdown object>"
      ]
     },
     "metadata": {},
     "output_type": "display_data"
    },
    {
     "data": {
      "text/markdown": [
       "[(Sommaire)](#Sommaire)"
      ],
      "text/plain": [
       "<IPython.core.display.Markdown object>"
      ]
     },
     "metadata": {},
     "output_type": "display_data"
    },
    {
     "data": {
      "text/markdown": [
       "Report for : **/Users/elisegarel/Desktop/PUBLI/run//./campaign08/RF_c/Class_CI**"
      ],
      "text/plain": [
       "<IPython.core.display.Markdown object>"
      ]
     },
     "metadata": {},
     "output_type": "display_data"
    },
    {
     "data": {
      "text/markdown": [
       "This report have **9** parts :"
      ],
      "text/plain": [
       "<IPython.core.display.Markdown object>"
      ]
     },
     "metadata": {},
     "output_type": "display_data"
    },
    {
     "data": {
      "text/markdown": [
       "  - Class_CI-0000\n",
       "  - Class_CI-0001\n",
       "  - Class_CI-0002\n",
       "  - Class_CI-0003\n",
       "  - Class_CI-0004\n",
       "  - Class_CI-0005\n",
       "  - Class_CI-0006\n",
       "  - Class_CI-0007\n",
       "  - Class_CI-0008"
      ],
      "text/plain": [
       "<IPython.core.display.Markdown object>"
      ]
     },
     "metadata": {},
     "output_type": "display_data"
    },
    {
     "data": {
      "text/markdown": [
       "<br>**Class_CI-0000 Comparison of architecture on CI class**"
      ],
      "text/plain": [
       "<IPython.core.display.Markdown object>"
      ]
     },
     "metadata": {},
     "output_type": "display_data"
    },
    {
     "name": "stdout",
     "output_type": "stream",
     "text": [
      "     ---- args --------------------------------------------------\n",
      "     run_dir      : /gpfsscratch/rech/ieq/commun/./run/campaign08_bis/RF_class/Class_CI/Class_CI-0000\n",
      "     dataset_id   : compo_CI_class\n",
      "     model_id     : sklearn-rfr-50-5\n",
      "     ---- evaluation --------------------------------------------\n",
      "     id      count        mean           std\n",
      "     0       150           0.94          0.03\n",
      "     1       150           0.06          0.03\n",
      "     2       150           0.06          0.03\n",
      "     ------------------------------------------------------------\n"
     ]
    },
    {
     "data": {
      "text/markdown": [
       "<br>**Class_CI-0001 Comparison of architecture on CI class**"
      ],
      "text/plain": [
       "<IPython.core.display.Markdown object>"
      ]
     },
     "metadata": {},
     "output_type": "display_data"
    },
    {
     "name": "stdout",
     "output_type": "stream",
     "text": [
      "     ---- args --------------------------------------------------\n",
      "     run_dir      : /gpfsscratch/rech/ieq/commun/./run/campaign08_bis/RF_class/Class_CI/Class_CI-0001\n",
      "     dataset_id   : compo_CI_class\n",
      "     model_id     : sklearn-rfr-100-5\n",
      "     ---- evaluation --------------------------------------------\n",
      "     id      count        mean           std\n",
      "     0       150           0.94          0.03\n",
      "     1       150           0.06          0.03\n",
      "     2       150           0.06          0.03\n",
      "     ------------------------------------------------------------\n"
     ]
    },
    {
     "data": {
      "text/markdown": [
       "<br>**Class_CI-0002 Comparison of architecture on CI class**"
      ],
      "text/plain": [
       "<IPython.core.display.Markdown object>"
      ]
     },
     "metadata": {},
     "output_type": "display_data"
    },
    {
     "name": "stdout",
     "output_type": "stream",
     "text": [
      "     ---- args --------------------------------------------------\n",
      "     run_dir      : /gpfsscratch/rech/ieq/commun/./run/campaign08_bis/RF_class/Class_CI/Class_CI-0002\n",
      "     dataset_id   : compo_CI_class\n",
      "     model_id     : sklearn-rfr-150-5\n",
      "     ---- evaluation --------------------------------------------\n",
      "     id      count        mean           std\n",
      "     0       150           0.94          0.02\n",
      "     1       150           0.06          0.02\n",
      "     2       150           0.06          0.02\n",
      "     ------------------------------------------------------------\n"
     ]
    },
    {
     "data": {
      "text/markdown": [
       "<br>**Class_CI-0003 Comparison of architecture on CI class**"
      ],
      "text/plain": [
       "<IPython.core.display.Markdown object>"
      ]
     },
     "metadata": {},
     "output_type": "display_data"
    },
    {
     "name": "stdout",
     "output_type": "stream",
     "text": [
      "     ---- args --------------------------------------------------\n",
      "     run_dir      : /gpfsscratch/rech/ieq/commun/./run/campaign08_bis/RF_class/Class_CI/Class_CI-0003\n",
      "     dataset_id   : compo_CI_class\n",
      "     model_id     : sklearn-rfr-50-10\n",
      "     ---- evaluation --------------------------------------------\n",
      "     id      count        mean           std\n",
      "     0       150           0.94          0.03\n",
      "     1       150           0.06          0.03\n",
      "     2       150           0.06          0.03\n",
      "     ------------------------------------------------------------\n"
     ]
    },
    {
     "data": {
      "text/markdown": [
       "<br>**Class_CI-0004 Comparison of architecture on CI class**"
      ],
      "text/plain": [
       "<IPython.core.display.Markdown object>"
      ]
     },
     "metadata": {},
     "output_type": "display_data"
    },
    {
     "name": "stdout",
     "output_type": "stream",
     "text": [
      "     ---- args --------------------------------------------------\n",
      "     run_dir      : /gpfsscratch/rech/ieq/commun/./run/campaign08_bis/RF_class/Class_CI/Class_CI-0004\n",
      "     dataset_id   : compo_CI_class\n",
      "     model_id     : sklearn-rfr-100-10\n",
      "     ---- evaluation --------------------------------------------\n",
      "     id      count        mean           std\n",
      "     0       150           0.94          0.03\n",
      "     1       150           0.06          0.03\n",
      "     2       150           0.06          0.03\n",
      "     ------------------------------------------------------------\n"
     ]
    },
    {
     "data": {
      "text/markdown": [
       "<br>**Class_CI-0005 Comparison of architecture on CI class**"
      ],
      "text/plain": [
       "<IPython.core.display.Markdown object>"
      ]
     },
     "metadata": {},
     "output_type": "display_data"
    },
    {
     "name": "stdout",
     "output_type": "stream",
     "text": [
      "     ---- args --------------------------------------------------\n",
      "     run_dir      : /gpfsscratch/rech/ieq/commun/./run/campaign08_bis/RF_class/Class_CI/Class_CI-0005\n",
      "     dataset_id   : compo_CI_class\n",
      "     model_id     : sklearn-rfr-150-10\n",
      "     ---- evaluation --------------------------------------------\n",
      "     id      count        mean           std\n",
      "     0       150           0.94          0.02\n",
      "     1       150           0.06          0.02\n",
      "     2       150           0.06          0.02\n",
      "     ------------------------------------------------------------\n"
     ]
    },
    {
     "data": {
      "text/markdown": [
       "<br>**Class_CI-0006 Comparison of architecture on CI class**"
      ],
      "text/plain": [
       "<IPython.core.display.Markdown object>"
      ]
     },
     "metadata": {},
     "output_type": "display_data"
    },
    {
     "name": "stdout",
     "output_type": "stream",
     "text": [
      "     ---- args --------------------------------------------------\n",
      "     run_dir      : /gpfsscratch/rech/ieq/commun/./run/campaign08_bis/RF_class/Class_CI/Class_CI-0006\n",
      "     dataset_id   : compo_CI_class\n",
      "     model_id     : sklearn-rfr-50-20\n",
      "     ---- evaluation --------------------------------------------\n",
      "     id      count        mean           std\n",
      "     0       150           0.93          0.03\n",
      "     1       150           0.07          0.03\n",
      "     2       150           0.07          0.03\n",
      "     ------------------------------------------------------------\n"
     ]
    },
    {
     "data": {
      "text/markdown": [
       "<br>**Class_CI-0007 Comparison of architecture on CI class**"
      ],
      "text/plain": [
       "<IPython.core.display.Markdown object>"
      ]
     },
     "metadata": {},
     "output_type": "display_data"
    },
    {
     "name": "stdout",
     "output_type": "stream",
     "text": [
      "     ---- args --------------------------------------------------\n",
      "     run_dir      : /gpfsscratch/rech/ieq/commun/./run/campaign08_bis/RF_class/Class_CI/Class_CI-0007\n",
      "     dataset_id   : compo_CI_class\n",
      "     model_id     : sklearn-rfr-100-20\n",
      "     ---- evaluation --------------------------------------------\n",
      "     id      count        mean           std\n",
      "     0       150           0.93          0.03\n",
      "     1       150           0.07          0.03\n",
      "     2       150           0.07          0.03\n",
      "     ------------------------------------------------------------\n"
     ]
    },
    {
     "data": {
      "text/markdown": [
       "<br>**Class_CI-0008 Comparison of architecture on CI class**"
      ],
      "text/plain": [
       "<IPython.core.display.Markdown object>"
      ]
     },
     "metadata": {},
     "output_type": "display_data"
    },
    {
     "name": "stdout",
     "output_type": "stream",
     "text": [
      "     ---- args --------------------------------------------------\n",
      "     run_dir      : /gpfsscratch/rech/ieq/commun/./run/campaign08_bis/RF_class/Class_CI/Class_CI-0008\n",
      "     dataset_id   : compo_CI_class\n",
      "     model_id     : sklearn-rfr-150-20\n",
      "     ---- evaluation --------------------------------------------\n",
      "     id      count        mean           std\n",
      "     0       150           0.93          0.02\n",
      "     1       150           0.07          0.02\n",
      "     2       150           0.07          0.02\n",
      "     ------------------------------------------------------------\n"
     ]
    },
    {
     "data": {
      "text/html": [
       "<a name=\"1.2---Comparison-of-architecture-on-DRX-class----Class_DRX-\"></a>"
      ],
      "text/plain": [
       "<IPython.core.display.HTML object>"
      ]
     },
     "metadata": {},
     "output_type": "display_data"
    },
    {
     "data": {
      "text/markdown": [
       "## 1.2 - Comparison of architecture on DRX class - (Class_DRX)"
      ],
      "text/plain": [
       "<IPython.core.display.Markdown object>"
      ]
     },
     "metadata": {},
     "output_type": "display_data"
    },
    {
     "data": {
      "text/markdown": [
       "[(Sommaire)](#Sommaire)"
      ],
      "text/plain": [
       "<IPython.core.display.Markdown object>"
      ]
     },
     "metadata": {},
     "output_type": "display_data"
    },
    {
     "data": {
      "text/markdown": [
       "Report for : **/Users/elisegarel/Desktop/PUBLI/run//./campaign08/RF_c/Class_DRX**"
      ],
      "text/plain": [
       "<IPython.core.display.Markdown object>"
      ]
     },
     "metadata": {},
     "output_type": "display_data"
    },
    {
     "data": {
      "text/markdown": [
       "This report have **9** parts :"
      ],
      "text/plain": [
       "<IPython.core.display.Markdown object>"
      ]
     },
     "metadata": {},
     "output_type": "display_data"
    },
    {
     "data": {
      "text/markdown": [
       "  - Class_DRX-0000\n",
       "  - Class_DRX-0001\n",
       "  - Class_DRX-0002\n",
       "  - Class_DRX-0003\n",
       "  - Class_DRX-0004\n",
       "  - Class_DRX-0005\n",
       "  - Class_DRX-0006\n",
       "  - Class_DRX-0007\n",
       "  - Class_DRX-0008"
      ],
      "text/plain": [
       "<IPython.core.display.Markdown object>"
      ]
     },
     "metadata": {},
     "output_type": "display_data"
    },
    {
     "data": {
      "text/markdown": [
       "<br>**Class_DRX-0000 Comparison of architecture on DRX class**"
      ],
      "text/plain": [
       "<IPython.core.display.Markdown object>"
      ]
     },
     "metadata": {},
     "output_type": "display_data"
    },
    {
     "name": "stdout",
     "output_type": "stream",
     "text": [
      "     ---- args --------------------------------------------------\n",
      "     run_dir      : /gpfsscratch/rech/ieq/commun/./run/campaign08_bis/RF_class/Class_DRX/Class_DRX-0000\n",
      "     dataset_id   : compo_DRX_class\n",
      "     model_id     : sklearn-rfr-50-5\n",
      "     ---- evaluation --------------------------------------------\n",
      "     id      count        mean           std\n",
      "     0       150           0.92          0.03\n",
      "     1       150           0.08          0.03\n",
      "     2       150           0.08          0.03\n",
      "     ------------------------------------------------------------\n"
     ]
    },
    {
     "data": {
      "text/markdown": [
       "<br>**Class_DRX-0001 Comparison of architecture on DRX class**"
      ],
      "text/plain": [
       "<IPython.core.display.Markdown object>"
      ]
     },
     "metadata": {},
     "output_type": "display_data"
    },
    {
     "name": "stdout",
     "output_type": "stream",
     "text": [
      "     ---- args --------------------------------------------------\n",
      "     run_dir      : /gpfsscratch/rech/ieq/commun/./run/campaign08_bis/RF_class/Class_DRX/Class_DRX-0001\n",
      "     dataset_id   : compo_DRX_class\n",
      "     model_id     : sklearn-rfr-100-5\n",
      "     ---- evaluation --------------------------------------------\n",
      "     id      count        mean           std\n",
      "     0       150           0.93          0.03\n",
      "     1       150           0.07          0.03\n",
      "     2       150           0.07          0.03\n",
      "     ------------------------------------------------------------\n"
     ]
    },
    {
     "data": {
      "text/markdown": [
       "<br>**Class_DRX-0002 Comparison of architecture on DRX class**"
      ],
      "text/plain": [
       "<IPython.core.display.Markdown object>"
      ]
     },
     "metadata": {},
     "output_type": "display_data"
    },
    {
     "name": "stdout",
     "output_type": "stream",
     "text": [
      "     ---- args --------------------------------------------------\n",
      "     run_dir      : /gpfsscratch/rech/ieq/commun/./run/campaign08_bis/RF_class/Class_DRX/Class_DRX-0002\n",
      "     dataset_id   : compo_DRX_class\n",
      "     model_id     : sklearn-rfr-150-5\n",
      "     ---- evaluation --------------------------------------------\n",
      "     id      count        mean           std\n",
      "     0       150           0.93          0.02\n",
      "     1       150           0.07          0.02\n",
      "     2       150           0.07          0.02\n",
      "     ------------------------------------------------------------\n"
     ]
    },
    {
     "data": {
      "text/markdown": [
       "<br>**Class_DRX-0003 Comparison of architecture on DRX class**"
      ],
      "text/plain": [
       "<IPython.core.display.Markdown object>"
      ]
     },
     "metadata": {},
     "output_type": "display_data"
    },
    {
     "name": "stdout",
     "output_type": "stream",
     "text": [
      "     ---- args --------------------------------------------------\n",
      "     run_dir      : /gpfsscratch/rech/ieq/commun/./run/campaign08_bis/RF_class/Class_DRX/Class_DRX-0003\n",
      "     dataset_id   : compo_DRX_class\n",
      "     model_id     : sklearn-rfr-50-10\n",
      "     ---- evaluation --------------------------------------------\n",
      "     id      count        mean           std\n",
      "     0       150           0.92          0.03\n",
      "     1       150           0.08          0.03\n",
      "     2       150           0.08          0.03\n",
      "     ------------------------------------------------------------\n"
     ]
    },
    {
     "data": {
      "text/markdown": [
       "<br>**Class_DRX-0004 Comparison of architecture on DRX class**"
      ],
      "text/plain": [
       "<IPython.core.display.Markdown object>"
      ]
     },
     "metadata": {},
     "output_type": "display_data"
    },
    {
     "name": "stdout",
     "output_type": "stream",
     "text": [
      "     ---- args --------------------------------------------------\n",
      "     run_dir      : /gpfsscratch/rech/ieq/commun/./run/campaign08_bis/RF_class/Class_DRX/Class_DRX-0004\n",
      "     dataset_id   : compo_DRX_class\n",
      "     model_id     : sklearn-rfr-100-10\n",
      "     ---- evaluation --------------------------------------------\n",
      "     id      count        mean           std\n",
      "     0       150           0.92          0.03\n",
      "     1       150           0.08          0.03\n",
      "     2       150           0.08          0.03\n",
      "     ------------------------------------------------------------\n"
     ]
    },
    {
     "data": {
      "text/markdown": [
       "<br>**Class_DRX-0005 Comparison of architecture on DRX class**"
      ],
      "text/plain": [
       "<IPython.core.display.Markdown object>"
      ]
     },
     "metadata": {},
     "output_type": "display_data"
    },
    {
     "name": "stdout",
     "output_type": "stream",
     "text": [
      "     ---- args --------------------------------------------------\n",
      "     run_dir      : /gpfsscratch/rech/ieq/commun/./run/campaign08_bis/RF_class/Class_DRX/Class_DRX-0005\n",
      "     dataset_id   : compo_DRX_class\n",
      "     model_id     : sklearn-rfr-150-10\n",
      "     ---- evaluation --------------------------------------------\n",
      "     id      count        mean           std\n",
      "     0       150           0.92          0.03\n",
      "     1       150           0.08          0.03\n",
      "     2       150           0.08          0.03\n",
      "     ------------------------------------------------------------\n"
     ]
    },
    {
     "data": {
      "text/markdown": [
       "<br>**Class_DRX-0006 Comparison of architecture on DRX class**"
      ],
      "text/plain": [
       "<IPython.core.display.Markdown object>"
      ]
     },
     "metadata": {},
     "output_type": "display_data"
    },
    {
     "name": "stdout",
     "output_type": "stream",
     "text": [
      "     ---- args --------------------------------------------------\n",
      "     run_dir      : /gpfsscratch/rech/ieq/commun/./run/campaign08_bis/RF_class/Class_DRX/Class_DRX-0006\n",
      "     dataset_id   : compo_DRX_class\n",
      "     model_id     : sklearn-rfr-50-20\n",
      "     ---- evaluation --------------------------------------------\n",
      "     id      count        mean           std\n",
      "     0       150           0.90          0.03\n",
      "     1       150           0.10          0.03\n",
      "     2       150           0.10          0.03\n",
      "     ------------------------------------------------------------\n"
     ]
    },
    {
     "data": {
      "text/markdown": [
       "<br>**Class_DRX-0007 Comparison of architecture on DRX class**"
      ],
      "text/plain": [
       "<IPython.core.display.Markdown object>"
      ]
     },
     "metadata": {},
     "output_type": "display_data"
    },
    {
     "name": "stdout",
     "output_type": "stream",
     "text": [
      "     ---- args --------------------------------------------------\n",
      "     run_dir      : /gpfsscratch/rech/ieq/commun/./run/campaign08_bis/RF_class/Class_DRX/Class_DRX-0007\n",
      "     dataset_id   : compo_DRX_class\n",
      "     model_id     : sklearn-rfr-100-20\n",
      "     ---- evaluation --------------------------------------------\n",
      "     id      count        mean           std\n",
      "     0       150           0.90          0.03\n",
      "     1       150           0.10          0.03\n",
      "     2       150           0.10          0.03\n",
      "     ------------------------------------------------------------\n"
     ]
    },
    {
     "data": {
      "text/markdown": [
       "<br>**Class_DRX-0008 Comparison of architecture on DRX class**"
      ],
      "text/plain": [
       "<IPython.core.display.Markdown object>"
      ]
     },
     "metadata": {},
     "output_type": "display_data"
    },
    {
     "name": "stdout",
     "output_type": "stream",
     "text": [
      "     ---- args --------------------------------------------------\n",
      "     run_dir      : /gpfsscratch/rech/ieq/commun/./run/campaign08_bis/RF_class/Class_DRX/Class_DRX-0008\n",
      "     dataset_id   : compo_DRX_class\n",
      "     model_id     : sklearn-rfr-150-20\n",
      "     ---- evaluation --------------------------------------------\n",
      "     id      count        mean           std\n",
      "     0       150           0.90          0.04\n",
      "     1       150           0.10          0.04\n",
      "     2       150           0.10          0.04\n",
      "     ------------------------------------------------------------\n"
     ]
    },
    {
     "data": {
      "text/markdown": [
       "# 2. Long reports"
      ],
      "text/plain": [
       "<IPython.core.display.Markdown object>"
      ]
     },
     "metadata": {},
     "output_type": "display_data"
    },
    {
     "data": {
      "text/html": [
       "<a name=\"2.1---Comparison-of-architecture-on-CI-class----Class_CI-\"></a>"
      ],
      "text/plain": [
       "<IPython.core.display.HTML object>"
      ]
     },
     "metadata": {},
     "output_type": "display_data"
    },
    {
     "data": {
      "text/markdown": [
       "## 2.1 - Comparison of architecture on CI class - (Class_CI)"
      ],
      "text/plain": [
       "<IPython.core.display.Markdown object>"
      ]
     },
     "metadata": {},
     "output_type": "display_data"
    },
    {
     "data": {
      "text/markdown": [
       "[(Sommaire)](#Sommaire)"
      ],
      "text/plain": [
       "<IPython.core.display.Markdown object>"
      ]
     },
     "metadata": {},
     "output_type": "display_data"
    },
    {
     "data": {
      "text/markdown": [
       "Report for : **/Users/elisegarel/Desktop/PUBLI/run//./campaign08/RF_c/Class_CI**"
      ],
      "text/plain": [
       "<IPython.core.display.Markdown object>"
      ]
     },
     "metadata": {},
     "output_type": "display_data"
    },
    {
     "data": {
      "text/markdown": [
       "This report have **9** parts :"
      ],
      "text/plain": [
       "<IPython.core.display.Markdown object>"
      ]
     },
     "metadata": {},
     "output_type": "display_data"
    },
    {
     "data": {
      "text/markdown": [
       "  - Class_CI-0000\n",
       "  - Class_CI-0001\n",
       "  - Class_CI-0002\n",
       "  - Class_CI-0003\n",
       "  - Class_CI-0004\n",
       "  - Class_CI-0005\n",
       "  - Class_CI-0006\n",
       "  - Class_CI-0007\n",
       "  - Class_CI-0008"
      ],
      "text/plain": [
       "<IPython.core.display.Markdown object>"
      ]
     },
     "metadata": {},
     "output_type": "display_data"
    },
    {
     "data": {
      "text/markdown": [
       "<br>**Class_CI-0000 Comparison of architecture on CI class**"
      ],
      "text/plain": [
       "<IPython.core.display.Markdown object>"
      ]
     },
     "metadata": {},
     "output_type": "display_data"
    },
    {
     "name": "stdout",
     "output_type": "stream",
     "text": [
      "     ---- context -----------------------------------------------\n",
      "     function     : iterative_manyfold\n",
      "     version      : 2.14\n",
      "     date         : Tuesday 21 December 2021, 22:03:40\n",
      "     description  : Class_CI-0000 Comparison of architecture on CI class\n",
      "     seed         : None\n",
      "     ---- args --------------------------------------------------\n",
      "     run_dir      : /gpfsscratch/rech/ieq/commun/./run/campaign08_bis/RF_class/Class_CI/Class_CI-0000\n",
      "     dataset_id   : compo_CI_class\n",
      "     model_id     : sklearn-rfr-50-5\n",
      "     n_iter       : 30\n",
      "     k_fold       : 5\n",
      "     epochs       : 200\n",
      "     batch_size   : 8\n",
      "     ---- settings ----------------------------------------------\n",
      "     file         : 08.3-RF_class-settings.yml\n",
      "     description  : Test of random forrest architecture.\n",
      "     datasets_dir : /gpfswork/rech/ieq/commun/./datasets\n",
      "     run_dir      : /gpfsscratch/rech/ieq/commun/./run/campaign08_bis/RF_class\n",
      "     ---- evaluation --------------------------------------------\n",
      "     id      count        mean           std\n",
      "     0       150           0.94          0.03\n",
      "     1       150           0.06          0.03\n",
      "     2       150           0.06          0.03\n",
      "     ---- monitoring --------------------------------------------\n",
      "     duration     : 32.24\n",
      "     used_data    : ['74294bc7021bebc7a9f7d18f29fab04c2a20ddc966a5ab3b0694259162396008']\n",
      "     ------------------------------------------------------------\n"
     ]
    },
    {
     "data": {
      "image/png": "[encoded data removed]",
      "text/plain": [
       "<Figure size 360x360 with 1 Axes>"
      ]
     },
     "metadata": {
      "needs_background": "light"
     },
     "output_type": "display_data"
    },
    {
     "name": "stdout",
     "output_type": "stream",
     "text": [
      "y_pred is considered as classes array\n",
      "Nombre de données cumulées :  13920\n"
     ]
    },
    {
     "data": {
      "text/markdown": [
       "**Confusion matrix**"
      ],
      "text/plain": [
       "<IPython.core.display.Markdown object>"
      ]
     },
     "metadata": {},
     "output_type": "display_data"
    },
    {
     "data": {
      "image/png": "[encoded data removed]",
      "text/plain": [
       "<Figure size 576x432 with 2 Axes>"
      ]
     },
     "metadata": {
      "needs_background": "light"
     },
     "output_type": "display_data"
    },
    {
     "data": {
      "text/markdown": [
       "**Classification report**"
      ],
      "text/plain": [
       "<IPython.core.display.Markdown object>"
      ]
     },
     "metadata": {},
     "output_type": "display_data"
    },
    {
     "data": {
      "text/html": [
       "<div>\n",
       "<style scoped>\n",
       "    .dataframe tbody tr th:only-of-type {\n",
       "        vertical-align: middle;\n",
       "    }\n",
       "\n",
       "    .dataframe tbody tr th {\n",
       "        vertical-align: top;\n",
       "    }\n",
       "\n",
       "    .dataframe thead th {\n",
       "        text-align: right;\n",
       "    }\n",
       "</style>\n",
       "<table border=\"1\" class=\"dataframe\">\n",
       "  <thead>\n",
       "    <tr style=\"text-align: right;\">\n",
       "      <th></th>\n",
       "      <th>precision</th>\n",
       "      <th>recall</th>\n",
       "      <th>f1-score</th>\n",
       "      <th>support</th>\n",
       "    </tr>\n",
       "  </thead>\n",
       "  <tbody>\n",
       "    <tr>\n",
       "      <th>0.0</th>\n",
       "      <td>0.947141</td>\n",
       "      <td>0.929971</td>\n",
       "      <td>0.938477</td>\n",
       "      <td>6840.000000</td>\n",
       "    </tr>\n",
       "    <tr>\n",
       "      <th>1.0</th>\n",
       "      <td>0.933509</td>\n",
       "      <td>0.949859</td>\n",
       "      <td>0.941613</td>\n",
       "      <td>7080.000000</td>\n",
       "    </tr>\n",
       "    <tr>\n",
       "      <th>accuracy</th>\n",
       "      <td>0.940086</td>\n",
       "      <td>0.940086</td>\n",
       "      <td>0.940086</td>\n",
       "      <td>0.940086</td>\n",
       "    </tr>\n",
       "    <tr>\n",
       "      <th>macro avg</th>\n",
       "      <td>0.940325</td>\n",
       "      <td>0.939915</td>\n",
       "      <td>0.940045</td>\n",
       "      <td>13920.000000</td>\n",
       "    </tr>\n",
       "    <tr>\n",
       "      <th>weighted avg</th>\n",
       "      <td>0.940208</td>\n",
       "      <td>0.940086</td>\n",
       "      <td>0.940072</td>\n",
       "      <td>13920.000000</td>\n",
       "    </tr>\n",
       "  </tbody>\n",
       "</table>\n",
       "</div>"
      ],
      "text/plain": [
       "              precision    recall  f1-score       support\n",
       "0.0            0.947141  0.929971  0.938477   6840.000000\n",
       "1.0            0.933509  0.949859  0.941613   7080.000000\n",
       "accuracy       0.940086  0.940086  0.940086      0.940086\n",
       "macro avg      0.940325  0.939915  0.940045  13920.000000\n",
       "weighted avg   0.940208  0.940086  0.940072  13920.000000"
      ]
     },
     "metadata": {},
     "output_type": "display_data"
    },
    {
     "data": {
      "text/markdown": [
       "**Hamming Loss**"
      ],
      "text/plain": [
       "<IPython.core.display.Markdown object>"
      ]
     },
     "metadata": {},
     "output_type": "display_data"
    },
    {
     "name": "stdout",
     "output_type": "stream",
     "text": [
      "Hamming loss : 0.060\n"
     ]
    },
    {
     "data": {
      "text/markdown": [
       "<br>**Class_CI-0001 Comparison of architecture on CI class**"
      ],
      "text/plain": [
       "<IPython.core.display.Markdown object>"
      ]
     },
     "metadata": {},
     "output_type": "display_data"
    },
    {
     "name": "stdout",
     "output_type": "stream",
     "text": [
      "     ---- context -----------------------------------------------\n",
      "     function     : iterative_manyfold\n",
      "     version      : 2.14\n",
      "     date         : Tuesday 21 December 2021, 22:03:40\n",
      "     description  : Class_CI-0001 Comparison of architecture on CI class\n",
      "     seed         : None\n",
      "     ---- args --------------------------------------------------\n",
      "     run_dir      : /gpfsscratch/rech/ieq/commun/./run/campaign08_bis/RF_class/Class_CI/Class_CI-0001\n",
      "     dataset_id   : compo_CI_class\n",
      "     model_id     : sklearn-rfr-100-5\n",
      "     n_iter       : 30\n",
      "     k_fold       : 5\n",
      "     epochs       : 200\n",
      "     batch_size   : 8\n",
      "     ---- settings ----------------------------------------------\n",
      "     file         : 08.3-RF_class-settings.yml\n",
      "     description  : Test of random forrest architecture.\n",
      "     datasets_dir : /gpfswork/rech/ieq/commun/./datasets\n",
      "     run_dir      : /gpfsscratch/rech/ieq/commun/./run/campaign08_bis/RF_class\n",
      "     ---- evaluation --------------------------------------------\n",
      "     id      count        mean           std\n",
      "     0       150           0.94          0.03\n",
      "     1       150           0.06          0.03\n",
      "     2       150           0.06          0.03\n",
      "     ---- monitoring --------------------------------------------\n",
      "     duration     : 50.99\n",
      "     used_data    : ['74294bc7021bebc7a9f7d18f29fab04c2a20ddc966a5ab3b0694259162396008']\n",
      "     ------------------------------------------------------------\n"
     ]
    },
    {
     "data": {
      "image/png": "[encoded data removed]",
      "text/plain": [
       "<Figure size 360x360 with 1 Axes>"
      ]
     },
     "metadata": {
      "needs_background": "light"
     },
     "output_type": "display_data"
    },
    {
     "name": "stdout",
     "output_type": "stream",
     "text": [
      "y_pred is considered as classes array\n",
      "Nombre de données cumulées :  13920\n"
     ]
    },
    {
     "data": {
      "text/markdown": [
       "**Confusion matrix**"
      ],
      "text/plain": [
       "<IPython.core.display.Markdown object>"
      ]
     },
     "metadata": {},
     "output_type": "display_data"
    },
    {
     "data": {
      "image/png": "[encoded data removed]",
      "text/plain": [
       "<Figure size 576x432 with 2 Axes>"
      ]
     },
     "metadata": {
      "needs_background": "light"
     },
     "output_type": "display_data"
    },
    {
     "data": {
      "text/markdown": [
       "**Classification report**"
      ],
      "text/plain": [
       "<IPython.core.display.Markdown object>"
      ]
     },
     "metadata": {},
     "output_type": "display_data"
    },
    {
     "data": {
      "text/html": [
       "<div>\n",
       "<style scoped>\n",
       "    .dataframe tbody tr th:only-of-type {\n",
       "        vertical-align: middle;\n",
       "    }\n",
       "\n",
       "    .dataframe tbody tr th {\n",
       "        vertical-align: top;\n",
       "    }\n",
       "\n",
       "    .dataframe thead th {\n",
       "        text-align: right;\n",
       "    }\n",
       "</style>\n",
       "<table border=\"1\" class=\"dataframe\">\n",
       "  <thead>\n",
       "    <tr style=\"text-align: right;\">\n",
       "      <th></th>\n",
       "      <th>precision</th>\n",
       "      <th>recall</th>\n",
       "      <th>f1-score</th>\n",
       "      <th>support</th>\n",
       "    </tr>\n",
       "  </thead>\n",
       "  <tbody>\n",
       "    <tr>\n",
       "      <th>0.0</th>\n",
       "      <td>0.950209</td>\n",
       "      <td>0.929094</td>\n",
       "      <td>0.939533</td>\n",
       "      <td>6840.000000</td>\n",
       "    </tr>\n",
       "    <tr>\n",
       "      <th>1.0</th>\n",
       "      <td>0.932937</td>\n",
       "      <td>0.952966</td>\n",
       "      <td>0.942845</td>\n",
       "      <td>7080.000000</td>\n",
       "    </tr>\n",
       "    <tr>\n",
       "      <th>accuracy</th>\n",
       "      <td>0.941236</td>\n",
       "      <td>0.941236</td>\n",
       "      <td>0.941236</td>\n",
       "      <td>0.941236</td>\n",
       "    </tr>\n",
       "    <tr>\n",
       "      <th>macro avg</th>\n",
       "      <td>0.941573</td>\n",
       "      <td>0.941030</td>\n",
       "      <td>0.941189</td>\n",
       "      <td>13920.000000</td>\n",
       "    </tr>\n",
       "    <tr>\n",
       "      <th>weighted avg</th>\n",
       "      <td>0.941424</td>\n",
       "      <td>0.941236</td>\n",
       "      <td>0.941218</td>\n",
       "      <td>13920.000000</td>\n",
       "    </tr>\n",
       "  </tbody>\n",
       "</table>\n",
       "</div>"
      ],
      "text/plain": [
       "              precision    recall  f1-score       support\n",
       "0.0            0.950209  0.929094  0.939533   6840.000000\n",
       "1.0            0.932937  0.952966  0.942845   7080.000000\n",
       "accuracy       0.941236  0.941236  0.941236      0.941236\n",
       "macro avg      0.941573  0.941030  0.941189  13920.000000\n",
       "weighted avg   0.941424  0.941236  0.941218  13920.000000"
      ]
     },
     "metadata": {},
     "output_type": "display_data"
    },
    {
     "data": {
      "text/markdown": [
       "**Hamming Loss**"
      ],
      "text/plain": [
       "<IPython.core.display.Markdown object>"
      ]
     },
     "metadata": {},
     "output_type": "display_data"
    },
    {
     "name": "stdout",
     "output_type": "stream",
     "text": [
      "Hamming loss : 0.059\n"
     ]
    },
    {
     "data": {
      "text/markdown": [
       "<br>**Class_CI-0002 Comparison of architecture on CI class**"
      ],
      "text/plain": [
       "<IPython.core.display.Markdown object>"
      ]
     },
     "metadata": {},
     "output_type": "display_data"
    },
    {
     "name": "stdout",
     "output_type": "stream",
     "text": [
      "     ---- context -----------------------------------------------\n",
      "     function     : iterative_manyfold\n",
      "     version      : 2.14\n",
      "     date         : Tuesday 21 December 2021, 22:03:40\n",
      "     description  : Class_CI-0002 Comparison of architecture on CI class\n",
      "     seed         : None\n",
      "     ---- args --------------------------------------------------\n",
      "     run_dir      : /gpfsscratch/rech/ieq/commun/./run/campaign08_bis/RF_class/Class_CI/Class_CI-0002\n",
      "     dataset_id   : compo_CI_class\n",
      "     model_id     : sklearn-rfr-150-5\n",
      "     n_iter       : 30\n",
      "     k_fold       : 5\n",
      "     epochs       : 200\n",
      "     batch_size   : 8\n",
      "     ---- settings ----------------------------------------------\n",
      "     file         : 08.3-RF_class-settings.yml\n",
      "     description  : Test of random forrest architecture.\n",
      "     datasets_dir : /gpfswork/rech/ieq/commun/./datasets\n",
      "     run_dir      : /gpfsscratch/rech/ieq/commun/./run/campaign08_bis/RF_class\n",
      "     ---- evaluation --------------------------------------------\n",
      "     id      count        mean           std\n",
      "     0       150           0.94          0.02\n",
      "     1       150           0.06          0.02\n",
      "     2       150           0.06          0.02\n",
      "     ---- monitoring --------------------------------------------\n",
      "     duration     : 68.74\n",
      "     used_data    : ['74294bc7021bebc7a9f7d18f29fab04c2a20ddc966a5ab3b0694259162396008']\n",
      "     ------------------------------------------------------------\n"
     ]
    },
    {
     "data": {
      "image/png": "[encoded data removed]",
      "text/plain": [
       "<Figure size 360x360 with 1 Axes>"
      ]
     },
     "metadata": {
      "needs_background": "light"
     },
     "output_type": "display_data"
    },
    {
     "name": "stdout",
     "output_type": "stream",
     "text": [
      "y_pred is considered as classes array\n",
      "Nombre de données cumulées :  13920\n"
     ]
    },
    {
     "data": {
      "text/markdown": [
       "**Confusion matrix**"
      ],
      "text/plain": [
       "<IPython.core.display.Markdown object>"
      ]
     },
     "metadata": {},
     "output_type": "display_data"
    },
    {
     "data": {
      "image/png": "[encoded data removed]",
      "text/plain": [
       "<Figure size 576x432 with 2 Axes>"
      ]
     },
     "metadata": {
      "needs_background": "light"
     },
     "output_type": "display_data"
    },
    {
     "data": {
      "text/markdown": [
       "**Classification report**"
      ],
      "text/plain": [
       "<IPython.core.display.Markdown object>"
      ]
     },
     "metadata": {},
     "output_type": "display_data"
    },
    {
     "data": {
      "text/html": [
       "<div>\n",
       "<style scoped>\n",
       "    .dataframe tbody tr th:only-of-type {\n",
       "        vertical-align: middle;\n",
       "    }\n",
       "\n",
       "    .dataframe tbody tr th {\n",
       "        vertical-align: top;\n",
       "    }\n",
       "\n",
       "    .dataframe thead th {\n",
       "        text-align: right;\n",
       "    }\n",
       "</style>\n",
       "<table border=\"1\" class=\"dataframe\">\n",
       "  <thead>\n",
       "    <tr style=\"text-align: right;\">\n",
       "      <th></th>\n",
       "      <th>precision</th>\n",
       "      <th>recall</th>\n",
       "      <th>f1-score</th>\n",
       "      <th>support</th>\n",
       "    </tr>\n",
       "  </thead>\n",
       "  <tbody>\n",
       "    <tr>\n",
       "      <th>0.0</th>\n",
       "      <td>0.950351</td>\n",
       "      <td>0.929094</td>\n",
       "      <td>0.939602</td>\n",
       "      <td>6840.000000</td>\n",
       "    </tr>\n",
       "    <tr>\n",
       "      <th>1.0</th>\n",
       "      <td>0.932946</td>\n",
       "      <td>0.953107</td>\n",
       "      <td>0.942919</td>\n",
       "      <td>7080.000000</td>\n",
       "    </tr>\n",
       "    <tr>\n",
       "      <th>accuracy</th>\n",
       "      <td>0.941307</td>\n",
       "      <td>0.941307</td>\n",
       "      <td>0.941307</td>\n",
       "      <td>0.941307</td>\n",
       "    </tr>\n",
       "    <tr>\n",
       "      <th>macro avg</th>\n",
       "      <td>0.941649</td>\n",
       "      <td>0.941100</td>\n",
       "      <td>0.941261</td>\n",
       "      <td>13920.000000</td>\n",
       "    </tr>\n",
       "    <tr>\n",
       "      <th>weighted avg</th>\n",
       "      <td>0.941499</td>\n",
       "      <td>0.941307</td>\n",
       "      <td>0.941289</td>\n",
       "      <td>13920.000000</td>\n",
       "    </tr>\n",
       "  </tbody>\n",
       "</table>\n",
       "</div>"
      ],
      "text/plain": [
       "              precision    recall  f1-score       support\n",
       "0.0            0.950351  0.929094  0.939602   6840.000000\n",
       "1.0            0.932946  0.953107  0.942919   7080.000000\n",
       "accuracy       0.941307  0.941307  0.941307      0.941307\n",
       "macro avg      0.941649  0.941100  0.941261  13920.000000\n",
       "weighted avg   0.941499  0.941307  0.941289  13920.000000"
      ]
     },
     "metadata": {},
     "output_type": "display_data"
    },
    {
     "data": {
      "text/markdown": [
       "**Hamming Loss**"
      ],
      "text/plain": [
       "<IPython.core.display.Markdown object>"
      ]
     },
     "metadata": {},
     "output_type": "display_data"
    },
    {
     "name": "stdout",
     "output_type": "stream",
     "text": [
      "Hamming loss : 0.059\n"
     ]
    },
    {
     "data": {
      "text/markdown": [
       "<br>**Class_CI-0003 Comparison of architecture on CI class**"
      ],
      "text/plain": [
       "<IPython.core.display.Markdown object>"
      ]
     },
     "metadata": {},
     "output_type": "display_data"
    },
    {
     "name": "stdout",
     "output_type": "stream",
     "text": [
      "     ---- context -----------------------------------------------\n",
      "     function     : iterative_manyfold\n",
      "     version      : 2.14\n",
      "     date         : Tuesday 21 December 2021, 22:03:40\n",
      "     description  : Class_CI-0003 Comparison of architecture on CI class\n",
      "     seed         : None\n",
      "     ---- args --------------------------------------------------\n",
      "     run_dir      : /gpfsscratch/rech/ieq/commun/./run/campaign08_bis/RF_class/Class_CI/Class_CI-0003\n",
      "     dataset_id   : compo_CI_class\n",
      "     model_id     : sklearn-rfr-50-10\n",
      "     n_iter       : 30\n",
      "     k_fold       : 5\n",
      "     epochs       : 200\n",
      "     batch_size   : 8\n",
      "     ---- settings ----------------------------------------------\n",
      "     file         : 08.3-RF_class-settings.yml\n",
      "     description  : Test of random forrest architecture.\n",
      "     datasets_dir : /gpfswork/rech/ieq/commun/./datasets\n",
      "     run_dir      : /gpfsscratch/rech/ieq/commun/./run/campaign08_bis/RF_class\n",
      "     ---- evaluation --------------------------------------------\n",
      "     id      count        mean           std\n",
      "     0       150           0.94          0.03\n",
      "     1       150           0.06          0.03\n",
      "     2       150           0.06          0.03\n",
      "     ---- monitoring --------------------------------------------\n",
      "     duration     : 32.42\n",
      "     used_data    : ['74294bc7021bebc7a9f7d18f29fab04c2a20ddc966a5ab3b0694259162396008']\n",
      "     ------------------------------------------------------------\n"
     ]
    },
    {
     "data": {
      "image/png": "[encoded data removed]",
      "text/plain": [
       "<Figure size 360x360 with 1 Axes>"
      ]
     },
     "metadata": {
      "needs_background": "light"
     },
     "output_type": "display_data"
    },
    {
     "name": "stdout",
     "output_type": "stream",
     "text": [
      "y_pred is considered as classes array\n",
      "Nombre de données cumulées :  13920\n"
     ]
    },
    {
     "data": {
      "text/markdown": [
       "**Confusion matrix**"
      ],
      "text/plain": [
       "<IPython.core.display.Markdown object>"
      ]
     },
     "metadata": {},
     "output_type": "display_data"
    },
    {
     "data": {
      "image/png": "[encoded data removed]",
      "text/plain": [
       "<Figure size 576x432 with 2 Axes>"
      ]
     },
     "metadata": {
      "needs_background": "light"
     },
     "output_type": "display_data"
    },
    {
     "data": {
      "text/markdown": [
       "**Classification report**"
      ],
      "text/plain": [
       "<IPython.core.display.Markdown object>"
      ]
     },
     "metadata": {},
     "output_type": "display_data"
    },
    {
     "data": {
      "text/html": [
       "<div>\n",
       "<style scoped>\n",
       "    .dataframe tbody tr th:only-of-type {\n",
       "        vertical-align: middle;\n",
       "    }\n",
       "\n",
       "    .dataframe tbody tr th {\n",
       "        vertical-align: top;\n",
       "    }\n",
       "\n",
       "    .dataframe thead th {\n",
       "        text-align: right;\n",
       "    }\n",
       "</style>\n",
       "<table border=\"1\" class=\"dataframe\">\n",
       "  <thead>\n",
       "    <tr style=\"text-align: right;\">\n",
       "      <th></th>\n",
       "      <th>precision</th>\n",
       "      <th>recall</th>\n",
       "      <th>f1-score</th>\n",
       "      <th>support</th>\n",
       "    </tr>\n",
       "  </thead>\n",
       "  <tbody>\n",
       "    <tr>\n",
       "      <th>0.0</th>\n",
       "      <td>0.945873</td>\n",
       "      <td>0.924854</td>\n",
       "      <td>0.935245</td>\n",
       "      <td>6840.000000</td>\n",
       "    </tr>\n",
       "    <tr>\n",
       "      <th>1.0</th>\n",
       "      <td>0.928927</td>\n",
       "      <td>0.948870</td>\n",
       "      <td>0.938793</td>\n",
       "      <td>7080.000000</td>\n",
       "    </tr>\n",
       "    <tr>\n",
       "      <th>accuracy</th>\n",
       "      <td>0.937069</td>\n",
       "      <td>0.937069</td>\n",
       "      <td>0.937069</td>\n",
       "      <td>0.937069</td>\n",
       "    </tr>\n",
       "    <tr>\n",
       "      <th>macro avg</th>\n",
       "      <td>0.937400</td>\n",
       "      <td>0.936862</td>\n",
       "      <td>0.937019</td>\n",
       "      <td>13920.000000</td>\n",
       "    </tr>\n",
       "    <tr>\n",
       "      <th>weighted avg</th>\n",
       "      <td>0.937254</td>\n",
       "      <td>0.937069</td>\n",
       "      <td>0.937050</td>\n",
       "      <td>13920.000000</td>\n",
       "    </tr>\n",
       "  </tbody>\n",
       "</table>\n",
       "</div>"
      ],
      "text/plain": [
       "              precision    recall  f1-score       support\n",
       "0.0            0.945873  0.924854  0.935245   6840.000000\n",
       "1.0            0.928927  0.948870  0.938793   7080.000000\n",
       "accuracy       0.937069  0.937069  0.937069      0.937069\n",
       "macro avg      0.937400  0.936862  0.937019  13920.000000\n",
       "weighted avg   0.937254  0.937069  0.937050  13920.000000"
      ]
     },
     "metadata": {},
     "output_type": "display_data"
    },
    {
     "data": {
      "text/markdown": [
       "**Hamming Loss**"
      ],
      "text/plain": [
       "<IPython.core.display.Markdown object>"
      ]
     },
     "metadata": {},
     "output_type": "display_data"
    },
    {
     "name": "stdout",
     "output_type": "stream",
     "text": [
      "Hamming loss : 0.063\n"
     ]
    },
    {
     "data": {
      "text/markdown": [
       "<br>**Class_CI-0004 Comparison of architecture on CI class**"
      ],
      "text/plain": [
       "<IPython.core.display.Markdown object>"
      ]
     },
     "metadata": {},
     "output_type": "display_data"
    },
    {
     "name": "stdout",
     "output_type": "stream",
     "text": [
      "     ---- context -----------------------------------------------\n",
      "     function     : iterative_manyfold\n",
      "     version      : 2.14\n",
      "     date         : Tuesday 21 December 2021, 22:03:40\n",
      "     description  : Class_CI-0004 Comparison of architecture on CI class\n",
      "     seed         : None\n",
      "     ---- args --------------------------------------------------\n",
      "     run_dir      : /gpfsscratch/rech/ieq/commun/./run/campaign08_bis/RF_class/Class_CI/Class_CI-0004\n",
      "     dataset_id   : compo_CI_class\n",
      "     model_id     : sklearn-rfr-100-10\n",
      "     n_iter       : 30\n",
      "     k_fold       : 5\n",
      "     epochs       : 200\n",
      "     batch_size   : 8\n",
      "     ---- settings ----------------------------------------------\n",
      "     file         : 08.3-RF_class-settings.yml\n",
      "     description  : Test of random forrest architecture.\n",
      "     datasets_dir : /gpfswork/rech/ieq/commun/./datasets\n",
      "     run_dir      : /gpfsscratch/rech/ieq/commun/./run/campaign08_bis/RF_class\n",
      "     ---- evaluation --------------------------------------------\n",
      "     id      count        mean           std\n",
      "     0       150           0.94          0.03\n",
      "     1       150           0.06          0.03\n",
      "     2       150           0.06          0.03\n",
      "     ---- monitoring --------------------------------------------\n",
      "     duration     : 42.39\n",
      "     used_data    : ['74294bc7021bebc7a9f7d18f29fab04c2a20ddc966a5ab3b0694259162396008']\n",
      "     ------------------------------------------------------------\n"
     ]
    },
    {
     "data": {
      "image/png": "[encoded data removed]",
      "text/plain": [
       "<Figure size 360x360 with 1 Axes>"
      ]
     },
     "metadata": {
      "needs_background": "light"
     },
     "output_type": "display_data"
    },
    {
     "name": "stdout",
     "output_type": "stream",
     "text": [
      "y_pred is considered as classes array\n",
      "Nombre de données cumulées :  13920\n"
     ]
    },
    {
     "data": {
      "text/markdown": [
       "**Confusion matrix**"
      ],
      "text/plain": [
       "<IPython.core.display.Markdown object>"
      ]
     },
     "metadata": {},
     "output_type": "display_data"
    },
    {
     "data": {
      "image/png": "[encoded data removed]",
      "text/plain": [
       "<Figure size 576x432 with 2 Axes>"
      ]
     },
     "metadata": {
      "needs_background": "light"
     },
     "output_type": "display_data"
    },
    {
     "data": {
      "text/markdown": [
       "**Classification report**"
      ],
      "text/plain": [
       "<IPython.core.display.Markdown object>"
      ]
     },
     "metadata": {},
     "output_type": "display_data"
    },
    {
     "data": {
      "text/html": [
       "<div>\n",
       "<style scoped>\n",
       "    .dataframe tbody tr th:only-of-type {\n",
       "        vertical-align: middle;\n",
       "    }\n",
       "\n",
       "    .dataframe tbody tr th {\n",
       "        vertical-align: top;\n",
       "    }\n",
       "\n",
       "    .dataframe thead th {\n",
       "        text-align: right;\n",
       "    }\n",
       "</style>\n",
       "<table border=\"1\" class=\"dataframe\">\n",
       "  <thead>\n",
       "    <tr style=\"text-align: right;\">\n",
       "      <th></th>\n",
       "      <th>precision</th>\n",
       "      <th>recall</th>\n",
       "      <th>f1-score</th>\n",
       "      <th>support</th>\n",
       "    </tr>\n",
       "  </thead>\n",
       "  <tbody>\n",
       "    <tr>\n",
       "      <th>0.0</th>\n",
       "      <td>0.948845</td>\n",
       "      <td>0.924708</td>\n",
       "      <td>0.936621</td>\n",
       "      <td>6840.000000</td>\n",
       "    </tr>\n",
       "    <tr>\n",
       "      <th>1.0</th>\n",
       "      <td>0.929005</td>\n",
       "      <td>0.951836</td>\n",
       "      <td>0.940282</td>\n",
       "      <td>7080.000000</td>\n",
       "    </tr>\n",
       "    <tr>\n",
       "      <th>accuracy</th>\n",
       "      <td>0.938506</td>\n",
       "      <td>0.938506</td>\n",
       "      <td>0.938506</td>\n",
       "      <td>0.938506</td>\n",
       "    </tr>\n",
       "    <tr>\n",
       "      <th>macro avg</th>\n",
       "      <td>0.938925</td>\n",
       "      <td>0.938272</td>\n",
       "      <td>0.938451</td>\n",
       "      <td>13920.000000</td>\n",
       "    </tr>\n",
       "    <tr>\n",
       "      <th>weighted avg</th>\n",
       "      <td>0.938754</td>\n",
       "      <td>0.938506</td>\n",
       "      <td>0.938483</td>\n",
       "      <td>13920.000000</td>\n",
       "    </tr>\n",
       "  </tbody>\n",
       "</table>\n",
       "</div>"
      ],
      "text/plain": [
       "              precision    recall  f1-score       support\n",
       "0.0            0.948845  0.924708  0.936621   6840.000000\n",
       "1.0            0.929005  0.951836  0.940282   7080.000000\n",
       "accuracy       0.938506  0.938506  0.938506      0.938506\n",
       "macro avg      0.938925  0.938272  0.938451  13920.000000\n",
       "weighted avg   0.938754  0.938506  0.938483  13920.000000"
      ]
     },
     "metadata": {},
     "output_type": "display_data"
    },
    {
     "data": {
      "text/markdown": [
       "**Hamming Loss**"
      ],
      "text/plain": [
       "<IPython.core.display.Markdown object>"
      ]
     },
     "metadata": {},
     "output_type": "display_data"
    },
    {
     "name": "stdout",
     "output_type": "stream",
     "text": [
      "Hamming loss : 0.061\n"
     ]
    },
    {
     "data": {
      "text/markdown": [
       "<br>**Class_CI-0005 Comparison of architecture on CI class**"
      ],
      "text/plain": [
       "<IPython.core.display.Markdown object>"
      ]
     },
     "metadata": {},
     "output_type": "display_data"
    },
    {
     "name": "stdout",
     "output_type": "stream",
     "text": [
      "     ---- context -----------------------------------------------\n",
      "     function     : iterative_manyfold\n",
      "     version      : 2.14\n",
      "     date         : Tuesday 21 December 2021, 22:03:40\n",
      "     description  : Class_CI-0005 Comparison of architecture on CI class\n",
      "     seed         : None\n",
      "     ---- args --------------------------------------------------\n",
      "     run_dir      : /gpfsscratch/rech/ieq/commun/./run/campaign08_bis/RF_class/Class_CI/Class_CI-0005\n",
      "     dataset_id   : compo_CI_class\n",
      "     model_id     : sklearn-rfr-150-10\n",
      "     n_iter       : 30\n",
      "     k_fold       : 5\n",
      "     epochs       : 200\n",
      "     batch_size   : 8\n",
      "     ---- settings ----------------------------------------------\n",
      "     file         : 08.3-RF_class-settings.yml\n",
      "     description  : Test of random forrest architecture.\n",
      "     datasets_dir : /gpfswork/rech/ieq/commun/./datasets\n",
      "     run_dir      : /gpfsscratch/rech/ieq/commun/./run/campaign08_bis/RF_class\n",
      "     ---- evaluation --------------------------------------------\n",
      "     id      count        mean           std\n",
      "     0       150           0.94          0.02\n",
      "     1       150           0.06          0.02\n",
      "     2       150           0.06          0.02\n",
      "     ---- monitoring --------------------------------------------\n",
      "     duration     : 54.77\n",
      "     used_data    : ['74294bc7021bebc7a9f7d18f29fab04c2a20ddc966a5ab3b0694259162396008']\n",
      "     ------------------------------------------------------------\n"
     ]
    },
    {
     "data": {
      "image/png": "[encoded data removed]",
      "text/plain": [
       "<Figure size 360x360 with 1 Axes>"
      ]
     },
     "metadata": {
      "needs_background": "light"
     },
     "output_type": "display_data"
    },
    {
     "name": "stdout",
     "output_type": "stream",
     "text": [
      "y_pred is considered as classes array\n",
      "Nombre de données cumulées :  13920\n"
     ]
    },
    {
     "data": {
      "text/markdown": [
       "**Confusion matrix**"
      ],
      "text/plain": [
       "<IPython.core.display.Markdown object>"
      ]
     },
     "metadata": {},
     "output_type": "display_data"
    },
    {
     "data": {
      "image/png": "[encoded data removed]",
      "text/plain": [
       "<Figure size 576x432 with 2 Axes>"
      ]
     },
     "metadata": {
      "needs_background": "light"
     },
     "output_type": "display_data"
    },
    {
     "data": {
      "text/markdown": [
       "**Classification report**"
      ],
      "text/plain": [
       "<IPython.core.display.Markdown object>"
      ]
     },
     "metadata": {},
     "output_type": "display_data"
    },
    {
     "data": {
      "text/html": [
       "<div>\n",
       "<style scoped>\n",
       "    .dataframe tbody tr th:only-of-type {\n",
       "        vertical-align: middle;\n",
       "    }\n",
       "\n",
       "    .dataframe tbody tr th {\n",
       "        vertical-align: top;\n",
       "    }\n",
       "\n",
       "    .dataframe thead th {\n",
       "        text-align: right;\n",
       "    }\n",
       "</style>\n",
       "<table border=\"1\" class=\"dataframe\">\n",
       "  <thead>\n",
       "    <tr style=\"text-align: right;\">\n",
       "      <th></th>\n",
       "      <th>precision</th>\n",
       "      <th>recall</th>\n",
       "      <th>f1-score</th>\n",
       "      <th>support</th>\n",
       "    </tr>\n",
       "  </thead>\n",
       "  <tbody>\n",
       "    <tr>\n",
       "      <th>0.0</th>\n",
       "      <td>0.946589</td>\n",
       "      <td>0.925000</td>\n",
       "      <td>0.935670</td>\n",
       "      <td>6840.0000</td>\n",
       "    </tr>\n",
       "    <tr>\n",
       "      <th>1.0</th>\n",
       "      <td>0.929104</td>\n",
       "      <td>0.949576</td>\n",
       "      <td>0.939229</td>\n",
       "      <td>7080.0000</td>\n",
       "    </tr>\n",
       "    <tr>\n",
       "      <th>accuracy</th>\n",
       "      <td>0.937500</td>\n",
       "      <td>0.937500</td>\n",
       "      <td>0.937500</td>\n",
       "      <td>0.9375</td>\n",
       "    </tr>\n",
       "    <tr>\n",
       "      <th>macro avg</th>\n",
       "      <td>0.937847</td>\n",
       "      <td>0.937288</td>\n",
       "      <td>0.937449</td>\n",
       "      <td>13920.0000</td>\n",
       "    </tr>\n",
       "    <tr>\n",
       "      <th>weighted avg</th>\n",
       "      <td>0.937696</td>\n",
       "      <td>0.937500</td>\n",
       "      <td>0.937480</td>\n",
       "      <td>13920.0000</td>\n",
       "    </tr>\n",
       "  </tbody>\n",
       "</table>\n",
       "</div>"
      ],
      "text/plain": [
       "              precision    recall  f1-score     support\n",
       "0.0            0.946589  0.925000  0.935670   6840.0000\n",
       "1.0            0.929104  0.949576  0.939229   7080.0000\n",
       "accuracy       0.937500  0.937500  0.937500      0.9375\n",
       "macro avg      0.937847  0.937288  0.937449  13920.0000\n",
       "weighted avg   0.937696  0.937500  0.937480  13920.0000"
      ]
     },
     "metadata": {},
     "output_type": "display_data"
    },
    {
     "data": {
      "text/markdown": [
       "**Hamming Loss**"
      ],
      "text/plain": [
       "<IPython.core.display.Markdown object>"
      ]
     },
     "metadata": {},
     "output_type": "display_data"
    },
    {
     "name": "stdout",
     "output_type": "stream",
     "text": [
      "Hamming loss : 0.062\n"
     ]
    },
    {
     "data": {
      "text/markdown": [
       "<br>**Class_CI-0006 Comparison of architecture on CI class**"
      ],
      "text/plain": [
       "<IPython.core.display.Markdown object>"
      ]
     },
     "metadata": {},
     "output_type": "display_data"
    },
    {
     "name": "stdout",
     "output_type": "stream",
     "text": [
      "     ---- context -----------------------------------------------\n",
      "     function     : iterative_manyfold\n",
      "     version      : 2.14\n",
      "     date         : Tuesday 21 December 2021, 22:03:40\n",
      "     description  : Class_CI-0006 Comparison of architecture on CI class\n",
      "     seed         : None\n",
      "     ---- args --------------------------------------------------\n",
      "     run_dir      : /gpfsscratch/rech/ieq/commun/./run/campaign08_bis/RF_class/Class_CI/Class_CI-0006\n",
      "     dataset_id   : compo_CI_class\n",
      "     model_id     : sklearn-rfr-50-20\n",
      "     n_iter       : 30\n",
      "     k_fold       : 5\n",
      "     epochs       : 200\n",
      "     batch_size   : 8\n",
      "     ---- settings ----------------------------------------------\n",
      "     file         : 08.3-RF_class-settings.yml\n",
      "     description  : Test of random forrest architecture.\n",
      "     datasets_dir : /gpfswork/rech/ieq/commun/./datasets\n",
      "     run_dir      : /gpfsscratch/rech/ieq/commun/./run/campaign08_bis/RF_class\n",
      "     ---- evaluation --------------------------------------------\n",
      "     id      count        mean           std\n",
      "     0       150           0.93          0.03\n",
      "     1       150           0.07          0.03\n",
      "     2       150           0.07          0.03\n",
      "     ---- monitoring --------------------------------------------\n",
      "     duration     : 19.64\n",
      "     used_data    : ['74294bc7021bebc7a9f7d18f29fab04c2a20ddc966a5ab3b0694259162396008']\n",
      "     ------------------------------------------------------------\n"
     ]
    },
    {
     "data": {
      "image/png": "[encoded data removed]",
      "text/plain": [
       "<Figure size 360x360 with 1 Axes>"
      ]
     },
     "metadata": {
      "needs_background": "light"
     },
     "output_type": "display_data"
    },
    {
     "name": "stdout",
     "output_type": "stream",
     "text": [
      "y_pred is considered as classes array\n",
      "Nombre de données cumulées :  13920\n"
     ]
    },
    {
     "data": {
      "text/markdown": [
       "**Confusion matrix**"
      ],
      "text/plain": [
       "<IPython.core.display.Markdown object>"
      ]
     },
     "metadata": {},
     "output_type": "display_data"
    },
    {
     "data": {
      "image/png": "[encoded data removed]",
      "text/plain": [
       "<Figure size 576x432 with 2 Axes>"
      ]
     },
     "metadata": {
      "needs_background": "light"
     },
     "output_type": "display_data"
    },
    {
     "data": {
      "text/markdown": [
       "**Classification report**"
      ],
      "text/plain": [
       "<IPython.core.display.Markdown object>"
      ]
     },
     "metadata": {},
     "output_type": "display_data"
    },
    {
     "data": {
      "text/html": [
       "<div>\n",
       "<style scoped>\n",
       "    .dataframe tbody tr th:only-of-type {\n",
       "        vertical-align: middle;\n",
       "    }\n",
       "\n",
       "    .dataframe tbody tr th {\n",
       "        vertical-align: top;\n",
       "    }\n",
       "\n",
       "    .dataframe thead th {\n",
       "        text-align: right;\n",
       "    }\n",
       "</style>\n",
       "<table border=\"1\" class=\"dataframe\">\n",
       "  <thead>\n",
       "    <tr style=\"text-align: right;\">\n",
       "      <th></th>\n",
       "      <th>precision</th>\n",
       "      <th>recall</th>\n",
       "      <th>f1-score</th>\n",
       "      <th>support</th>\n",
       "    </tr>\n",
       "  </thead>\n",
       "  <tbody>\n",
       "    <tr>\n",
       "      <th>0.0</th>\n",
       "      <td>0.942160</td>\n",
       "      <td>0.914474</td>\n",
       "      <td>0.928110</td>\n",
       "      <td>6840.000000</td>\n",
       "    </tr>\n",
       "    <tr>\n",
       "      <th>1.0</th>\n",
       "      <td>0.919654</td>\n",
       "      <td>0.945763</td>\n",
       "      <td>0.932526</td>\n",
       "      <td>7080.000000</td>\n",
       "    </tr>\n",
       "    <tr>\n",
       "      <th>accuracy</th>\n",
       "      <td>0.930388</td>\n",
       "      <td>0.930388</td>\n",
       "      <td>0.930388</td>\n",
       "      <td>0.930388</td>\n",
       "    </tr>\n",
       "    <tr>\n",
       "      <th>macro avg</th>\n",
       "      <td>0.930907</td>\n",
       "      <td>0.930118</td>\n",
       "      <td>0.930318</td>\n",
       "      <td>13920.000000</td>\n",
       "    </tr>\n",
       "    <tr>\n",
       "      <th>weighted avg</th>\n",
       "      <td>0.930713</td>\n",
       "      <td>0.930388</td>\n",
       "      <td>0.930356</td>\n",
       "      <td>13920.000000</td>\n",
       "    </tr>\n",
       "  </tbody>\n",
       "</table>\n",
       "</div>"
      ],
      "text/plain": [
       "              precision    recall  f1-score       support\n",
       "0.0            0.942160  0.914474  0.928110   6840.000000\n",
       "1.0            0.919654  0.945763  0.932526   7080.000000\n",
       "accuracy       0.930388  0.930388  0.930388      0.930388\n",
       "macro avg      0.930907  0.930118  0.930318  13920.000000\n",
       "weighted avg   0.930713  0.930388  0.930356  13920.000000"
      ]
     },
     "metadata": {},
     "output_type": "display_data"
    },
    {
     "data": {
      "text/markdown": [
       "**Hamming Loss**"
      ],
      "text/plain": [
       "<IPython.core.display.Markdown object>"
      ]
     },
     "metadata": {},
     "output_type": "display_data"
    },
    {
     "name": "stdout",
     "output_type": "stream",
     "text": [
      "Hamming loss : 0.070\n"
     ]
    },
    {
     "data": {
      "text/markdown": [
       "<br>**Class_CI-0007 Comparison of architecture on CI class**"
      ],
      "text/plain": [
       "<IPython.core.display.Markdown object>"
      ]
     },
     "metadata": {},
     "output_type": "display_data"
    },
    {
     "name": "stdout",
     "output_type": "stream",
     "text": [
      "     ---- context -----------------------------------------------\n",
      "     function     : iterative_manyfold\n",
      "     version      : 2.14\n",
      "     date         : Tuesday 21 December 2021, 22:03:40\n",
      "     description  : Class_CI-0007 Comparison of architecture on CI class\n",
      "     seed         : None\n",
      "     ---- args --------------------------------------------------\n",
      "     run_dir      : /gpfsscratch/rech/ieq/commun/./run/campaign08_bis/RF_class/Class_CI/Class_CI-0007\n",
      "     dataset_id   : compo_CI_class\n",
      "     model_id     : sklearn-rfr-100-20\n",
      "     n_iter       : 30\n",
      "     k_fold       : 5\n",
      "     epochs       : 200\n",
      "     batch_size   : 8\n",
      "     ---- settings ----------------------------------------------\n",
      "     file         : 08.3-RF_class-settings.yml\n",
      "     description  : Test of random forrest architecture.\n",
      "     datasets_dir : /gpfswork/rech/ieq/commun/./datasets\n",
      "     run_dir      : /gpfsscratch/rech/ieq/commun/./run/campaign08_bis/RF_class\n",
      "     ---- evaluation --------------------------------------------\n",
      "     id      count        mean           std\n",
      "     0       150           0.93          0.03\n",
      "     1       150           0.07          0.03\n",
      "     2       150           0.07          0.03\n",
      "     ---- monitoring --------------------------------------------\n",
      "     duration     : 35.85\n",
      "     used_data    : ['74294bc7021bebc7a9f7d18f29fab04c2a20ddc966a5ab3b0694259162396008']\n",
      "     ------------------------------------------------------------\n"
     ]
    },
    {
     "data": {
      "image/png": "[encoded data removed]",
      "text/plain": [
       "<Figure size 360x360 with 1 Axes>"
      ]
     },
     "metadata": {
      "needs_background": "light"
     },
     "output_type": "display_data"
    },
    {
     "name": "stdout",
     "output_type": "stream",
     "text": [
      "y_pred is considered as classes array\n",
      "Nombre de données cumulées :  13920\n"
     ]
    },
    {
     "data": {
      "text/markdown": [
       "**Confusion matrix**"
      ],
      "text/plain": [
       "<IPython.core.display.Markdown object>"
      ]
     },
     "metadata": {},
     "output_type": "display_data"
    },
    {
     "data": {
      "image/png": "[encoded data removed]",
      "text/plain": [
       "<Figure size 576x432 with 2 Axes>"
      ]
     },
     "metadata": {
      "needs_background": "light"
     },
     "output_type": "display_data"
    },
    {
     "data": {
      "text/markdown": [
       "**Classification report**"
      ],
      "text/plain": [
       "<IPython.core.display.Markdown object>"
      ]
     },
     "metadata": {},
     "output_type": "display_data"
    },
    {
     "data": {
      "text/html": [
       "<div>\n",
       "<style scoped>\n",
       "    .dataframe tbody tr th:only-of-type {\n",
       "        vertical-align: middle;\n",
       "    }\n",
       "\n",
       "    .dataframe tbody tr th {\n",
       "        vertical-align: top;\n",
       "    }\n",
       "\n",
       "    .dataframe thead th {\n",
       "        text-align: right;\n",
       "    }\n",
       "</style>\n",
       "<table border=\"1\" class=\"dataframe\">\n",
       "  <thead>\n",
       "    <tr style=\"text-align: right;\">\n",
       "      <th></th>\n",
       "      <th>precision</th>\n",
       "      <th>recall</th>\n",
       "      <th>f1-score</th>\n",
       "      <th>support</th>\n",
       "    </tr>\n",
       "  </thead>\n",
       "  <tbody>\n",
       "    <tr>\n",
       "      <th>0.0</th>\n",
       "      <td>0.944621</td>\n",
       "      <td>0.912719</td>\n",
       "      <td>0.928396</td>\n",
       "      <td>6840.000000</td>\n",
       "    </tr>\n",
       "    <tr>\n",
       "      <th>1.0</th>\n",
       "      <td>0.918342</td>\n",
       "      <td>0.948305</td>\n",
       "      <td>0.933083</td>\n",
       "      <td>7080.000000</td>\n",
       "    </tr>\n",
       "    <tr>\n",
       "      <th>accuracy</th>\n",
       "      <td>0.930819</td>\n",
       "      <td>0.930819</td>\n",
       "      <td>0.930819</td>\n",
       "      <td>0.930819</td>\n",
       "    </tr>\n",
       "    <tr>\n",
       "      <th>macro avg</th>\n",
       "      <td>0.931482</td>\n",
       "      <td>0.930512</td>\n",
       "      <td>0.930740</td>\n",
       "      <td>13920.000000</td>\n",
       "    </tr>\n",
       "    <tr>\n",
       "      <th>weighted avg</th>\n",
       "      <td>0.931255</td>\n",
       "      <td>0.930819</td>\n",
       "      <td>0.930780</td>\n",
       "      <td>13920.000000</td>\n",
       "    </tr>\n",
       "  </tbody>\n",
       "</table>\n",
       "</div>"
      ],
      "text/plain": [
       "              precision    recall  f1-score       support\n",
       "0.0            0.944621  0.912719  0.928396   6840.000000\n",
       "1.0            0.918342  0.948305  0.933083   7080.000000\n",
       "accuracy       0.930819  0.930819  0.930819      0.930819\n",
       "macro avg      0.931482  0.930512  0.930740  13920.000000\n",
       "weighted avg   0.931255  0.930819  0.930780  13920.000000"
      ]
     },
     "metadata": {},
     "output_type": "display_data"
    },
    {
     "data": {
      "text/markdown": [
       "**Hamming Loss**"
      ],
      "text/plain": [
       "<IPython.core.display.Markdown object>"
      ]
     },
     "metadata": {},
     "output_type": "display_data"
    },
    {
     "name": "stdout",
     "output_type": "stream",
     "text": [
      "Hamming loss : 0.069\n"
     ]
    },
    {
     "data": {
      "text/markdown": [
       "<br>**Class_CI-0008 Comparison of architecture on CI class**"
      ],
      "text/plain": [
       "<IPython.core.display.Markdown object>"
      ]
     },
     "metadata": {},
     "output_type": "display_data"
    },
    {
     "name": "stdout",
     "output_type": "stream",
     "text": [
      "     ---- context -----------------------------------------------\n",
      "     function     : iterative_manyfold\n",
      "     version      : 2.14\n",
      "     date         : Tuesday 21 December 2021, 22:03:40\n",
      "     description  : Class_CI-0008 Comparison of architecture on CI class\n",
      "     seed         : None\n",
      "     ---- args --------------------------------------------------\n",
      "     run_dir      : /gpfsscratch/rech/ieq/commun/./run/campaign08_bis/RF_class/Class_CI/Class_CI-0008\n",
      "     dataset_id   : compo_CI_class\n",
      "     model_id     : sklearn-rfr-150-20\n",
      "     n_iter       : 30\n",
      "     k_fold       : 5\n",
      "     epochs       : 200\n",
      "     batch_size   : 8\n",
      "     ---- settings ----------------------------------------------\n",
      "     file         : 08.3-RF_class-settings.yml\n",
      "     description  : Test of random forrest architecture.\n",
      "     datasets_dir : /gpfswork/rech/ieq/commun/./datasets\n",
      "     run_dir      : /gpfsscratch/rech/ieq/commun/./run/campaign08_bis/RF_class\n",
      "     ---- evaluation --------------------------------------------\n",
      "     id      count        mean           std\n",
      "     0       150           0.93          0.02\n",
      "     1       150           0.07          0.02\n",
      "     2       150           0.07          0.02\n",
      "     ---- monitoring --------------------------------------------\n",
      "     duration     : 53.21\n",
      "     used_data    : ['74294bc7021bebc7a9f7d18f29fab04c2a20ddc966a5ab3b0694259162396008']\n",
      "     ------------------------------------------------------------\n"
     ]
    },
    {
     "data": {
      "image/png": "[encoded data removed]",
      "text/plain": [
       "<Figure size 360x360 with 1 Axes>"
      ]
     },
     "metadata": {
      "needs_background": "light"
     },
     "output_type": "display_data"
    },
    {
     "name": "stdout",
     "output_type": "stream",
     "text": [
      "y_pred is considered as classes array\n",
      "Nombre de données cumulées :  13920\n"
     ]
    },
    {
     "data": {
      "text/markdown": [
       "**Confusion matrix**"
      ],
      "text/plain": [
       "<IPython.core.display.Markdown object>"
      ]
     },
     "metadata": {},
     "output_type": "display_data"
    },
    {
     "data": {
      "image/png": "[encoded data removed]",
      "text/plain": [
       "<Figure size 576x432 with 2 Axes>"
      ]
     },
     "metadata": {
      "needs_background": "light"
     },
     "output_type": "display_data"
    },
    {
     "data": {
      "text/markdown": [
       "**Classification report**"
      ],
      "text/plain": [
       "<IPython.core.display.Markdown object>"
      ]
     },
     "metadata": {},
     "output_type": "display_data"
    },
    {
     "data": {
      "text/html": [
       "<div>\n",
       "<style scoped>\n",
       "    .dataframe tbody tr th:only-of-type {\n",
       "        vertical-align: middle;\n",
       "    }\n",
       "\n",
       "    .dataframe tbody tr th {\n",
       "        vertical-align: top;\n",
       "    }\n",
       "\n",
       "    .dataframe thead th {\n",
       "        text-align: right;\n",
       "    }\n",
       "</style>\n",
       "<table border=\"1\" class=\"dataframe\">\n",
       "  <thead>\n",
       "    <tr style=\"text-align: right;\">\n",
       "      <th></th>\n",
       "      <th>precision</th>\n",
       "      <th>recall</th>\n",
       "      <th>f1-score</th>\n",
       "      <th>support</th>\n",
       "    </tr>\n",
       "  </thead>\n",
       "  <tbody>\n",
       "    <tr>\n",
       "      <th>0.0</th>\n",
       "      <td>0.944779</td>\n",
       "      <td>0.917982</td>\n",
       "      <td>0.931188</td>\n",
       "      <td>6840.000000</td>\n",
       "    </tr>\n",
       "    <tr>\n",
       "      <th>1.0</th>\n",
       "      <td>0.922876</td>\n",
       "      <td>0.948164</td>\n",
       "      <td>0.935349</td>\n",
       "      <td>7080.000000</td>\n",
       "    </tr>\n",
       "    <tr>\n",
       "      <th>accuracy</th>\n",
       "      <td>0.933333</td>\n",
       "      <td>0.933333</td>\n",
       "      <td>0.933333</td>\n",
       "      <td>0.933333</td>\n",
       "    </tr>\n",
       "    <tr>\n",
       "      <th>macro avg</th>\n",
       "      <td>0.933827</td>\n",
       "      <td>0.933073</td>\n",
       "      <td>0.933268</td>\n",
       "      <td>13920.000000</td>\n",
       "    </tr>\n",
       "    <tr>\n",
       "      <th>weighted avg</th>\n",
       "      <td>0.933639</td>\n",
       "      <td>0.933333</td>\n",
       "      <td>0.933304</td>\n",
       "      <td>13920.000000</td>\n",
       "    </tr>\n",
       "  </tbody>\n",
       "</table>\n",
       "</div>"
      ],
      "text/plain": [
       "              precision    recall  f1-score       support\n",
       "0.0            0.944779  0.917982  0.931188   6840.000000\n",
       "1.0            0.922876  0.948164  0.935349   7080.000000\n",
       "accuracy       0.933333  0.933333  0.933333      0.933333\n",
       "macro avg      0.933827  0.933073  0.933268  13920.000000\n",
       "weighted avg   0.933639  0.933333  0.933304  13920.000000"
      ]
     },
     "metadata": {},
     "output_type": "display_data"
    },
    {
     "data": {
      "text/markdown": [
       "**Hamming Loss**"
      ],
      "text/plain": [
       "<IPython.core.display.Markdown object>"
      ]
     },
     "metadata": {},
     "output_type": "display_data"
    },
    {
     "name": "stdout",
     "output_type": "stream",
     "text": [
      "Hamming loss : 0.067\n"
     ]
    },
    {
     "data": {
      "text/html": [
       "<a name=\"2.2---Comparison-of-architecture-on-DRX-class----Class_DRX-\"></a>"
      ],
      "text/plain": [
       "<IPython.core.display.HTML object>"
      ]
     },
     "metadata": {},
     "output_type": "display_data"
    },
    {
     "data": {
      "text/markdown": [
       "## 2.2 - Comparison of architecture on DRX class - (Class_DRX)"
      ],
      "text/plain": [
       "<IPython.core.display.Markdown object>"
      ]
     },
     "metadata": {},
     "output_type": "display_data"
    },
    {
     "data": {
      "text/markdown": [
       "[(Sommaire)](#Sommaire)"
      ],
      "text/plain": [
       "<IPython.core.display.Markdown object>"
      ]
     },
     "metadata": {},
     "output_type": "display_data"
    },
    {
     "data": {
      "text/markdown": [
       "Report for : **/Users/elisegarel/Desktop/PUBLI/run//./campaign08/RF_c/Class_DRX**"
      ],
      "text/plain": [
       "<IPython.core.display.Markdown object>"
      ]
     },
     "metadata": {},
     "output_type": "display_data"
    },
    {
     "data": {
      "text/markdown": [
       "This report have **9** parts :"
      ],
      "text/plain": [
       "<IPython.core.display.Markdown object>"
      ]
     },
     "metadata": {},
     "output_type": "display_data"
    },
    {
     "data": {
      "text/markdown": [
       "  - Class_DRX-0000\n",
       "  - Class_DRX-0001\n",
       "  - Class_DRX-0002\n",
       "  - Class_DRX-0003\n",
       "  - Class_DRX-0004\n",
       "  - Class_DRX-0005\n",
       "  - Class_DRX-0006\n",
       "  - Class_DRX-0007\n",
       "  - Class_DRX-0008"
      ],
      "text/plain": [
       "<IPython.core.display.Markdown object>"
      ]
     },
     "metadata": {},
     "output_type": "display_data"
    },
    {
     "data": {
      "text/markdown": [
       "<br>**Class_DRX-0000 Comparison of architecture on DRX class**"
      ],
      "text/plain": [
       "<IPython.core.display.Markdown object>"
      ]
     },
     "metadata": {},
     "output_type": "display_data"
    },
    {
     "name": "stdout",
     "output_type": "stream",
     "text": [
      "     ---- context -----------------------------------------------\n",
      "     function     : iterative_manyfold\n",
      "     version      : 2.14\n",
      "     date         : Tuesday 21 December 2021, 22:03:40\n",
      "     description  : Class_DRX-0000 Comparison of architecture on DRX class\n",
      "     seed         : None\n",
      "     ---- args --------------------------------------------------\n",
      "     run_dir      : /gpfsscratch/rech/ieq/commun/./run/campaign08_bis/RF_class/Class_DRX/Class_DRX-0000\n",
      "     dataset_id   : compo_DRX_class\n",
      "     model_id     : sklearn-rfr-50-5\n",
      "     n_iter       : 30\n",
      "     k_fold       : 5\n",
      "     epochs       : 200\n",
      "     batch_size   : 8\n",
      "     ---- settings ----------------------------------------------\n",
      "     file         : 08.3-RF_class-settings.yml\n",
      "     description  : Test of random forrest architecture.\n",
      "     datasets_dir : /gpfswork/rech/ieq/commun/./datasets\n",
      "     run_dir      : /gpfsscratch/rech/ieq/commun/./run/campaign08_bis/RF_class\n",
      "     ---- evaluation --------------------------------------------\n",
      "     id      count        mean           std\n",
      "     0       150           0.92          0.03\n",
      "     1       150           0.08          0.03\n",
      "     2       150           0.08          0.03\n",
      "     ---- monitoring --------------------------------------------\n",
      "     duration     : 19.55\n",
      "     used_data    : ['86d75db877b96a80aed23124683a9f6ab3c46f034027fc1a415c80f43910fa11']\n",
      "     ------------------------------------------------------------\n"
     ]
    },
    {
     "data": {
      "image/png": "[encoded data removed]",
      "text/plain": [
       "<Figure size 360x360 with 1 Axes>"
      ]
     },
     "metadata": {
      "needs_background": "light"
     },
     "output_type": "display_data"
    },
    {
     "name": "stdout",
     "output_type": "stream",
     "text": [
      "y_pred is considered as classes array\n",
      "Nombre de données cumulées :  13740\n"
     ]
    },
    {
     "data": {
      "text/markdown": [
       "**Confusion matrix**"
      ],
      "text/plain": [
       "<IPython.core.display.Markdown object>"
      ]
     },
     "metadata": {},
     "output_type": "display_data"
    },
    {
     "data": {
      "image/png": "[encoded data removed]",
      "text/plain": [
       "<Figure size 576x432 with 2 Axes>"
      ]
     },
     "metadata": {
      "needs_background": "light"
     },
     "output_type": "display_data"
    },
    {
     "data": {
      "text/markdown": [
       "**Classification report**"
      ],
      "text/plain": [
       "<IPython.core.display.Markdown object>"
      ]
     },
     "metadata": {},
     "output_type": "display_data"
    },
    {
     "data": {
      "text/html": [
       "<div>\n",
       "<style scoped>\n",
       "    .dataframe tbody tr th:only-of-type {\n",
       "        vertical-align: middle;\n",
       "    }\n",
       "\n",
       "    .dataframe tbody tr th {\n",
       "        vertical-align: top;\n",
       "    }\n",
       "\n",
       "    .dataframe thead th {\n",
       "        text-align: right;\n",
       "    }\n",
       "</style>\n",
       "<table border=\"1\" class=\"dataframe\">\n",
       "  <thead>\n",
       "    <tr style=\"text-align: right;\">\n",
       "      <th></th>\n",
       "      <th>precision</th>\n",
       "      <th>recall</th>\n",
       "      <th>f1-score</th>\n",
       "      <th>support</th>\n",
       "    </tr>\n",
       "  </thead>\n",
       "  <tbody>\n",
       "    <tr>\n",
       "      <th>0</th>\n",
       "      <td>0.891556</td>\n",
       "      <td>0.879825</td>\n",
       "      <td>0.885651</td>\n",
       "      <td>4560.0000</td>\n",
       "    </tr>\n",
       "    <tr>\n",
       "      <th>1</th>\n",
       "      <td>0.940693</td>\n",
       "      <td>0.946841</td>\n",
       "      <td>0.943757</td>\n",
       "      <td>9180.0000</td>\n",
       "    </tr>\n",
       "    <tr>\n",
       "      <th>accuracy</th>\n",
       "      <td>0.924600</td>\n",
       "      <td>0.924600</td>\n",
       "      <td>0.924600</td>\n",
       "      <td>0.9246</td>\n",
       "    </tr>\n",
       "    <tr>\n",
       "      <th>macro avg</th>\n",
       "      <td>0.916124</td>\n",
       "      <td>0.913333</td>\n",
       "      <td>0.914704</td>\n",
       "      <td>13740.0000</td>\n",
       "    </tr>\n",
       "    <tr>\n",
       "      <th>weighted avg</th>\n",
       "      <td>0.924385</td>\n",
       "      <td>0.924600</td>\n",
       "      <td>0.924473</td>\n",
       "      <td>13740.0000</td>\n",
       "    </tr>\n",
       "  </tbody>\n",
       "</table>\n",
       "</div>"
      ],
      "text/plain": [
       "              precision    recall  f1-score     support\n",
       "0              0.891556  0.879825  0.885651   4560.0000\n",
       "1              0.940693  0.946841  0.943757   9180.0000\n",
       "accuracy       0.924600  0.924600  0.924600      0.9246\n",
       "macro avg      0.916124  0.913333  0.914704  13740.0000\n",
       "weighted avg   0.924385  0.924600  0.924473  13740.0000"
      ]
     },
     "metadata": {},
     "output_type": "display_data"
    },
    {
     "data": {
      "text/markdown": [
       "**Hamming Loss**"
      ],
      "text/plain": [
       "<IPython.core.display.Markdown object>"
      ]
     },
     "metadata": {},
     "output_type": "display_data"
    },
    {
     "name": "stdout",
     "output_type": "stream",
     "text": [
      "Hamming loss : 0.075\n"
     ]
    },
    {
     "data": {
      "text/markdown": [
       "<br>**Class_DRX-0001 Comparison of architecture on DRX class**"
      ],
      "text/plain": [
       "<IPython.core.display.Markdown object>"
      ]
     },
     "metadata": {},
     "output_type": "display_data"
    },
    {
     "name": "stdout",
     "output_type": "stream",
     "text": [
      "     ---- context -----------------------------------------------\n",
      "     function     : iterative_manyfold\n",
      "     version      : 2.14\n",
      "     date         : Tuesday 21 December 2021, 22:03:40\n",
      "     description  : Class_DRX-0001 Comparison of architecture on DRX class\n",
      "     seed         : None\n",
      "     ---- args --------------------------------------------------\n",
      "     run_dir      : /gpfsscratch/rech/ieq/commun/./run/campaign08_bis/RF_class/Class_DRX/Class_DRX-0001\n",
      "     dataset_id   : compo_DRX_class\n",
      "     model_id     : sklearn-rfr-100-5\n",
      "     n_iter       : 30\n",
      "     k_fold       : 5\n",
      "     epochs       : 200\n",
      "     batch_size   : 8\n",
      "     ---- settings ----------------------------------------------\n",
      "     file         : 08.3-RF_class-settings.yml\n",
      "     description  : Test of random forrest architecture.\n",
      "     datasets_dir : /gpfswork/rech/ieq/commun/./datasets\n",
      "     run_dir      : /gpfsscratch/rech/ieq/commun/./run/campaign08_bis/RF_class\n",
      "     ---- evaluation --------------------------------------------\n",
      "     id      count        mean           std\n",
      "     0       150           0.93          0.03\n",
      "     1       150           0.07          0.03\n",
      "     2       150           0.07          0.03\n",
      "     ---- monitoring --------------------------------------------\n",
      "     duration     : 38.23\n",
      "     used_data    : ['86d75db877b96a80aed23124683a9f6ab3c46f034027fc1a415c80f43910fa11']\n",
      "     ------------------------------------------------------------\n"
     ]
    },
    {
     "data": {
      "image/png": "[encoded data removed]",
      "text/plain": [
       "<Figure size 360x360 with 1 Axes>"
      ]
     },
     "metadata": {
      "needs_background": "light"
     },
     "output_type": "display_data"
    },
    {
     "name": "stdout",
     "output_type": "stream",
     "text": [
      "y_pred is considered as classes array\n",
      "Nombre de données cumulées :  13740\n"
     ]
    },
    {
     "data": {
      "text/markdown": [
       "**Confusion matrix**"
      ],
      "text/plain": [
       "<IPython.core.display.Markdown object>"
      ]
     },
     "metadata": {},
     "output_type": "display_data"
    },
    {
     "data": {
      "image/png": "[encoded data removed]",
      "text/plain": [
       "<Figure size 576x432 with 2 Axes>"
      ]
     },
     "metadata": {
      "needs_background": "light"
     },
     "output_type": "display_data"
    },
    {
     "data": {
      "text/markdown": [
       "**Classification report**"
      ],
      "text/plain": [
       "<IPython.core.display.Markdown object>"
      ]
     },
     "metadata": {},
     "output_type": "display_data"
    },
    {
     "data": {
      "text/html": [
       "<div>\n",
       "<style scoped>\n",
       "    .dataframe tbody tr th:only-of-type {\n",
       "        vertical-align: middle;\n",
       "    }\n",
       "\n",
       "    .dataframe tbody tr th {\n",
       "        vertical-align: top;\n",
       "    }\n",
       "\n",
       "    .dataframe thead th {\n",
       "        text-align: right;\n",
       "    }\n",
       "</style>\n",
       "<table border=\"1\" class=\"dataframe\">\n",
       "  <thead>\n",
       "    <tr style=\"text-align: right;\">\n",
       "      <th></th>\n",
       "      <th>precision</th>\n",
       "      <th>recall</th>\n",
       "      <th>f1-score</th>\n",
       "      <th>support</th>\n",
       "    </tr>\n",
       "  </thead>\n",
       "  <tbody>\n",
       "    <tr>\n",
       "      <th>0</th>\n",
       "      <td>0.894947</td>\n",
       "      <td>0.885526</td>\n",
       "      <td>0.890212</td>\n",
       "      <td>4560.000000</td>\n",
       "    </tr>\n",
       "    <tr>\n",
       "      <th>1</th>\n",
       "      <td>0.943433</td>\n",
       "      <td>0.948366</td>\n",
       "      <td>0.945893</td>\n",
       "      <td>9180.000000</td>\n",
       "    </tr>\n",
       "    <tr>\n",
       "      <th>accuracy</th>\n",
       "      <td>0.927511</td>\n",
       "      <td>0.927511</td>\n",
       "      <td>0.927511</td>\n",
       "      <td>0.927511</td>\n",
       "    </tr>\n",
       "    <tr>\n",
       "      <th>macro avg</th>\n",
       "      <td>0.919190</td>\n",
       "      <td>0.916946</td>\n",
       "      <td>0.918052</td>\n",
       "      <td>13740.000000</td>\n",
       "    </tr>\n",
       "    <tr>\n",
       "      <th>weighted avg</th>\n",
       "      <td>0.927342</td>\n",
       "      <td>0.927511</td>\n",
       "      <td>0.927414</td>\n",
       "      <td>13740.000000</td>\n",
       "    </tr>\n",
       "  </tbody>\n",
       "</table>\n",
       "</div>"
      ],
      "text/plain": [
       "              precision    recall  f1-score       support\n",
       "0              0.894947  0.885526  0.890212   4560.000000\n",
       "1              0.943433  0.948366  0.945893   9180.000000\n",
       "accuracy       0.927511  0.927511  0.927511      0.927511\n",
       "macro avg      0.919190  0.916946  0.918052  13740.000000\n",
       "weighted avg   0.927342  0.927511  0.927414  13740.000000"
      ]
     },
     "metadata": {},
     "output_type": "display_data"
    },
    {
     "data": {
      "text/markdown": [
       "**Hamming Loss**"
      ],
      "text/plain": [
       "<IPython.core.display.Markdown object>"
      ]
     },
     "metadata": {},
     "output_type": "display_data"
    },
    {
     "name": "stdout",
     "output_type": "stream",
     "text": [
      "Hamming loss : 0.072\n"
     ]
    },
    {
     "data": {
      "text/markdown": [
       "<br>**Class_DRX-0002 Comparison of architecture on DRX class**"
      ],
      "text/plain": [
       "<IPython.core.display.Markdown object>"
      ]
     },
     "metadata": {},
     "output_type": "display_data"
    },
    {
     "name": "stdout",
     "output_type": "stream",
     "text": [
      "     ---- context -----------------------------------------------\n",
      "     function     : iterative_manyfold\n",
      "     version      : 2.14\n",
      "     date         : Tuesday 21 December 2021, 22:03:40\n",
      "     description  : Class_DRX-0002 Comparison of architecture on DRX class\n",
      "     seed         : None\n",
      "     ---- args --------------------------------------------------\n",
      "     run_dir      : /gpfsscratch/rech/ieq/commun/./run/campaign08_bis/RF_class/Class_DRX/Class_DRX-0002\n",
      "     dataset_id   : compo_DRX_class\n",
      "     model_id     : sklearn-rfr-150-5\n",
      "     n_iter       : 30\n",
      "     k_fold       : 5\n",
      "     epochs       : 200\n",
      "     batch_size   : 8\n",
      "     ---- settings ----------------------------------------------\n",
      "     file         : 08.3-RF_class-settings.yml\n",
      "     description  : Test of random forrest architecture.\n",
      "     datasets_dir : /gpfswork/rech/ieq/commun/./datasets\n",
      "     run_dir      : /gpfsscratch/rech/ieq/commun/./run/campaign08_bis/RF_class\n",
      "     ---- evaluation --------------------------------------------\n",
      "     id      count        mean           std\n",
      "     0       150           0.93          0.02\n",
      "     1       150           0.07          0.02\n",
      "     2       150           0.07          0.02\n",
      "     ---- monitoring --------------------------------------------\n",
      "     duration     : 55.22\n",
      "     used_data    : ['86d75db877b96a80aed23124683a9f6ab3c46f034027fc1a415c80f43910fa11']\n",
      "     ------------------------------------------------------------\n"
     ]
    },
    {
     "data": {
      "image/png": "[encoded data removed]",
      "text/plain": [
       "<Figure size 360x360 with 1 Axes>"
      ]
     },
     "metadata": {
      "needs_background": "light"
     },
     "output_type": "display_data"
    },
    {
     "name": "stdout",
     "output_type": "stream",
     "text": [
      "y_pred is considered as classes array\n",
      "Nombre de données cumulées :  13740\n"
     ]
    },
    {
     "data": {
      "text/markdown": [
       "**Confusion matrix**"
      ],
      "text/plain": [
       "<IPython.core.display.Markdown object>"
      ]
     },
     "metadata": {},
     "output_type": "display_data"
    },
    {
     "data": {
      "image/png": "[encoded data removed]",
      "text/plain": [
       "<Figure size 576x432 with 2 Axes>"
      ]
     },
     "metadata": {
      "needs_background": "light"
     },
     "output_type": "display_data"
    },
    {
     "data": {
      "text/markdown": [
       "**Classification report**"
      ],
      "text/plain": [
       "<IPython.core.display.Markdown object>"
      ]
     },
     "metadata": {},
     "output_type": "display_data"
    },
    {
     "data": {
      "text/html": [
       "<div>\n",
       "<style scoped>\n",
       "    .dataframe tbody tr th:only-of-type {\n",
       "        vertical-align: middle;\n",
       "    }\n",
       "\n",
       "    .dataframe tbody tr th {\n",
       "        vertical-align: top;\n",
       "    }\n",
       "\n",
       "    .dataframe thead th {\n",
       "        text-align: right;\n",
       "    }\n",
       "</style>\n",
       "<table border=\"1\" class=\"dataframe\">\n",
       "  <thead>\n",
       "    <tr style=\"text-align: right;\">\n",
       "      <th></th>\n",
       "      <th>precision</th>\n",
       "      <th>recall</th>\n",
       "      <th>f1-score</th>\n",
       "      <th>support</th>\n",
       "    </tr>\n",
       "  </thead>\n",
       "  <tbody>\n",
       "    <tr>\n",
       "      <th>0</th>\n",
       "      <td>0.894900</td>\n",
       "      <td>0.885088</td>\n",
       "      <td>0.889967</td>\n",
       "      <td>4560.000000</td>\n",
       "    </tr>\n",
       "    <tr>\n",
       "      <th>1</th>\n",
       "      <td>0.943229</td>\n",
       "      <td>0.948366</td>\n",
       "      <td>0.945790</td>\n",
       "      <td>9180.000000</td>\n",
       "    </tr>\n",
       "    <tr>\n",
       "      <th>accuracy</th>\n",
       "      <td>0.927365</td>\n",
       "      <td>0.927365</td>\n",
       "      <td>0.927365</td>\n",
       "      <td>0.927365</td>\n",
       "    </tr>\n",
       "    <tr>\n",
       "      <th>macro avg</th>\n",
       "      <td>0.919064</td>\n",
       "      <td>0.916727</td>\n",
       "      <td>0.917879</td>\n",
       "      <td>13740.000000</td>\n",
       "    </tr>\n",
       "    <tr>\n",
       "      <th>weighted avg</th>\n",
       "      <td>0.927189</td>\n",
       "      <td>0.927365</td>\n",
       "      <td>0.927264</td>\n",
       "      <td>13740.000000</td>\n",
       "    </tr>\n",
       "  </tbody>\n",
       "</table>\n",
       "</div>"
      ],
      "text/plain": [
       "              precision    recall  f1-score       support\n",
       "0              0.894900  0.885088  0.889967   4560.000000\n",
       "1              0.943229  0.948366  0.945790   9180.000000\n",
       "accuracy       0.927365  0.927365  0.927365      0.927365\n",
       "macro avg      0.919064  0.916727  0.917879  13740.000000\n",
       "weighted avg   0.927189  0.927365  0.927264  13740.000000"
      ]
     },
     "metadata": {},
     "output_type": "display_data"
    },
    {
     "data": {
      "text/markdown": [
       "**Hamming Loss**"
      ],
      "text/plain": [
       "<IPython.core.display.Markdown object>"
      ]
     },
     "metadata": {},
     "output_type": "display_data"
    },
    {
     "name": "stdout",
     "output_type": "stream",
     "text": [
      "Hamming loss : 0.073\n"
     ]
    },
    {
     "data": {
      "text/markdown": [
       "<br>**Class_DRX-0003 Comparison of architecture on DRX class**"
      ],
      "text/plain": [
       "<IPython.core.display.Markdown object>"
      ]
     },
     "metadata": {},
     "output_type": "display_data"
    },
    {
     "name": "stdout",
     "output_type": "stream",
     "text": [
      "     ---- context -----------------------------------------------\n",
      "     function     : iterative_manyfold\n",
      "     version      : 2.14\n",
      "     date         : Tuesday 21 December 2021, 22:03:40\n",
      "     description  : Class_DRX-0003 Comparison of architecture on DRX class\n",
      "     seed         : None\n",
      "     ---- args --------------------------------------------------\n",
      "     run_dir      : /gpfsscratch/rech/ieq/commun/./run/campaign08_bis/RF_class/Class_DRX/Class_DRX-0003\n",
      "     dataset_id   : compo_DRX_class\n",
      "     model_id     : sklearn-rfr-50-10\n",
      "     n_iter       : 30\n",
      "     k_fold       : 5\n",
      "     epochs       : 200\n",
      "     batch_size   : 8\n",
      "     ---- settings ----------------------------------------------\n",
      "     file         : 08.3-RF_class-settings.yml\n",
      "     description  : Test of random forrest architecture.\n",
      "     datasets_dir : /gpfswork/rech/ieq/commun/./datasets\n",
      "     run_dir      : /gpfsscratch/rech/ieq/commun/./run/campaign08_bis/RF_class\n",
      "     ---- evaluation --------------------------------------------\n",
      "     id      count        mean           std\n",
      "     0       150           0.92          0.03\n",
      "     1       150           0.08          0.03\n",
      "     2       150           0.08          0.03\n",
      "     ---- monitoring --------------------------------------------\n",
      "     duration     : 18.99\n",
      "     used_data    : ['86d75db877b96a80aed23124683a9f6ab3c46f034027fc1a415c80f43910fa11']\n",
      "     ------------------------------------------------------------\n"
     ]
    },
    {
     "data": {
      "image/png": "[encoded data removed]",
      "text/plain": [
       "<Figure size 360x360 with 1 Axes>"
      ]
     },
     "metadata": {
      "needs_background": "light"
     },
     "output_type": "display_data"
    },
    {
     "name": "stdout",
     "output_type": "stream",
     "text": [
      "y_pred is considered as classes array\n",
      "Nombre de données cumulées :  13740\n"
     ]
    },
    {
     "data": {
      "text/markdown": [
       "**Confusion matrix**"
      ],
      "text/plain": [
       "<IPython.core.display.Markdown object>"
      ]
     },
     "metadata": {},
     "output_type": "display_data"
    },
    {
     "data": {
      "image/png": "[encoded data removed]",
      "text/plain": [
       "<Figure size 576x432 with 2 Axes>"
      ]
     },
     "metadata": {
      "needs_background": "light"
     },
     "output_type": "display_data"
    },
    {
     "data": {
      "text/markdown": [
       "**Classification report**"
      ],
      "text/plain": [
       "<IPython.core.display.Markdown object>"
      ]
     },
     "metadata": {},
     "output_type": "display_data"
    },
    {
     "data": {
      "text/html": [
       "<div>\n",
       "<style scoped>\n",
       "    .dataframe tbody tr th:only-of-type {\n",
       "        vertical-align: middle;\n",
       "    }\n",
       "\n",
       "    .dataframe tbody tr th {\n",
       "        vertical-align: top;\n",
       "    }\n",
       "\n",
       "    .dataframe thead th {\n",
       "        text-align: right;\n",
       "    }\n",
       "</style>\n",
       "<table border=\"1\" class=\"dataframe\">\n",
       "  <thead>\n",
       "    <tr style=\"text-align: right;\">\n",
       "      <th></th>\n",
       "      <th>precision</th>\n",
       "      <th>recall</th>\n",
       "      <th>f1-score</th>\n",
       "      <th>support</th>\n",
       "    </tr>\n",
       "  </thead>\n",
       "  <tbody>\n",
       "    <tr>\n",
       "      <th>0</th>\n",
       "      <td>0.889622</td>\n",
       "      <td>0.857237</td>\n",
       "      <td>0.873129</td>\n",
       "      <td>4560.000000</td>\n",
       "    </tr>\n",
       "    <tr>\n",
       "      <th>1</th>\n",
       "      <td>0.930345</td>\n",
       "      <td>0.947168</td>\n",
       "      <td>0.938681</td>\n",
       "      <td>9180.000000</td>\n",
       "    </tr>\n",
       "    <tr>\n",
       "      <th>accuracy</th>\n",
       "      <td>0.917322</td>\n",
       "      <td>0.917322</td>\n",
       "      <td>0.917322</td>\n",
       "      <td>0.917322</td>\n",
       "    </tr>\n",
       "    <tr>\n",
       "      <th>macro avg</th>\n",
       "      <td>0.909983</td>\n",
       "      <td>0.902202</td>\n",
       "      <td>0.905905</td>\n",
       "      <td>13740.000000</td>\n",
       "    </tr>\n",
       "    <tr>\n",
       "      <th>weighted avg</th>\n",
       "      <td>0.916830</td>\n",
       "      <td>0.917322</td>\n",
       "      <td>0.916926</td>\n",
       "      <td>13740.000000</td>\n",
       "    </tr>\n",
       "  </tbody>\n",
       "</table>\n",
       "</div>"
      ],
      "text/plain": [
       "              precision    recall  f1-score       support\n",
       "0              0.889622  0.857237  0.873129   4560.000000\n",
       "1              0.930345  0.947168  0.938681   9180.000000\n",
       "accuracy       0.917322  0.917322  0.917322      0.917322\n",
       "macro avg      0.909983  0.902202  0.905905  13740.000000\n",
       "weighted avg   0.916830  0.917322  0.916926  13740.000000"
      ]
     },
     "metadata": {},
     "output_type": "display_data"
    },
    {
     "data": {
      "text/markdown": [
       "**Hamming Loss**"
      ],
      "text/plain": [
       "<IPython.core.display.Markdown object>"
      ]
     },
     "metadata": {},
     "output_type": "display_data"
    },
    {
     "name": "stdout",
     "output_type": "stream",
     "text": [
      "Hamming loss : 0.083\n"
     ]
    },
    {
     "data": {
      "text/markdown": [
       "<br>**Class_DRX-0004 Comparison of architecture on DRX class**"
      ],
      "text/plain": [
       "<IPython.core.display.Markdown object>"
      ]
     },
     "metadata": {},
     "output_type": "display_data"
    },
    {
     "name": "stdout",
     "output_type": "stream",
     "text": [
      "     ---- context -----------------------------------------------\n",
      "     function     : iterative_manyfold\n",
      "     version      : 2.14\n",
      "     date         : Tuesday 21 December 2021, 22:03:40\n",
      "     description  : Class_DRX-0004 Comparison of architecture on DRX class\n",
      "     seed         : None\n",
      "     ---- args --------------------------------------------------\n",
      "     run_dir      : /gpfsscratch/rech/ieq/commun/./run/campaign08_bis/RF_class/Class_DRX/Class_DRX-0004\n",
      "     dataset_id   : compo_DRX_class\n",
      "     model_id     : sklearn-rfr-100-10\n",
      "     n_iter       : 30\n",
      "     k_fold       : 5\n",
      "     epochs       : 200\n",
      "     batch_size   : 8\n",
      "     ---- settings ----------------------------------------------\n",
      "     file         : 08.3-RF_class-settings.yml\n",
      "     description  : Test of random forrest architecture.\n",
      "     datasets_dir : /gpfswork/rech/ieq/commun/./datasets\n",
      "     run_dir      : /gpfsscratch/rech/ieq/commun/./run/campaign08_bis/RF_class\n",
      "     ---- evaluation --------------------------------------------\n",
      "     id      count        mean           std\n",
      "     0       150           0.92          0.03\n",
      "     1       150           0.08          0.03\n",
      "     2       150           0.08          0.03\n",
      "     ---- monitoring --------------------------------------------\n",
      "     duration     : 37.33\n",
      "     used_data    : ['86d75db877b96a80aed23124683a9f6ab3c46f034027fc1a415c80f43910fa11']\n",
      "     ------------------------------------------------------------\n"
     ]
    },
    {
     "data": {
      "image/png": "[encoded data removed]",
      "text/plain": [
       "<Figure size 360x360 with 1 Axes>"
      ]
     },
     "metadata": {
      "needs_background": "light"
     },
     "output_type": "display_data"
    },
    {
     "name": "stdout",
     "output_type": "stream",
     "text": [
      "y_pred is considered as classes array\n",
      "Nombre de données cumulées :  13740\n"
     ]
    },
    {
     "data": {
      "text/markdown": [
       "**Confusion matrix**"
      ],
      "text/plain": [
       "<IPython.core.display.Markdown object>"
      ]
     },
     "metadata": {},
     "output_type": "display_data"
    },
    {
     "data": {
      "image/png": "[encoded data removed]",
      "text/plain": [
       "<Figure size 576x432 with 2 Axes>"
      ]
     },
     "metadata": {
      "needs_background": "light"
     },
     "output_type": "display_data"
    },
    {
     "data": {
      "text/markdown": [
       "**Classification report**"
      ],
      "text/plain": [
       "<IPython.core.display.Markdown object>"
      ]
     },
     "metadata": {},
     "output_type": "display_data"
    },
    {
     "data": {
      "text/html": [
       "<div>\n",
       "<style scoped>\n",
       "    .dataframe tbody tr th:only-of-type {\n",
       "        vertical-align: middle;\n",
       "    }\n",
       "\n",
       "    .dataframe tbody tr th {\n",
       "        vertical-align: top;\n",
       "    }\n",
       "\n",
       "    .dataframe thead th {\n",
       "        text-align: right;\n",
       "    }\n",
       "</style>\n",
       "<table border=\"1\" class=\"dataframe\">\n",
       "  <thead>\n",
       "    <tr style=\"text-align: right;\">\n",
       "      <th></th>\n",
       "      <th>precision</th>\n",
       "      <th>recall</th>\n",
       "      <th>f1-score</th>\n",
       "      <th>support</th>\n",
       "    </tr>\n",
       "  </thead>\n",
       "  <tbody>\n",
       "    <tr>\n",
       "      <th>0</th>\n",
       "      <td>0.886044</td>\n",
       "      <td>0.857675</td>\n",
       "      <td>0.871629</td>\n",
       "      <td>4560.000000</td>\n",
       "    </tr>\n",
       "    <tr>\n",
       "      <th>1</th>\n",
       "      <td>0.930410</td>\n",
       "      <td>0.945207</td>\n",
       "      <td>0.937750</td>\n",
       "      <td>9180.000000</td>\n",
       "    </tr>\n",
       "    <tr>\n",
       "      <th>accuracy</th>\n",
       "      <td>0.916157</td>\n",
       "      <td>0.916157</td>\n",
       "      <td>0.916157</td>\n",
       "      <td>0.916157</td>\n",
       "    </tr>\n",
       "    <tr>\n",
       "      <th>macro avg</th>\n",
       "      <td>0.908227</td>\n",
       "      <td>0.901441</td>\n",
       "      <td>0.904690</td>\n",
       "      <td>13740.000000</td>\n",
       "    </tr>\n",
       "    <tr>\n",
       "      <th>weighted avg</th>\n",
       "      <td>0.915686</td>\n",
       "      <td>0.916157</td>\n",
       "      <td>0.915806</td>\n",
       "      <td>13740.000000</td>\n",
       "    </tr>\n",
       "  </tbody>\n",
       "</table>\n",
       "</div>"
      ],
      "text/plain": [
       "              precision    recall  f1-score       support\n",
       "0              0.886044  0.857675  0.871629   4560.000000\n",
       "1              0.930410  0.945207  0.937750   9180.000000\n",
       "accuracy       0.916157  0.916157  0.916157      0.916157\n",
       "macro avg      0.908227  0.901441  0.904690  13740.000000\n",
       "weighted avg   0.915686  0.916157  0.915806  13740.000000"
      ]
     },
     "metadata": {},
     "output_type": "display_data"
    },
    {
     "data": {
      "text/markdown": [
       "**Hamming Loss**"
      ],
      "text/plain": [
       "<IPython.core.display.Markdown object>"
      ]
     },
     "metadata": {},
     "output_type": "display_data"
    },
    {
     "name": "stdout",
     "output_type": "stream",
     "text": [
      "Hamming loss : 0.084\n"
     ]
    },
    {
     "data": {
      "text/markdown": [
       "<br>**Class_DRX-0005 Comparison of architecture on DRX class**"
      ],
      "text/plain": [
       "<IPython.core.display.Markdown object>"
      ]
     },
     "metadata": {},
     "output_type": "display_data"
    },
    {
     "name": "stdout",
     "output_type": "stream",
     "text": [
      "     ---- context -----------------------------------------------\n",
      "     function     : iterative_manyfold\n",
      "     version      : 2.14\n",
      "     date         : Tuesday 21 December 2021, 22:03:40\n",
      "     description  : Class_DRX-0005 Comparison of architecture on DRX class\n",
      "     seed         : None\n",
      "     ---- args --------------------------------------------------\n",
      "     run_dir      : /gpfsscratch/rech/ieq/commun/./run/campaign08_bis/RF_class/Class_DRX/Class_DRX-0005\n",
      "     dataset_id   : compo_DRX_class\n",
      "     model_id     : sklearn-rfr-150-10\n",
      "     n_iter       : 30\n",
      "     k_fold       : 5\n",
      "     epochs       : 200\n",
      "     batch_size   : 8\n",
      "     ---- settings ----------------------------------------------\n",
      "     file         : 08.3-RF_class-settings.yml\n",
      "     description  : Test of random forrest architecture.\n",
      "     datasets_dir : /gpfswork/rech/ieq/commun/./datasets\n",
      "     run_dir      : /gpfsscratch/rech/ieq/commun/./run/campaign08_bis/RF_class\n",
      "     ---- evaluation --------------------------------------------\n",
      "     id      count        mean           std\n",
      "     0       150           0.92          0.03\n",
      "     1       150           0.08          0.03\n",
      "     2       150           0.08          0.03\n",
      "     ---- monitoring --------------------------------------------\n",
      "     duration     : 54.17\n",
      "     used_data    : ['86d75db877b96a80aed23124683a9f6ab3c46f034027fc1a415c80f43910fa11']\n",
      "     ------------------------------------------------------------\n"
     ]
    },
    {
     "data": {
      "image/png": "[encoded data removed]",
      "text/plain": [
       "<Figure size 360x360 with 1 Axes>"
      ]
     },
     "metadata": {
      "needs_background": "light"
     },
     "output_type": "display_data"
    },
    {
     "name": "stdout",
     "output_type": "stream",
     "text": [
      "y_pred is considered as classes array\n",
      "Nombre de données cumulées :  13740\n"
     ]
    },
    {
     "data": {
      "text/markdown": [
       "**Confusion matrix**"
      ],
      "text/plain": [
       "<IPython.core.display.Markdown object>"
      ]
     },
     "metadata": {},
     "output_type": "display_data"
    },
    {
     "data": {
      "image/png": "[encoded data removed]",
      "text/plain": [
       "<Figure size 576x432 with 2 Axes>"
      ]
     },
     "metadata": {
      "needs_background": "light"
     },
     "output_type": "display_data"
    },
    {
     "data": {
      "text/markdown": [
       "**Classification report**"
      ],
      "text/plain": [
       "<IPython.core.display.Markdown object>"
      ]
     },
     "metadata": {},
     "output_type": "display_data"
    },
    {
     "data": {
      "text/html": [
       "<div>\n",
       "<style scoped>\n",
       "    .dataframe tbody tr th:only-of-type {\n",
       "        vertical-align: middle;\n",
       "    }\n",
       "\n",
       "    .dataframe tbody tr th {\n",
       "        vertical-align: top;\n",
       "    }\n",
       "\n",
       "    .dataframe thead th {\n",
       "        text-align: right;\n",
       "    }\n",
       "</style>\n",
       "<table border=\"1\" class=\"dataframe\">\n",
       "  <thead>\n",
       "    <tr style=\"text-align: right;\">\n",
       "      <th></th>\n",
       "      <th>precision</th>\n",
       "      <th>recall</th>\n",
       "      <th>f1-score</th>\n",
       "      <th>support</th>\n",
       "    </tr>\n",
       "  </thead>\n",
       "  <tbody>\n",
       "    <tr>\n",
       "      <th>0</th>\n",
       "      <td>0.890735</td>\n",
       "      <td>0.858114</td>\n",
       "      <td>0.874120</td>\n",
       "      <td>4560.000000</td>\n",
       "    </tr>\n",
       "    <tr>\n",
       "      <th>1</th>\n",
       "      <td>0.930780</td>\n",
       "      <td>0.947712</td>\n",
       "      <td>0.939170</td>\n",
       "      <td>9180.000000</td>\n",
       "    </tr>\n",
       "    <tr>\n",
       "      <th>accuracy</th>\n",
       "      <td>0.917977</td>\n",
       "      <td>0.917977</td>\n",
       "      <td>0.917977</td>\n",
       "      <td>0.917977</td>\n",
       "    </tr>\n",
       "    <tr>\n",
       "      <th>macro avg</th>\n",
       "      <td>0.910758</td>\n",
       "      <td>0.902913</td>\n",
       "      <td>0.906645</td>\n",
       "      <td>13740.000000</td>\n",
       "    </tr>\n",
       "    <tr>\n",
       "      <th>weighted avg</th>\n",
       "      <td>0.917490</td>\n",
       "      <td>0.917977</td>\n",
       "      <td>0.917581</td>\n",
       "      <td>13740.000000</td>\n",
       "    </tr>\n",
       "  </tbody>\n",
       "</table>\n",
       "</div>"
      ],
      "text/plain": [
       "              precision    recall  f1-score       support\n",
       "0              0.890735  0.858114  0.874120   4560.000000\n",
       "1              0.930780  0.947712  0.939170   9180.000000\n",
       "accuracy       0.917977  0.917977  0.917977      0.917977\n",
       "macro avg      0.910758  0.902913  0.906645  13740.000000\n",
       "weighted avg   0.917490  0.917977  0.917581  13740.000000"
      ]
     },
     "metadata": {},
     "output_type": "display_data"
    },
    {
     "data": {
      "text/markdown": [
       "**Hamming Loss**"
      ],
      "text/plain": [
       "<IPython.core.display.Markdown object>"
      ]
     },
     "metadata": {},
     "output_type": "display_data"
    },
    {
     "name": "stdout",
     "output_type": "stream",
     "text": [
      "Hamming loss : 0.082\n"
     ]
    },
    {
     "data": {
      "text/markdown": [
       "<br>**Class_DRX-0006 Comparison of architecture on DRX class**"
      ],
      "text/plain": [
       "<IPython.core.display.Markdown object>"
      ]
     },
     "metadata": {},
     "output_type": "display_data"
    },
    {
     "name": "stdout",
     "output_type": "stream",
     "text": [
      "     ---- context -----------------------------------------------\n",
      "     function     : iterative_manyfold\n",
      "     version      : 2.14\n",
      "     date         : Tuesday 21 December 2021, 22:03:40\n",
      "     description  : Class_DRX-0006 Comparison of architecture on DRX class\n",
      "     seed         : None\n",
      "     ---- args --------------------------------------------------\n",
      "     run_dir      : /gpfsscratch/rech/ieq/commun/./run/campaign08_bis/RF_class/Class_DRX/Class_DRX-0006\n",
      "     dataset_id   : compo_DRX_class\n",
      "     model_id     : sklearn-rfr-50-20\n",
      "     n_iter       : 30\n",
      "     k_fold       : 5\n",
      "     epochs       : 200\n",
      "     batch_size   : 8\n",
      "     ---- settings ----------------------------------------------\n",
      "     file         : 08.3-RF_class-settings.yml\n",
      "     description  : Test of random forrest architecture.\n",
      "     datasets_dir : /gpfswork/rech/ieq/commun/./datasets\n",
      "     run_dir      : /gpfsscratch/rech/ieq/commun/./run/campaign08_bis/RF_class\n",
      "     ---- evaluation --------------------------------------------\n",
      "     id      count        mean           std\n",
      "     0       150           0.90          0.03\n",
      "     1       150           0.10          0.03\n",
      "     2       150           0.10          0.03\n",
      "     ---- monitoring --------------------------------------------\n",
      "     duration     : 19.37\n",
      "     used_data    : ['86d75db877b96a80aed23124683a9f6ab3c46f034027fc1a415c80f43910fa11']\n",
      "     ------------------------------------------------------------\n"
     ]
    },
    {
     "data": {
      "image/png": "[encoded data removed]",
      "text/plain": [
       "<Figure size 360x360 with 1 Axes>"
      ]
     },
     "metadata": {
      "needs_background": "light"
     },
     "output_type": "display_data"
    },
    {
     "name": "stdout",
     "output_type": "stream",
     "text": [
      "y_pred is considered as classes array\n",
      "Nombre de données cumulées :  13740\n"
     ]
    },
    {
     "data": {
      "text/markdown": [
       "**Confusion matrix**"
      ],
      "text/plain": [
       "<IPython.core.display.Markdown object>"
      ]
     },
     "metadata": {},
     "output_type": "display_data"
    },
    {
     "data": {
      "image/png": "[encoded data removed]",
      "text/plain": [
       "<Figure size 576x432 with 2 Axes>"
      ]
     },
     "metadata": {
      "needs_background": "light"
     },
     "output_type": "display_data"
    },
    {
     "data": {
      "text/markdown": [
       "**Classification report**"
      ],
      "text/plain": [
       "<IPython.core.display.Markdown object>"
      ]
     },
     "metadata": {},
     "output_type": "display_data"
    },
    {
     "data": {
      "text/html": [
       "<div>\n",
       "<style scoped>\n",
       "    .dataframe tbody tr th:only-of-type {\n",
       "        vertical-align: middle;\n",
       "    }\n",
       "\n",
       "    .dataframe tbody tr th {\n",
       "        vertical-align: top;\n",
       "    }\n",
       "\n",
       "    .dataframe thead th {\n",
       "        text-align: right;\n",
       "    }\n",
       "</style>\n",
       "<table border=\"1\" class=\"dataframe\">\n",
       "  <thead>\n",
       "    <tr style=\"text-align: right;\">\n",
       "      <th></th>\n",
       "      <th>precision</th>\n",
       "      <th>recall</th>\n",
       "      <th>f1-score</th>\n",
       "      <th>support</th>\n",
       "    </tr>\n",
       "  </thead>\n",
       "  <tbody>\n",
       "    <tr>\n",
       "      <th>0</th>\n",
       "      <td>0.888031</td>\n",
       "      <td>0.807018</td>\n",
       "      <td>0.845588</td>\n",
       "      <td>4560.000000</td>\n",
       "    </tr>\n",
       "    <tr>\n",
       "      <th>1</th>\n",
       "      <td>0.908295</td>\n",
       "      <td>0.949455</td>\n",
       "      <td>0.928419</td>\n",
       "      <td>9180.000000</td>\n",
       "    </tr>\n",
       "    <tr>\n",
       "      <th>accuracy</th>\n",
       "      <td>0.902183</td>\n",
       "      <td>0.902183</td>\n",
       "      <td>0.902183</td>\n",
       "      <td>0.902183</td>\n",
       "    </tr>\n",
       "    <tr>\n",
       "      <th>macro avg</th>\n",
       "      <td>0.898163</td>\n",
       "      <td>0.878236</td>\n",
       "      <td>0.887004</td>\n",
       "      <td>13740.000000</td>\n",
       "    </tr>\n",
       "    <tr>\n",
       "      <th>weighted avg</th>\n",
       "      <td>0.901570</td>\n",
       "      <td>0.902183</td>\n",
       "      <td>0.900929</td>\n",
       "      <td>13740.000000</td>\n",
       "    </tr>\n",
       "  </tbody>\n",
       "</table>\n",
       "</div>"
      ],
      "text/plain": [
       "              precision    recall  f1-score       support\n",
       "0              0.888031  0.807018  0.845588   4560.000000\n",
       "1              0.908295  0.949455  0.928419   9180.000000\n",
       "accuracy       0.902183  0.902183  0.902183      0.902183\n",
       "macro avg      0.898163  0.878236  0.887004  13740.000000\n",
       "weighted avg   0.901570  0.902183  0.900929  13740.000000"
      ]
     },
     "metadata": {},
     "output_type": "display_data"
    },
    {
     "data": {
      "text/markdown": [
       "**Hamming Loss**"
      ],
      "text/plain": [
       "<IPython.core.display.Markdown object>"
      ]
     },
     "metadata": {},
     "output_type": "display_data"
    },
    {
     "name": "stdout",
     "output_type": "stream",
     "text": [
      "Hamming loss : 0.098\n"
     ]
    },
    {
     "data": {
      "text/markdown": [
       "<br>**Class_DRX-0007 Comparison of architecture on DRX class**"
      ],
      "text/plain": [
       "<IPython.core.display.Markdown object>"
      ]
     },
     "metadata": {},
     "output_type": "display_data"
    },
    {
     "name": "stdout",
     "output_type": "stream",
     "text": [
      "     ---- context -----------------------------------------------\n",
      "     function     : iterative_manyfold\n",
      "     version      : 2.14\n",
      "     date         : Tuesday 21 December 2021, 22:03:40\n",
      "     description  : Class_DRX-0007 Comparison of architecture on DRX class\n",
      "     seed         : None\n",
      "     ---- args --------------------------------------------------\n",
      "     run_dir      : /gpfsscratch/rech/ieq/commun/./run/campaign08_bis/RF_class/Class_DRX/Class_DRX-0007\n",
      "     dataset_id   : compo_DRX_class\n",
      "     model_id     : sklearn-rfr-100-20\n",
      "     n_iter       : 30\n",
      "     k_fold       : 5\n",
      "     epochs       : 200\n",
      "     batch_size   : 8\n",
      "     ---- settings ----------------------------------------------\n",
      "     file         : 08.3-RF_class-settings.yml\n",
      "     description  : Test of random forrest architecture.\n",
      "     datasets_dir : /gpfswork/rech/ieq/commun/./datasets\n",
      "     run_dir      : /gpfsscratch/rech/ieq/commun/./run/campaign08_bis/RF_class\n",
      "     ---- evaluation --------------------------------------------\n",
      "     id      count        mean           std\n",
      "     0       150           0.90          0.03\n",
      "     1       150           0.10          0.03\n",
      "     2       150           0.10          0.03\n",
      "     ---- monitoring --------------------------------------------\n",
      "     duration     : 35.35\n",
      "     used_data    : ['86d75db877b96a80aed23124683a9f6ab3c46f034027fc1a415c80f43910fa11']\n",
      "     ------------------------------------------------------------\n"
     ]
    },
    {
     "data": {
      "image/png": "[encoded data removed]",
      "text/plain": [
       "<Figure size 360x360 with 1 Axes>"
      ]
     },
     "metadata": {
      "needs_background": "light"
     },
     "output_type": "display_data"
    },
    {
     "name": "stdout",
     "output_type": "stream",
     "text": [
      "y_pred is considered as classes array\n",
      "Nombre de données cumulées :  13740\n"
     ]
    },
    {
     "data": {
      "text/markdown": [
       "**Confusion matrix**"
      ],
      "text/plain": [
       "<IPython.core.display.Markdown object>"
      ]
     },
     "metadata": {},
     "output_type": "display_data"
    },
    {
     "data": {
      "image/png": "[encoded data removed]",
      "text/plain": [
       "<Figure size 576x432 with 2 Axes>"
      ]
     },
     "metadata": {
      "needs_background": "light"
     },
     "output_type": "display_data"
    },
    {
     "data": {
      "text/markdown": [
       "**Classification report**"
      ],
      "text/plain": [
       "<IPython.core.display.Markdown object>"
      ]
     },
     "metadata": {},
     "output_type": "display_data"
    },
    {
     "data": {
      "text/html": [
       "<div>\n",
       "<style scoped>\n",
       "    .dataframe tbody tr th:only-of-type {\n",
       "        vertical-align: middle;\n",
       "    }\n",
       "\n",
       "    .dataframe tbody tr th {\n",
       "        vertical-align: top;\n",
       "    }\n",
       "\n",
       "    .dataframe thead th {\n",
       "        text-align: right;\n",
       "    }\n",
       "</style>\n",
       "<table border=\"1\" class=\"dataframe\">\n",
       "  <thead>\n",
       "    <tr style=\"text-align: right;\">\n",
       "      <th></th>\n",
       "      <th>precision</th>\n",
       "      <th>recall</th>\n",
       "      <th>f1-score</th>\n",
       "      <th>support</th>\n",
       "    </tr>\n",
       "  </thead>\n",
       "  <tbody>\n",
       "    <tr>\n",
       "      <th>0</th>\n",
       "      <td>0.886342</td>\n",
       "      <td>0.805482</td>\n",
       "      <td>0.843980</td>\n",
       "      <td>4560.000000</td>\n",
       "    </tr>\n",
       "    <tr>\n",
       "      <th>1</th>\n",
       "      <td>0.907566</td>\n",
       "      <td>0.948693</td>\n",
       "      <td>0.927674</td>\n",
       "      <td>9180.000000</td>\n",
       "    </tr>\n",
       "    <tr>\n",
       "      <th>accuracy</th>\n",
       "      <td>0.901164</td>\n",
       "      <td>0.901164</td>\n",
       "      <td>0.901164</td>\n",
       "      <td>0.901164</td>\n",
       "    </tr>\n",
       "    <tr>\n",
       "      <th>macro avg</th>\n",
       "      <td>0.896954</td>\n",
       "      <td>0.877088</td>\n",
       "      <td>0.885827</td>\n",
       "      <td>13740.000000</td>\n",
       "    </tr>\n",
       "    <tr>\n",
       "      <th>weighted avg</th>\n",
       "      <td>0.900522</td>\n",
       "      <td>0.901164</td>\n",
       "      <td>0.899898</td>\n",
       "      <td>13740.000000</td>\n",
       "    </tr>\n",
       "  </tbody>\n",
       "</table>\n",
       "</div>"
      ],
      "text/plain": [
       "              precision    recall  f1-score       support\n",
       "0              0.886342  0.805482  0.843980   4560.000000\n",
       "1              0.907566  0.948693  0.927674   9180.000000\n",
       "accuracy       0.901164  0.901164  0.901164      0.901164\n",
       "macro avg      0.896954  0.877088  0.885827  13740.000000\n",
       "weighted avg   0.900522  0.901164  0.899898  13740.000000"
      ]
     },
     "metadata": {},
     "output_type": "display_data"
    },
    {
     "data": {
      "text/markdown": [
       "**Hamming Loss**"
      ],
      "text/plain": [
       "<IPython.core.display.Markdown object>"
      ]
     },
     "metadata": {},
     "output_type": "display_data"
    },
    {
     "name": "stdout",
     "output_type": "stream",
     "text": [
      "Hamming loss : 0.099\n"
     ]
    },
    {
     "data": {
      "text/markdown": [
       "<br>**Class_DRX-0008 Comparison of architecture on DRX class**"
      ],
      "text/plain": [
       "<IPython.core.display.Markdown object>"
      ]
     },
     "metadata": {},
     "output_type": "display_data"
    },
    {
     "name": "stdout",
     "output_type": "stream",
     "text": [
      "     ---- context -----------------------------------------------\n",
      "     function     : iterative_manyfold\n",
      "     version      : 2.14\n",
      "     date         : Tuesday 21 December 2021, 22:03:40\n",
      "     description  : Class_DRX-0008 Comparison of architecture on DRX class\n",
      "     seed         : None\n",
      "     ---- args --------------------------------------------------\n",
      "     run_dir      : /gpfsscratch/rech/ieq/commun/./run/campaign08_bis/RF_class/Class_DRX/Class_DRX-0008\n",
      "     dataset_id   : compo_DRX_class\n",
      "     model_id     : sklearn-rfr-150-20\n",
      "     n_iter       : 30\n",
      "     k_fold       : 5\n",
      "     epochs       : 200\n",
      "     batch_size   : 8\n",
      "     ---- settings ----------------------------------------------\n",
      "     file         : 08.3-RF_class-settings.yml\n",
      "     description  : Test of random forrest architecture.\n",
      "     datasets_dir : /gpfswork/rech/ieq/commun/./datasets\n",
      "     run_dir      : /gpfsscratch/rech/ieq/commun/./run/campaign08_bis/RF_class\n",
      "     ---- evaluation --------------------------------------------\n",
      "     id      count        mean           std\n",
      "     0       150           0.90          0.04\n",
      "     1       150           0.10          0.04\n",
      "     2       150           0.10          0.04\n",
      "     ---- monitoring --------------------------------------------\n",
      "     duration     : 51.22\n",
      "     used_data    : ['86d75db877b96a80aed23124683a9f6ab3c46f034027fc1a415c80f43910fa11']\n",
      "     ------------------------------------------------------------\n"
     ]
    },
    {
     "data": {
      "image/png": "[encoded data removed]",
      "text/plain": [
       "<Figure size 360x360 with 1 Axes>"
      ]
     },
     "metadata": {
      "needs_background": "light"
     },
     "output_type": "display_data"
    },
    {
     "name": "stdout",
     "output_type": "stream",
     "text": [
      "y_pred is considered as classes array\n",
      "Nombre de données cumulées :  13740\n"
     ]
    },
    {
     "data": {
      "text/markdown": [
       "**Confusion matrix**"
      ],
      "text/plain": [
       "<IPython.core.display.Markdown object>"
      ]
     },
     "metadata": {},
     "output_type": "display_data"
    },
    {
     "data": {
      "image/png": "[encoded data removed]",
      "text/plain": [
       "<Figure size 576x432 with 2 Axes>"
      ]
     },
     "metadata": {
      "needs_background": "light"
     },
     "output_type": "display_data"
    },
    {
     "data": {
      "text/markdown": [
       "**Classification report**"
      ],
      "text/plain": [
       "<IPython.core.display.Markdown object>"
      ]
     },
     "metadata": {},
     "output_type": "display_data"
    },
    {
     "data": {
      "text/html": [
       "<div>\n",
       "<style scoped>\n",
       "    .dataframe tbody tr th:only-of-type {\n",
       "        vertical-align: middle;\n",
       "    }\n",
       "\n",
       "    .dataframe tbody tr th {\n",
       "        vertical-align: top;\n",
       "    }\n",
       "\n",
       "    .dataframe thead th {\n",
       "        text-align: right;\n",
       "    }\n",
       "</style>\n",
       "<table border=\"1\" class=\"dataframe\">\n",
       "  <thead>\n",
       "    <tr style=\"text-align: right;\">\n",
       "      <th></th>\n",
       "      <th>precision</th>\n",
       "      <th>recall</th>\n",
       "      <th>f1-score</th>\n",
       "      <th>support</th>\n",
       "    </tr>\n",
       "  </thead>\n",
       "  <tbody>\n",
       "    <tr>\n",
       "      <th>0</th>\n",
       "      <td>0.888187</td>\n",
       "      <td>0.801316</td>\n",
       "      <td>0.842518</td>\n",
       "      <td>4560.000000</td>\n",
       "    </tr>\n",
       "    <tr>\n",
       "      <th>1</th>\n",
       "      <td>0.905880</td>\n",
       "      <td>0.949891</td>\n",
       "      <td>0.927364</td>\n",
       "      <td>9180.000000</td>\n",
       "    </tr>\n",
       "    <tr>\n",
       "      <th>accuracy</th>\n",
       "      <td>0.900582</td>\n",
       "      <td>0.900582</td>\n",
       "      <td>0.900582</td>\n",
       "      <td>0.900582</td>\n",
       "    </tr>\n",
       "    <tr>\n",
       "      <th>macro avg</th>\n",
       "      <td>0.897033</td>\n",
       "      <td>0.875603</td>\n",
       "      <td>0.884941</td>\n",
       "      <td>13740.000000</td>\n",
       "    </tr>\n",
       "    <tr>\n",
       "      <th>weighted avg</th>\n",
       "      <td>0.900008</td>\n",
       "      <td>0.900582</td>\n",
       "      <td>0.899205</td>\n",
       "      <td>13740.000000</td>\n",
       "    </tr>\n",
       "  </tbody>\n",
       "</table>\n",
       "</div>"
      ],
      "text/plain": [
       "              precision    recall  f1-score       support\n",
       "0              0.888187  0.801316  0.842518   4560.000000\n",
       "1              0.905880  0.949891  0.927364   9180.000000\n",
       "accuracy       0.900582  0.900582  0.900582      0.900582\n",
       "macro avg      0.897033  0.875603  0.884941  13740.000000\n",
       "weighted avg   0.900008  0.900582  0.899205  13740.000000"
      ]
     },
     "metadata": {},
     "output_type": "display_data"
    },
    {
     "data": {
      "text/markdown": [
       "**Hamming Loss**"
      ],
      "text/plain": [
       "<IPython.core.display.Markdown object>"
      ]
     },
     "metadata": {},
     "output_type": "display_data"
    },
    {
     "name": "stdout",
     "output_type": "stream",
     "text": [
      "Hamming loss : 0.099\n"
     ]
    }
   ],
   "source": [
    "settings = config.load('08.3-RF_class-settings.yml', verbose=1)\n",
    "\n",
    "save_figs = False\n",
    "\n",
    "reporter.show_run_reports(  settings,\n",
    "                            run_filter='.*',\n",
    "                            sections   = ['title','context','args','settings','evaluation', 'monitoring', 'distribution', 'confusion'],\n",
    "                            context    = ['function', 'version', 'date', 'description', 'seed'],\n",
    "                            args       = ['run_dir', 'dataset_id', 'model_id', 'n_iter', 'k_fold', 'epochs', 'batch_size'],\n",
    "                            settings   = ['file', 'version', 'description', 'datasets_dir', 'run_dir'],\n",
    "                            evaluation = ['all'],\n",
    "                            monitoring = ['duration', 'used_data'],\n",
    "                            history      = [ dict(metric='score', min=None,max=None, figsize=(5,5), savefig=save_figs, mplstyle='pyterk') ],\n",
    "                            distribution = [ dict(metric_id=0, bins=4,  min=None,max=None, figsize=(5,5), savefig=save_figs, mplstyle='pyterk') ],\n",
    "                            correlation  = [ dict(axes_min='auto',axes_max='auto', figsize=(8,6), marker='.', markersize=8, alpha=0.7, color='auto', savefig=save_figs, mplstyle='pyterk') ],\n",
    "                            confusion    = [ dict(normalize='pred', predict_type='classes', figsize=(8,6), savefig=save_figs, mplstyle='pyterk') ]\n",
    "                             )"
   ]
  },
  {
   "cell_type": "markdown",
   "id": "3dc957ce",
   "metadata": {},
   "source": [
    "---\n",
    "### PyTerK 2021"
   ]
  }
 ],
 "metadata": {
  "kernelspec": {
   "display_name": "Python 3",
   "language": "python",
   "name": "python3"
  },
  "language_info": {
   "codemirror_mode": {
    "name": "ipython",
    "version": 3
   },
   "file_extension": ".py",
   "mimetype": "text/x-python",
   "name": "python",
   "nbconvert_exporter": "python",
   "pygments_lexer": "ipython3",
   "version": "3.7.9"
  }
 },
 "nbformat": 4,
 "nbformat_minor": 5
}
