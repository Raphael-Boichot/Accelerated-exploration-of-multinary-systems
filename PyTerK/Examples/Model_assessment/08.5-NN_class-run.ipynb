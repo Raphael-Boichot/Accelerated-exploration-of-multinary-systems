{
 "cells": [
  {
   "cell_type": "markdown",
   "id": "eee84ce9",
   "metadata": {},
   "source": [
    "# **PyTerK** - run / 08.5-NN_class-run\n",
    "----\n",
    "An Python Iterated K-fold cross validation with shuffling  \n",
    "\n"
   ]
  },
  {
   "cell_type": "markdown",
   "id": "c5ab5cbc",
   "metadata": {},
   "source": [
    "## Step 1 - Init all\n"
   ]
  },
  {
   "cell_type": "code",
   "execution_count": 5,
   "id": "4a902312",
   "metadata": {},
   "outputs": [
    {
     "data": {
      "text/markdown": [
       "<br>**Pyterk - A Python iterative KFold stuff...**"
      ],
      "text/plain": [
       "<IPython.core.display.Markdown object>"
      ]
     },
     "metadata": {},
     "output_type": "display_data"
    },
    {
     "name": "stdout",
     "output_type": "stream",
     "text": [
      "settings     : 08.5-NN_class-settings.yml\n",
      "description  : Test of neural network architecture.\n",
      "settings v.  : 1.0\n",
      "seed         : 123\n",
      "datasets_dir : /gpfswork/rech/ieq/commun/./datasets\n",
      "run_dir      : /gpfsscratch/rech/ieq/commun/./run/campaign08/NN_class\n",
      "file         : 08.5-NN_class-settings.yml\n"
     ]
    },
    {
     "data": {
      "text/markdown": [
       "<br>**Load datasets...**"
      ],
      "text/plain": [
       "<IPython.core.display.Markdown object>"
      ]
     },
     "metadata": {},
     "output_type": "display_data"
    },
    {
     "name": "stdout",
     "output_type": "stream",
     "text": [
      "compo_CI_class : 74294bc7021bebc7a9f7d18f29fab04c2a20ddc966a5ab3b0694259162396008 (sha256)\n",
      "compo_DRX_class : 86d75db877b96a80aed23124683a9f6ab3c46f034027fc1a415c80f43910fa11 (sha256)\n"
     ]
    }
   ],
   "source": [
    "import sys\n",
    "sys.path.append('../..')\n",
    "\n",
    "import pyterk.config        as config\n",
    "import pyterk.task_manager  as task_manager\n",
    "import pyterk.reporter      as evaluation\n",
    "\n",
    "settings = config.load('08.5-NN_class-settings.yml', verbose=1)"
   ]
  },
  {
   "cell_type": "markdown",
   "id": "8bcff2a1",
   "metadata": {},
   "source": [
    "## Step 2 - Add tasks"
   ]
  },
  {
   "cell_type": "code",
   "execution_count": 6,
   "id": "3ee99c75",
   "metadata": {},
   "outputs": [],
   "source": [
    "# rm -r ./run/campaign3"
   ]
  },
  {
   "cell_type": "code",
   "execution_count": 7,
   "id": "6445154a",
   "metadata": {
    "tags": []
   },
   "outputs": [
    {
     "name": "stdout",
     "output_type": "stream",
     "text": [
      "All pending tasks have been removed.\n"
     ]
    },
    {
     "data": {
      "text/markdown": [
       "<br>**Add combinational iterative manyfold...**"
      ],
      "text/plain": [
       "<IPython.core.display.Markdown object>"
      ]
     },
     "metadata": {},
     "output_type": "display_data"
    },
    {
     "name": "stdout",
     "output_type": "stream",
     "text": [
      "Run name           : Class_CI\n",
      "Directory          : /gpfsscratch/rech/ieq/commun/./run/campaign08/NN_class/Class_CI\n",
      "Description        : Comparison of architecture on CI class\n",
      "Iterative manifold : 9\n",
      "Models to fit      : 1350\n",
      "Total pending tasks: 1350\n"
     ]
    },
    {
     "data": {
      "text/markdown": [
       "<br>**Add combinational iterative manyfold...**"
      ],
      "text/plain": [
       "<IPython.core.display.Markdown object>"
      ]
     },
     "metadata": {},
     "output_type": "display_data"
    },
    {
     "name": "stdout",
     "output_type": "stream",
     "text": [
      "Run name           : Class_DRX\n",
      "Directory          : /gpfsscratch/rech/ieq/commun/./run/campaign08/NN_class/Class_DRX\n",
      "Description        : Comparison of architecture on DRX class\n",
      "Iterative manifold : 9\n",
      "Models to fit      : 1350\n",
      "Total pending tasks: 2700\n"
     ]
    }
   ],
   "source": [
    "task_manager.reset()\n",
    "task_manager.add_combinational_iterative_manyfold(settings = settings, run_key= 'Class_CI')\n",
    "task_manager.add_combinational_iterative_manyfold(settings = settings, run_key= 'Class_DRX')"
   ]
  },
  {
   "cell_type": "markdown",
   "id": "47f51728",
   "metadata": {},
   "source": [
    "## Step 3 -  Run tasks\n",
    "At GRICAD, 32 cores : 340'"
   ]
  },
  {
   "cell_type": "code",
   "execution_count": 8,
   "id": "9439b173",
   "metadata": {
    "scrolled": true
   },
   "outputs": [
    {
     "data": {
      "text/markdown": [
       "<br>**Run pending tasks...**"
      ],
      "text/plain": [
       "<IPython.core.display.Markdown object>"
      ]
     },
     "metadata": {},
     "output_type": "display_data"
    },
    {
     "name": "stdout",
     "output_type": "stream",
     "text": [
      "Number of cores   : 80\n",
      "Number of workers : 40\n",
      "Number of tasks   : 2700 \n",
      "\n",
      "o : job start    O : job end    . :job already done    + : results synthesis\n",
      "\n",
      "oooooo.ooooooo.ooooo.ooooooo.ooooo.oooooo.ooooo.......o.....o.......o.....o......o.....ooooooo.ooooo.oooooo..ooooo.oooo.o.ooo.o.......o.....o....oo.o....o...o.o.o..o.o.oooooo.ooooo.oooo..o.oooo.oooo..oooo.o.o......o....o....o.oo.....o....oo....o.oo.oooooo.oooooo...o..ooooo.oooo.o..oo.o..o......o....oo.oo.oo.....o...o.ooo..o.oo.oooooo.oooo..o..o..oo.ooo.oo.o..oo.o...o......o....ooo.o.oooo...o...oo.o.o.o.oo.ooooooo.ooo..o..o....oooo.oo.o..o.oo...o.......o..o.o.oo.oooo....o..o.oo.o..ooo.oooooooo.oo.o..o....o..oo.ooo..o...o..o........o...oo.o.ooooooo..o...oooooo.ooo.ooooooo.ooo..oo.......o.oo.oo.....o....o.......o..o.o..ooooooo.o..o..ooooo.oooo.ooooo.o.oo.o.oo.......o.oo.oo.....o....o...o.o.o..o....oooooooo...o..ooooooo.oo.ooo..o..oo..ooo........ooo.oo......o...o..ooo.oooooo...oooooooo...o..oooooo.oooo.o...o......ooo.......ooo..oo......o....o.ooo.oooooo...ooooooo..o.o..ooooooo.ooo.o...o......ooo......o.o.o.oo.......o...oo.ooo.ooooo..o.oooooo.o..o.o.ooo.ooo.oo.o....o....o.oo.......o.ooo..o.o.o..o...o.oooo.ooooo...ooooooo.o..o.o.ooo..oo.oo.o..o......o.oo.......o.ooo..o...oo.o..o.o.o.oooooo.o..ooooooo.o..o.o.ooo..o.ooo..oo.......oo.o.......o.oo.o.o..o.oo....oo..ooooooo..oo.ooooooo..o....ooo...oooo..oo......o.o..o......o.oooooo...ooo....oo..ooooooo..ooo.ooooo.o......ooo...oooo..oo.......oo...o....o..oooooo...ooo...o.o..ooo.ooo..oooo.ooo.oo.....o.oo...ooo.o.oo.o.o...oo....o...o..ooooo.o..ooo...o.o.o..o.ooo..oooo.ooo.oo.....o.oo...ooo.o.oo.oo....oo....o...o..oooooo...ooo...o.o..o..oooo..ooooo.oo.oo......ooo..o.oo.oo.oo.o....oo.....o.o...ooooo....oo.o..o..o..oo.ooo..ooooo.o.ooo...oo.ooo..o.ooo.oo.o.o....oo.....o.o..o.oo......ooo....o.o..o.oooo..oooooo.o.oo..ooooooo...oooo.oo.oo.....oo.....o.o...oo.......ooo....o.o..o.ooooo.o.oooo..ooo..ooooooo...ooooo.o.oo....o..o.....oo..o.o.......ooo....o..o..ooooo.oo.oo.o.o.o.o.ooooooo...oooo..oo.o.....o..oo.o.o.o.o.o.......ooo...ooo.o.o.oooo.oo..oo..o.o.o.ooooooo...ooo...o.oo.....o..oo.o.oo..oo......o..o....oooo..o.ooo..oo..o.o.o.o..ooooooooo.oooo...o.oo..ooo.o..o.o.oo..oo........o....o.ooo..o.o..o..ooo..o..oo..oooooooo.oooo....o.oo..ooo.o..o.oo.o..oo.......o...o.ooooo...oo...o.oo....o.oo..oooooooo.oo.o.....ooo.o.oo.oo.oooo...o.o........o..o.ooooo...o.o..o.o...oo.oo.o.ooo.oooo.ooo.....o.ooo..oo.oo.oo..o..o.o.oo.....o..o.ooooo....oo..o.o...oo.oo.o.o.o.ooooo.o.o....o.ooo.o.oo.o.oo.o...o.o.oo......o.o.oooo.o..o.o...o.o.o.o.oo...o..ooooooo..o...o..ooo..oooo.o.o.o..ooooo.o.......ooo.ooo.o...oo....o.o.o.oo.....o.ooooooo...o..o.o.oo.o.ooo.o.o.o..oooooo.......o.ooo.o.oo...o.o..o..o.o.oo.....o.oooooo.o...oo...oooo.o.oo.oo..o..oooooo.......o.ooo..ooo....o.o.o...oo.oo......oooo.ooo....oo..o.oooo.o..ooo.o...oooooo..o.o..o.ooo..oo.o....o.oo..o..ooo......oo.o.oo.o..o.o..oo.ooo.o..oo.oo...oooooo..oo...o.oo.o.ooo.....o.oo..o..ooo.....o.o..ooo.o.o.o....ooooo.o.o.oo.o..o.ooooo..oo...o.o.o.oooo.....o.o.o..oo.o.o.....oo..ooo.o.o.o....ooooo.oo..oo..oo..ooooo.o.o..o..o.oo.ooo.....o..oo..oo..oo.....o.o.oo.oo.o..o...ooooo.oo..oo.o.o.o.oooo.oo..o...o.oo.ooo....o...oo.o..o.o.o....o.o.o.ooo.o..o..o.ooo.ooo.o.o.oo.o..oooo.oo.o....oo.o.ooo....o...oo..o.o..oo....o..o.oooo..oo....ooooo..o..ooo.o.o.o.oooo.o.o....oo.o.ooo....oooo.o...o.o.oo....o.o.o.ooo..oo....oooo....o.oooo..o..oooo.o.oo....oo.o.ooo....oooo.o....oo.oo....oo..o.ooo...o....oooo....o.oooo.o..o.ooo...oo...oooo.oooo....oooo.o....o.ooo...oooo.o.oo...o.....oooo...o..ooooo..o.oo....o.o..o.oo.ooooo....oooo.o....o.oo...oooo.o.ooo..o......oooo....oo.oooo..o.oo...o.o...o.o.oooo.o....oooo.o....o.o.o.o.ooo.o.ooo.o...oo.o.ooo...o.o.oooo..oo..o..o.o...o.o.oo.o.o...o.oo.o.o....oo..oo.oo.o.oooo.o...oo.o.oo.o.o..oo.ooo.o.o..o.o..o....oo.oo..oo..o..o.oo.o....o.oo.o.o.oo.oooo.o..o.o.o.oo.o.o..oo.ooo.o.o..o.o.o.....oo.o.o.oo..o..o.oo......oo..ooo..oo..ooo.o..o.o.o..o.oo..ooooooo.o.o..o.o.ooo...o.oo.o.ooooo.o..o.......o.oo.o.o.o...oooo..o..o...o.o..oo.oooooo...o.o.o.o.oo....oo.oo.ooo.o.oo..o....oo.oo.o.oo.o..o.ooo.....o...oo..o.o.oooo.o..o.o...oo.oo...ooooooo.oo..ooo..o....o..o.o..oo.o...ooo.......o..oo..o...oo.ooooo.ooo..o.ooo...ooooooo.oo..oooooo.o......o..o.o.o...ooo......o..o.o....o.ooo.oooo.ooo.o.ooo....oooooo.oo.o.ooooo....o....o...o.o...oooo.....o..o..o.....oooo.oooo.oooo..ooo....oooooo.o.oo.ooooo....o....o...o.o...oo.o.....o.o...o.....oooo.oooo.oooo..oooo.o.oooo.o.oooo.oooo....o...o.....oo...o.o....o..o....o....oooo.ooo.ooooo.o.oo.oo.ooo.oo.ooooo.ooo...o....o.....oo..o...o..o..o.....o...o.oo.oooo.ooooo..oo.ooo.oo.oo.oooooo.oo.o..o....o.....oo..o..o..o..o......o...o.oo.oooo.ooooo..oo.oo..o.ooo.oooo..oooo..o.....o.....oo.o.o.oo.o...o..o.oo....ooo.oooo.ooo.o.o.o..o..o.oooo.o.o.o.ooo...o....o.o.o.oo..oo.ooo....o..oo.o...o.ooo.oooo.o.o..o.o.o...o.ooo.oo.o.o.ooo....o...o..o.oo.oo.o.oo.o...o.o.o..o..o.ooo.oooo..o..o..o.o..o.o.oo.o.o.ooo.oo....o...ooo.oo.ooo.o.oo.o..o.o.o...o...oooo.ooo...o.o...o.o...o.ooo..o.oooo.oo...o....ooo.oo.oo.o.oo..o..o.o.o...o...ooo.oooo..o...o.o..ooo.oo.oo.o..oooo.oo..o.....ooo.ooo..oo...o..o..o.oo....o..oo.ooooo..o...o.o..oooo.oo.o....oooo.oo..o....oo.o.ooo..oo....o..oooooo....o..oo.ooo...oo....oo..oooo.oo......oooooo..o..oo.oo..oo.o..oo....o.o.oo.oo.....o.o.oo..o..oooo.o.o..ooooo..ooo...ooooo.o.o.o.oo.o...o..oo.o.....oo...ooo....o..o.oo...o.ooo.oo..oo..ooo.o.oo..o.oooo.o.o..ooo.o...o.o.o.ooo...o.o..oo.o...o.o..oo...o.oooo.o....o.oo.o.o.o..oo.o.oo.o.oo.o....o.oo...o.o.o...o...o.o..oo.oo..oo...o.o.oo.o.o.o...o..o....o...oo..oo.o.....\n",
      "++++++++++++++++++++++++++++++++++++++++++++++++++++++++++++++++++++++++++++++++++++++++++++++++++++++++++++++++++++++++++++++++++++"
     ]
    },
    {
     "ename": "KeyboardInterrupt",
     "evalue": "",
     "output_type": "error",
     "traceback": [
      "\u001b[0;31m---------------------------------------------------------------------------\u001b[0m",
      "\u001b[0;31mKeyboardInterrupt\u001b[0m                         Traceback (most recent call last)",
      "\u001b[0;32m<ipython-input-8-38c4204b179b>\u001b[0m in \u001b[0;36m<module>\u001b[0;34m\u001b[0m\n\u001b[0;32m----> 1\u001b[0;31m \u001b[0mtask_manager\u001b[0m\u001b[0;34m.\u001b[0m\u001b[0mrun\u001b[0m\u001b[0;34m(\u001b[0m\u001b[0mprocesses\u001b[0m\u001b[0;34m=\u001b[0m\u001b[0;36m40\u001b[0m\u001b[0;34m,\u001b[0m \u001b[0mmaxtasksperchild\u001b[0m\u001b[0;34m=\u001b[0m\u001b[0;36m20\u001b[0m\u001b[0;34m)\u001b[0m\u001b[0;34m\u001b[0m\u001b[0;34m\u001b[0m\u001b[0m\n\u001b[0m",
      "\u001b[0;32m/gpfsdswork/projects/rech/ieq/commun/pyterk/pyterk/task_manager.py\u001b[0m in \u001b[0;36mrun\u001b[0;34m(processes, maxtasksperchild, verbose)\u001b[0m\n\u001b[1;32m    383\u001b[0m     \u001b[0mprint\u001b[0m\u001b[0;34m(\u001b[0m\u001b[0;34m)\u001b[0m\u001b[0;34m\u001b[0m\u001b[0;34m\u001b[0m\u001b[0m\n\u001b[1;32m    384\u001b[0m     \u001b[0;32mfor\u001b[0m \u001b[0mrun_dir\u001b[0m\u001b[0;34m,\u001b[0m\u001b[0mabout\u001b[0m \u001b[0;32min\u001b[0m \u001b[0m_posts\u001b[0m\u001b[0;34m.\u001b[0m\u001b[0mitems\u001b[0m\u001b[0;34m(\u001b[0m\u001b[0;34m)\u001b[0m\u001b[0;34m:\u001b[0m\u001b[0;34m\u001b[0m\u001b[0;34m\u001b[0m\u001b[0m\n\u001b[0;32m--> 385\u001b[0;31m         \u001b[0m_post_update\u001b[0m\u001b[0;34m(\u001b[0m\u001b[0mrun_dir\u001b[0m\u001b[0;34m,\u001b[0m\u001b[0mabout\u001b[0m\u001b[0;34m)\u001b[0m\u001b[0;34m\u001b[0m\u001b[0;34m\u001b[0m\u001b[0m\n\u001b[0m\u001b[1;32m    386\u001b[0m \u001b[0;34m\u001b[0m\u001b[0m\n\u001b[1;32m    387\u001b[0m     \u001b[0;31m# ---- All is done\u001b[0m\u001b[0;34m\u001b[0m\u001b[0;34m\u001b[0m\u001b[0;34m\u001b[0m\u001b[0m\n",
      "\u001b[0;32m/gpfsdswork/projects/rech/ieq/commun/pyterk/pyterk/task_manager.py\u001b[0m in \u001b[0;36m_post_update\u001b[0;34m(run_dir, about, verbose)\u001b[0m\n\u001b[1;32m    448\u001b[0m         \u001b[0mjson\u001b[0m\u001b[0;34m.\u001b[0m\u001b[0mdump\u001b[0m\u001b[0;34m(\u001b[0m\u001b[0mabout\u001b[0m\u001b[0;34m,\u001b[0m \u001b[0mfd\u001b[0m\u001b[0;34m,\u001b[0m          \u001b[0msort_keys\u001b[0m\u001b[0;34m=\u001b[0m\u001b[0;32mFalse\u001b[0m\u001b[0;34m,\u001b[0m \u001b[0mindent\u001b[0m\u001b[0;34m=\u001b[0m\u001b[0;36m4\u001b[0m\u001b[0;34m)\u001b[0m\u001b[0;34m\u001b[0m\u001b[0;34m\u001b[0m\u001b[0m\n\u001b[1;32m    449\u001b[0m     \u001b[0;32mwith\u001b[0m \u001b[0mopen\u001b[0m\u001b[0;34m(\u001b[0m\u001b[0mhistfile\u001b[0m\u001b[0;34m,\u001b[0m \u001b[0;34m'w'\u001b[0m\u001b[0;34m)\u001b[0m  \u001b[0;32mas\u001b[0m \u001b[0mfd\u001b[0m\u001b[0;34m:\u001b[0m\u001b[0;34m\u001b[0m\u001b[0;34m\u001b[0m\u001b[0m\n\u001b[0;32m--> 450\u001b[0;31m         \u001b[0mjson\u001b[0m\u001b[0;34m.\u001b[0m\u001b[0mdump\u001b[0m\u001b[0;34m(\u001b[0m\u001b[0mall_history\u001b[0m\u001b[0;34m,\u001b[0m \u001b[0mfd\u001b[0m\u001b[0;34m,\u001b[0m    \u001b[0msort_keys\u001b[0m\u001b[0;34m=\u001b[0m\u001b[0;32mFalse\u001b[0m\u001b[0;34m,\u001b[0m \u001b[0mindent\u001b[0m\u001b[0;34m=\u001b[0m\u001b[0;36m4\u001b[0m\u001b[0;34m)\u001b[0m\u001b[0;34m\u001b[0m\u001b[0;34m\u001b[0m\u001b[0m\n\u001b[0m\u001b[1;32m    451\u001b[0m     \u001b[0;32mwith\u001b[0m \u001b[0mopen\u001b[0m\u001b[0;34m(\u001b[0m\u001b[0mevalfile\u001b[0m\u001b[0;34m,\u001b[0m \u001b[0;34m'w'\u001b[0m\u001b[0;34m)\u001b[0m  \u001b[0;32mas\u001b[0m \u001b[0mfd\u001b[0m\u001b[0;34m:\u001b[0m\u001b[0;34m\u001b[0m\u001b[0;34m\u001b[0m\u001b[0m\n\u001b[1;32m    452\u001b[0m         \u001b[0mjson\u001b[0m\u001b[0;34m.\u001b[0m\u001b[0mdump\u001b[0m\u001b[0;34m(\u001b[0m\u001b[0mall_evaluation\u001b[0m\u001b[0;34m,\u001b[0m \u001b[0mfd\u001b[0m\u001b[0;34m,\u001b[0m \u001b[0msort_keys\u001b[0m\u001b[0;34m=\u001b[0m\u001b[0;32mFalse\u001b[0m\u001b[0;34m,\u001b[0m \u001b[0mindent\u001b[0m\u001b[0;34m=\u001b[0m\u001b[0;36m4\u001b[0m\u001b[0;34m)\u001b[0m\u001b[0;34m\u001b[0m\u001b[0;34m\u001b[0m\u001b[0m\n",
      "\u001b[0;32m/gpfslocalsup/pub/anaconda-py3/2020.02/envs/tensorflow-2.4.0-cpu/lib/python3.7/json/__init__.py\u001b[0m in \u001b[0;36mdump\u001b[0;34m(obj, fp, skipkeys, ensure_ascii, check_circular, allow_nan, cls, indent, separators, default, sort_keys, **kw)\u001b[0m\n\u001b[1;32m    177\u001b[0m     \u001b[0;31m# could accelerate with writelines in some versions of Python, at\u001b[0m\u001b[0;34m\u001b[0m\u001b[0;34m\u001b[0m\u001b[0;34m\u001b[0m\u001b[0m\n\u001b[1;32m    178\u001b[0m     \u001b[0;31m# a debuggability cost\u001b[0m\u001b[0;34m\u001b[0m\u001b[0;34m\u001b[0m\u001b[0;34m\u001b[0m\u001b[0m\n\u001b[0;32m--> 179\u001b[0;31m     \u001b[0;32mfor\u001b[0m \u001b[0mchunk\u001b[0m \u001b[0;32min\u001b[0m \u001b[0miterable\u001b[0m\u001b[0;34m:\u001b[0m\u001b[0;34m\u001b[0m\u001b[0;34m\u001b[0m\u001b[0m\n\u001b[0m\u001b[1;32m    180\u001b[0m         \u001b[0mfp\u001b[0m\u001b[0;34m.\u001b[0m\u001b[0mwrite\u001b[0m\u001b[0;34m(\u001b[0m\u001b[0mchunk\u001b[0m\u001b[0;34m)\u001b[0m\u001b[0;34m\u001b[0m\u001b[0;34m\u001b[0m\u001b[0m\n\u001b[1;32m    181\u001b[0m \u001b[0;34m\u001b[0m\u001b[0m\n",
      "\u001b[0;32m/gpfslocalsup/pub/anaconda-py3/2020.02/envs/tensorflow-2.4.0-cpu/lib/python3.7/json/encoder.py\u001b[0m in \u001b[0;36m_iterencode\u001b[0;34m(o, _current_indent_level)\u001b[0m\n\u001b[1;32m    427\u001b[0m             \u001b[0;32myield\u001b[0m \u001b[0m_floatstr\u001b[0m\u001b[0;34m(\u001b[0m\u001b[0mo\u001b[0m\u001b[0;34m)\u001b[0m\u001b[0;34m\u001b[0m\u001b[0;34m\u001b[0m\u001b[0m\n\u001b[1;32m    428\u001b[0m         \u001b[0;32melif\u001b[0m \u001b[0misinstance\u001b[0m\u001b[0;34m(\u001b[0m\u001b[0mo\u001b[0m\u001b[0;34m,\u001b[0m \u001b[0;34m(\u001b[0m\u001b[0mlist\u001b[0m\u001b[0;34m,\u001b[0m \u001b[0mtuple\u001b[0m\u001b[0;34m)\u001b[0m\u001b[0;34m)\u001b[0m\u001b[0;34m:\u001b[0m\u001b[0;34m\u001b[0m\u001b[0;34m\u001b[0m\u001b[0m\n\u001b[0;32m--> 429\u001b[0;31m             \u001b[0;32myield\u001b[0m \u001b[0;32mfrom\u001b[0m \u001b[0m_iterencode_list\u001b[0m\u001b[0;34m(\u001b[0m\u001b[0mo\u001b[0m\u001b[0;34m,\u001b[0m \u001b[0m_current_indent_level\u001b[0m\u001b[0;34m)\u001b[0m\u001b[0;34m\u001b[0m\u001b[0;34m\u001b[0m\u001b[0m\n\u001b[0m\u001b[1;32m    430\u001b[0m         \u001b[0;32melif\u001b[0m \u001b[0misinstance\u001b[0m\u001b[0;34m(\u001b[0m\u001b[0mo\u001b[0m\u001b[0;34m,\u001b[0m \u001b[0mdict\u001b[0m\u001b[0;34m)\u001b[0m\u001b[0;34m:\u001b[0m\u001b[0;34m\u001b[0m\u001b[0;34m\u001b[0m\u001b[0m\n\u001b[1;32m    431\u001b[0m             \u001b[0;32myield\u001b[0m \u001b[0;32mfrom\u001b[0m \u001b[0m_iterencode_dict\u001b[0m\u001b[0;34m(\u001b[0m\u001b[0mo\u001b[0m\u001b[0;34m,\u001b[0m \u001b[0m_current_indent_level\u001b[0m\u001b[0;34m)\u001b[0m\u001b[0;34m\u001b[0m\u001b[0;34m\u001b[0m\u001b[0m\n",
      "\u001b[0;32m/gpfslocalsup/pub/anaconda-py3/2020.02/envs/tensorflow-2.4.0-cpu/lib/python3.7/json/encoder.py\u001b[0m in \u001b[0;36m_iterencode_list\u001b[0;34m(lst, _current_indent_level)\u001b[0m\n\u001b[1;32m    323\u001b[0m                 \u001b[0;32melse\u001b[0m\u001b[0;34m:\u001b[0m\u001b[0;34m\u001b[0m\u001b[0;34m\u001b[0m\u001b[0m\n\u001b[1;32m    324\u001b[0m                     \u001b[0mchunks\u001b[0m \u001b[0;34m=\u001b[0m \u001b[0m_iterencode\u001b[0m\u001b[0;34m(\u001b[0m\u001b[0mvalue\u001b[0m\u001b[0;34m,\u001b[0m \u001b[0m_current_indent_level\u001b[0m\u001b[0;34m)\u001b[0m\u001b[0;34m\u001b[0m\u001b[0;34m\u001b[0m\u001b[0m\n\u001b[0;32m--> 325\u001b[0;31m                 \u001b[0;32myield\u001b[0m \u001b[0;32mfrom\u001b[0m \u001b[0mchunks\u001b[0m\u001b[0;34m\u001b[0m\u001b[0;34m\u001b[0m\u001b[0m\n\u001b[0m\u001b[1;32m    326\u001b[0m         \u001b[0;32mif\u001b[0m \u001b[0mnewline_indent\u001b[0m \u001b[0;32mis\u001b[0m \u001b[0;32mnot\u001b[0m \u001b[0;32mNone\u001b[0m\u001b[0;34m:\u001b[0m\u001b[0;34m\u001b[0m\u001b[0;34m\u001b[0m\u001b[0m\n\u001b[1;32m    327\u001b[0m             \u001b[0m_current_indent_level\u001b[0m \u001b[0;34m-=\u001b[0m \u001b[0;36m1\u001b[0m\u001b[0;34m\u001b[0m\u001b[0;34m\u001b[0m\u001b[0m\n",
      "\u001b[0;32m/gpfslocalsup/pub/anaconda-py3/2020.02/envs/tensorflow-2.4.0-cpu/lib/python3.7/json/encoder.py\u001b[0m in \u001b[0;36m_iterencode_dict\u001b[0;34m(dct, _current_indent_level)\u001b[0m\n\u001b[1;32m    403\u001b[0m                 \u001b[0;32melse\u001b[0m\u001b[0;34m:\u001b[0m\u001b[0;34m\u001b[0m\u001b[0;34m\u001b[0m\u001b[0m\n\u001b[1;32m    404\u001b[0m                     \u001b[0mchunks\u001b[0m \u001b[0;34m=\u001b[0m \u001b[0m_iterencode\u001b[0m\u001b[0;34m(\u001b[0m\u001b[0mvalue\u001b[0m\u001b[0;34m,\u001b[0m \u001b[0m_current_indent_level\u001b[0m\u001b[0;34m)\u001b[0m\u001b[0;34m\u001b[0m\u001b[0;34m\u001b[0m\u001b[0m\n\u001b[0;32m--> 405\u001b[0;31m                 \u001b[0;32myield\u001b[0m \u001b[0;32mfrom\u001b[0m \u001b[0mchunks\u001b[0m\u001b[0;34m\u001b[0m\u001b[0;34m\u001b[0m\u001b[0m\n\u001b[0m\u001b[1;32m    406\u001b[0m         \u001b[0;32mif\u001b[0m \u001b[0mnewline_indent\u001b[0m \u001b[0;32mis\u001b[0m \u001b[0;32mnot\u001b[0m \u001b[0;32mNone\u001b[0m\u001b[0;34m:\u001b[0m\u001b[0;34m\u001b[0m\u001b[0;34m\u001b[0m\u001b[0m\n\u001b[1;32m    407\u001b[0m             \u001b[0m_current_indent_level\u001b[0m \u001b[0;34m-=\u001b[0m \u001b[0;36m1\u001b[0m\u001b[0;34m\u001b[0m\u001b[0;34m\u001b[0m\u001b[0m\n",
      "\u001b[0;32m/gpfslocalsup/pub/anaconda-py3/2020.02/envs/tensorflow-2.4.0-cpu/lib/python3.7/json/encoder.py\u001b[0m in \u001b[0;36m_iterencode_list\u001b[0;34m(lst, _current_indent_level)\u001b[0m\n\u001b[1;32m    314\u001b[0m             \u001b[0;32melif\u001b[0m \u001b[0misinstance\u001b[0m\u001b[0;34m(\u001b[0m\u001b[0mvalue\u001b[0m\u001b[0;34m,\u001b[0m \u001b[0mfloat\u001b[0m\u001b[0;34m)\u001b[0m\u001b[0;34m:\u001b[0m\u001b[0;34m\u001b[0m\u001b[0;34m\u001b[0m\u001b[0m\n\u001b[1;32m    315\u001b[0m                 \u001b[0;31m# see comment above for int\u001b[0m\u001b[0;34m\u001b[0m\u001b[0;34m\u001b[0m\u001b[0;34m\u001b[0m\u001b[0m\n\u001b[0;32m--> 316\u001b[0;31m                 \u001b[0;32myield\u001b[0m \u001b[0mbuf\u001b[0m \u001b[0;34m+\u001b[0m \u001b[0m_floatstr\u001b[0m\u001b[0;34m(\u001b[0m\u001b[0mvalue\u001b[0m\u001b[0;34m)\u001b[0m\u001b[0;34m\u001b[0m\u001b[0;34m\u001b[0m\u001b[0m\n\u001b[0m\u001b[1;32m    317\u001b[0m             \u001b[0;32melse\u001b[0m\u001b[0;34m:\u001b[0m\u001b[0;34m\u001b[0m\u001b[0;34m\u001b[0m\u001b[0m\n\u001b[1;32m    318\u001b[0m                 \u001b[0;32myield\u001b[0m \u001b[0mbuf\u001b[0m\u001b[0;34m\u001b[0m\u001b[0;34m\u001b[0m\u001b[0m\n",
      "\u001b[0;32m/gpfslocalsup/pub/anaconda-py3/2020.02/envs/tensorflow-2.4.0-cpu/lib/python3.7/json/encoder.py\u001b[0m in \u001b[0;36mfloatstr\u001b[0;34m(o, allow_nan, _repr, _inf, _neginf)\u001b[0m\n\u001b[1;32m    234\u001b[0m                 \u001b[0mtext\u001b[0m \u001b[0;34m=\u001b[0m \u001b[0;34m'-Infinity'\u001b[0m\u001b[0;34m\u001b[0m\u001b[0;34m\u001b[0m\u001b[0m\n\u001b[1;32m    235\u001b[0m             \u001b[0;32melse\u001b[0m\u001b[0;34m:\u001b[0m\u001b[0;34m\u001b[0m\u001b[0;34m\u001b[0m\u001b[0m\n\u001b[0;32m--> 236\u001b[0;31m                 \u001b[0;32mreturn\u001b[0m \u001b[0m_repr\u001b[0m\u001b[0;34m(\u001b[0m\u001b[0mo\u001b[0m\u001b[0;34m)\u001b[0m\u001b[0;34m\u001b[0m\u001b[0;34m\u001b[0m\u001b[0m\n\u001b[0m\u001b[1;32m    237\u001b[0m \u001b[0;34m\u001b[0m\u001b[0m\n\u001b[1;32m    238\u001b[0m             \u001b[0;32mif\u001b[0m \u001b[0;32mnot\u001b[0m \u001b[0mallow_nan\u001b[0m\u001b[0;34m:\u001b[0m\u001b[0;34m\u001b[0m\u001b[0;34m\u001b[0m\u001b[0m\n",
      "\u001b[0;31mKeyboardInterrupt\u001b[0m: "
     ]
    }
   ],
   "source": [
    "task_manager.run(processes=40, maxtasksperchild=20)"
   ]
  },
  {
   "cell_type": "markdown",
   "id": "ccb39fff",
   "metadata": {},
   "source": [
    "---\n",
    "### PyTerK 2021"
   ]
  }
 ],
 "metadata": {
  "kernelspec": {
   "display_name": "Python 3",
   "language": "python",
   "name": "python3"
  },
  "language_info": {
   "codemirror_mode": {
    "name": "ipython",
    "version": 3
   },
   "file_extension": ".py",
   "mimetype": "text/x-python",
   "name": "python",
   "nbconvert_exporter": "python",
   "pygments_lexer": "ipython3",
   "version": "3.7.10"
  }
 },
 "nbformat": 4,
 "nbformat_minor": 5
}
