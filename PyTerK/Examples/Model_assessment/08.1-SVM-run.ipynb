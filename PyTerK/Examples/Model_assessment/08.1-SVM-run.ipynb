{
 "cells": [
  {
   "cell_type": "markdown",
   "id": "guided-figure",
   "metadata": {},
   "source": [
    "# **PyTerK** / 08.1-SVM-run\n",
    "----\n",
    "An Python Iterated K-fold cross validation with shuffling  "
   ]
  },
  {
   "cell_type": "markdown",
   "id": "prepared-chester",
   "metadata": {},
   "source": [
    "## Step 1 - Init all"
   ]
  },
  {
   "cell_type": "code",
   "execution_count": null,
   "id": "plastic-cassette",
   "metadata": {},
   "outputs": [],
   "source": [
    "import sys\n",
    "sys.path.append('../..')\n",
    "\n",
    "import pyterk.config        as config\n",
    "import pyterk.task_manager  as task_manager\n",
    "import pyterk.reporter      as evaluation\n",
    "\n",
    "settings = config.load('08.1-SVM-settings.yml', verbose=1)"
   ]
  },
  {
   "cell_type": "markdown",
   "id": "elder-juvenile",
   "metadata": {},
   "source": [
    "## Step 2 - Add tasks"
   ]
  },
  {
   "cell_type": "code",
   "execution_count": null,
   "id": "final-mother",
   "metadata": {
    "tags": []
   },
   "outputs": [],
   "source": [
    "task_manager.reset()\n",
    "task_manager.add_combinational_iterative_manyfold(settings = settings, run_key= 'Fit_E')\n",
    "task_manager.add_combinational_iterative_manyfold(settings = settings, run_key= 'Fit_H')\n",
    "task_manager.add_combinational_iterative_manyfold(settings = settings, run_key= 'Fit_CI')\n",
    "task_manager.add_combinational_iterative_manyfold(settings = settings, run_key= 'Fit_IQ')"
   ]
  },
  {
   "cell_type": "markdown",
   "id": "controversial-stack",
   "metadata": {},
   "source": [
    "## Step 3 -  Run tasks\n",
    "At GRICAD, 32 cores : 340'"
   ]
  },
  {
   "cell_type": "code",
   "execution_count": null,
   "id": "peripheral-natural",
   "metadata": {},
   "outputs": [],
   "source": [
    "task_manager.run(processes=40, maxtasksperchild=20)"
   ]
  },
  {
   "cell_type": "markdown",
   "id": "special-breakfast",
   "metadata": {},
   "source": [
    "\n",
    "---\n",
    "### PyTerK 2021"
   ]
  }
 ],
 "metadata": {
  "kernelspec": {
   "display_name": "Python 3",
   "language": "python",
   "name": "python3"
  },
  "language_info": {
   "codemirror_mode": {
    "name": "ipython",
    "version": 3
   },
   "file_extension": ".py",
   "mimetype": "text/x-python",
   "name": "python",
   "nbconvert_exporter": "python",
   "pygments_lexer": "ipython3",
   "version": "3.7.10"
  }
 },
 "nbformat": 4,
 "nbformat_minor": 5
}
