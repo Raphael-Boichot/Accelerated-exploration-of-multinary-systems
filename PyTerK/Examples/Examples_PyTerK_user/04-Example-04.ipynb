{
 "cells": [
  {
   "cell_type": "markdown",
   "id": "ae783a34",
   "metadata": {},
   "source": [
    "# **PyTerK** - A Python Iterated K-fold cross validation with shuffling  \n",
    "----\n",
    "\n",
    "## Example 3 - **combinational_iterative_manyfold()**\n"
   ]
  },
  {
   "cell_type": "markdown",
   "id": "22e766a4",
   "metadata": {},
   "source": [
    "## Step 1 - Init python"
   ]
  },
  {
   "cell_type": "code",
   "execution_count": null,
   "id": "4434dddb",
   "metadata": {},
   "outputs": [],
   "source": [
    "import sys\n",
    "sys.path.append('../..')\n",
    "\n",
    "import pyterk.config       as config\n",
    "import pyterk.task_manager as task_manager\n",
    "import pyterk.reporter     as reporter"
   ]
  },
  {
   "cell_type": "markdown",
   "id": "ccb3f768",
   "metadata": {},
   "source": [
    "## Step 2 - Load settings\n",
    "Settings are in a usefull and human readable yaml format :-)"
   ]
  },
  {
   "cell_type": "code",
   "execution_count": null,
   "id": "b344cc3f",
   "metadata": {},
   "outputs": [],
   "source": [
    "settings = config.load('settings_example.yml')\n",
    "\n",
    "run_dir  = config.run_dir"
   ]
  },
  {
   "cell_type": "markdown",
   "id": "0e4e1528",
   "metadata": {},
   "source": [
    "## Step 3 - Add combinational iterative manyfold tasks"
   ]
  },
  {
   "cell_type": "code",
   "execution_count": null,
   "id": "55157efc",
   "metadata": {},
   "outputs": [],
   "source": [
    "task_manager.reset()\n",
    "task_manager.seed(settings)\n",
    "\n",
    "task_manager.add_combinational_iterative_manyfold(settings = settings, run_key= 'Example-04.1')\n",
    "task_manager.add_combinational_iterative_manyfold(settings = settings, run_key= 'Example-04.2')\n",
    "task_manager.add_combinational_iterative_manyfold(settings = settings, run_key= 'Example-04.3')"
   ]
  },
  {
   "cell_type": "markdown",
   "id": "53205b04",
   "metadata": {},
   "source": [
    "## Step 4 - Run tasks\n",
    "On my laptop, with 8 cores : 26.96'  \n",
    "At GRICAD, with 32 cores : 7.02'"
   ]
  },
  {
   "cell_type": "code",
   "execution_count": null,
   "id": "f0d7e8b9",
   "metadata": {},
   "outputs": [],
   "source": [
    "task_manager.run()"
   ]
  },
  {
   "cell_type": "markdown",
   "id": "db21ae94",
   "metadata": {},
   "source": [
    "## Step 5 - Show report"
   ]
  },
  {
   "cell_type": "code",
   "execution_count": null,
   "id": "c2a3348e",
   "metadata": {},
   "outputs": [],
   "source": [
    "reporter.show_run_reports(  settings,\n",
    "                            run_filter='Example-04.*',\n",
    "                            sections   = ['title','context','args','settings','evaluation', 'monitoring', 'history', 'distribution', 'correlation'],\n",
    "                            context    = ['function', 'version', 'date', 'description', 'seed'],\n",
    "                            args       = ['run_dir', 'dataset_id', 'model_id', 'n_iter', 'k_fold', 'epochs', 'batch_size'],\n",
    "                            settings   = ['file', 'version', 'description', 'datasets_dir', 'run_dir'],\n",
    "                            evaluation = ['all'],\n",
    "                            monitoring = ['duration', 'used_data'],\n",
    "                            history      = [ dict(metric='val_mae',    min=None,max=None, figsize=(8,6), savefig=True, mplstyle='pyterk') ],\n",
    "                            distribution = [ dict(metric_id=2, bins=4, min=None,max=None, figsize=(8,6), savefig=True, mplstyle='pyterk') ],\n",
    "                            correlation  = [ dict(axes_min='auto',axes_max='auto', figsize=(8,6), marker='.', markersize=8, alpha=0.7, color='auto', savefig=True, mplstyle='pyterk') ],\n",
    "                            confusion    = [ dict(normalize='pred', figsize=(5,5), savefig=True, mplstyle='pyterk') ]\n",
    "                             )"
   ]
  },
  {
   "cell_type": "markdown",
   "id": "ad9f1f60",
   "metadata": {},
   "source": [
    "---\n",
    "### PyTerK 2021"
   ]
  }
 ],
 "metadata": {
  "interpreter": {
   "hash": "7822d55dc7294a4f6f06b86d8ad2ca65bd6e1ee5d72628c47c30a06bbf89aef6"
  },
  "kernelspec": {
   "display_name": "Python 3",
   "language": "python",
   "name": "python3"
  },
  "language_info": {
   "codemirror_mode": {
    "name": "ipython",
    "version": 3
   },
   "file_extension": ".py",
   "mimetype": "text/x-python",
   "name": "python",
   "nbconvert_exporter": "python",
   "pygments_lexer": "ipython3",
   "version": "3.8.5"
  }
 },
 "nbformat": 4,
 "nbformat_minor": 5
}
