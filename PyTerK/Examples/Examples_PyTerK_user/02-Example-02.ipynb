{
 "cells": [
  {
   "cell_type": "markdown",
   "metadata": {},
   "source": [
    "# **PyTerK** - A Python Iterated K-fold cross validation with shuffling  \n",
    "----\n",
    "\n",
    "## Example 1 - **manyfold()** using **sklearn** model\n"
   ]
  },
  {
   "cell_type": "markdown",
   "metadata": {},
   "source": [
    "## Step 1 - Init python"
   ]
  },
  {
   "cell_type": "code",
   "execution_count": null,
   "metadata": {},
   "outputs": [],
   "source": [
    "import sys\n",
    "sys.path.append('../..')\n",
    "\n",
    "import pyterk.config       as config\n",
    "import pyterk.task_manager as task_manager\n",
    "import pyterk.reporter     as reporter"
   ]
  },
  {
   "cell_type": "markdown",
   "metadata": {},
   "source": [
    "## Step 2 - Load settings\n",
    "Settings are in a usefull and human readable yaml format :-)"
   ]
  },
  {
   "cell_type": "code",
   "execution_count": null,
   "metadata": {},
   "outputs": [],
   "source": [
    "settings = config.load('settings_example.yml')\n",
    "\n",
    "run_dir  = config.run_dir"
   ]
  },
  {
   "cell_type": "markdown",
   "metadata": {},
   "source": [
    "## Step 3 - Add manyfold tasks"
   ]
  },
  {
   "cell_type": "code",
   "execution_count": null,
   "metadata": {},
   "outputs": [],
   "source": [
    "task_manager.reset()\n",
    "task_manager.seed(settings)\n",
    "\n",
    "task_manager.add_manyfold(settings    = settings, \n",
    "                          run_dir     = f'{run_dir}/Example-02',\n",
    "                          dataset_id  = 'BHPD1', \n",
    "                          model_id    = 'sklearn-rfr-02', \n",
    "                          k_fold      = 8, \n",
    "                          description = 'Manyfold test with sklearn',\n",
    "                          save_yytest = True\n",
    "                          )"
   ]
  },
  {
   "cell_type": "markdown",
   "metadata": {},
   "source": [
    "## Step 4 - Run tasks\n",
    "On my laptop, with 8 cores : .5 to 1'  "
   ]
  },
  {
   "cell_type": "code",
   "execution_count": null,
   "metadata": {},
   "outputs": [],
   "source": [
    "task_manager.run()"
   ]
  },
  {
   "cell_type": "markdown",
   "metadata": {},
   "source": [
    "## Step 5 - Show report"
   ]
  },
  {
   "cell_type": "code",
   "execution_count": null,
   "metadata": {},
   "outputs": [],
   "source": [
    "reporter.show_report( f'{run_dir}/Example-02', \n",
    "                      sections=['title', 'context', 'args', 'settings', 'evaluation', 'monitoring', 'distribution'], \n",
    "                      context=['function', 'version', 'date', 'description', 'seed'], \n",
    "                      args=['run_dir', 'dataset_id', 'model_id', 'n_iter', 'k_fold'], \n",
    "                      settings=['file', 'version', 'description', 'datasets_dir', 'run_dir'], \n",
    "                      evaluation=['all'], \n",
    "                      monitoring=['duration', 'used_data'], \n",
    "                      history=[{'metric': 'score', 'figsize': (8, 6), 'savefig': True, 'mplstyle': 'pyterk'}],\n",
    "                      distribution=[{'metric_id': 0, 'min': None, 'max': None, 'bins': 4, 'figsize': (8, 6), 'savefig': True, 'mplstyle': 'pyterk'}])"
   ]
  },
  {
   "cell_type": "code",
   "execution_count": null,
   "metadata": {},
   "outputs": [],
   "source": [
    "reporter.plot_kfold_correlation(f'{run_dir}/Example-02',channel=0, color='tomato', alpha=0.4, markersize=8)"
   ]
  },
  {
   "cell_type": "markdown",
   "metadata": {},
   "source": [
    "## Step 6 - Reload sklearn model"
   ]
  },
  {
   "cell_type": "code",
   "execution_count": null,
   "metadata": {},
   "outputs": [],
   "source": [
    "import joblib\n",
    "\n",
    "modelfile = f'{run_dir}/Example-02/kfold-00/savedmodel.joblib'\n",
    "\n",
    "model = joblib.load(modelfile)\n",
    "\n",
    "data=[1,2,3,1,2,3,1,2,3,1,2,3,1]\n",
    "model.predict([data])"
   ]
  },
  {
   "cell_type": "markdown",
   "metadata": {},
   "source": [
    "---\n",
    "### PyTerK 2021"
   ]
  }
 ],
 "metadata": {
  "interpreter": {
   "hash": "7822d55dc7294a4f6f06b86d8ad2ca65bd6e1ee5d72628c47c30a06bbf89aef6"
  },
  "kernelspec": {
   "display_name": "Python 3.8.10 64-bit ('fidle': conda)",
   "name": "python3"
  },
  "language_info": {
   "codemirror_mode": {
    "name": "ipython",
    "version": 3
   },
   "file_extension": ".py",
   "mimetype": "text/x-python",
   "name": "python",
   "nbconvert_exporter": "python",
   "pygments_lexer": "ipython3",
   "version": "3.9.7"
  }
 },
 "nbformat": 4,
 "nbformat_minor": 5
}
