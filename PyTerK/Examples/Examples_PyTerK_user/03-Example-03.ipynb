{
 "cells": [
  {
   "cell_type": "markdown",
   "id": "83acae5e",
   "metadata": {},
   "source": [
    "# **PyTerK** - A Python Iterated K-fold cross validation with shuffling  \n",
    "----\n",
    "\n",
    "## Example 2 - **iterative_manyfold()**\n"
   ]
  },
  {
   "cell_type": "markdown",
   "id": "4beb4b23",
   "metadata": {},
   "source": [
    "## Step 1 - Init python"
   ]
  },
  {
   "cell_type": "code",
   "execution_count": null,
   "id": "39926eb4",
   "metadata": {},
   "outputs": [],
   "source": [
    "import sys\n",
    "sys.path.append('../..')\n",
    "\n",
    "import pyterk.config       as config\n",
    "import pyterk.task_manager as task_manager\n",
    "import pyterk.reporter     as reporter"
   ]
  },
  {
   "cell_type": "markdown",
   "id": "19a4e261",
   "metadata": {},
   "source": [
    "## Step 2 - Load settings\n",
    "Settings are in a usefull and human readable yaml format :-)"
   ]
  },
  {
   "cell_type": "code",
   "execution_count": null,
   "id": "916c5217",
   "metadata": {},
   "outputs": [],
   "source": [
    "settings = config.load('settings_example.yml')\n",
    "\n",
    "run_dir  = config.run_dir"
   ]
  },
  {
   "cell_type": "markdown",
   "id": "5cf74b26",
   "metadata": {},
   "source": [
    "## Step 3 - Add iterative manyfold tasks (Keras model)\n",
    "with 8 cores : 12'"
   ]
  },
  {
   "cell_type": "code",
   "execution_count": null,
   "id": "ff3ae208",
   "metadata": {},
   "outputs": [],
   "source": [
    "task_manager.reset()\n",
    "task_manager.seed(settings)\n",
    "\n",
    "task_manager.add_iterative_manyfold(settings    = settings, \n",
    "                                    run_dir     = f'{run_dir}/Example-03k',\n",
    "                                    dataset_id  = 'BHPD1',\n",
    "                                    model_id    = 'keras-32x64x32', \n",
    "                                    n_iter      = 4,\n",
    "                                    k_fold      = 8,\n",
    "                                    epochs      = 10, \n",
    "                                    batch_size  = 10, \n",
    "                                    description = 'Iterative manyfold test', \n",
    "                                    save_yytest = True\n",
    "                                   )"
   ]
  },
  {
   "cell_type": "code",
   "execution_count": null,
   "id": "377b8453",
   "metadata": {},
   "outputs": [],
   "source": [
    "task_manager.run()"
   ]
  },
  {
   "cell_type": "code",
   "execution_count": null,
   "id": "2dd3512c",
   "metadata": {},
   "outputs": [],
   "source": [
    "reporter.show_report(f'{run_dir}/Example-03k', \n",
    "                      sections=['title', 'context', 'args', 'settings', 'evaluation', 'monitoring', 'distribution', 'history'],\n",
    "                      distribution=[{'metric_id': 2, 'min': None, 'max': None, 'bins': 4, 'figsize': (8, 6), 'savefig': True, 'mplstyle': 'pyterk'}])"
   ]
  },
  {
   "cell_type": "markdown",
   "id": "00c2ed8d",
   "metadata": {},
   "source": [
    "## Step 4 - Add iterative manyfold tasks (sklearn model)\n",
    "with 8 cores : 1'"
   ]
  },
  {
   "cell_type": "code",
   "execution_count": null,
   "id": "18fe22f9",
   "metadata": {},
   "outputs": [],
   "source": [
    "task_manager.reset()\n",
    "task_manager.seed(settings)\n",
    "\n",
    "task_manager.add_iterative_manyfold(settings    = settings, \n",
    "                                    run_dir     = f'{run_dir}/Example-03s',\n",
    "                                    dataset_id  = 'BHPD1',\n",
    "                                    model_id    = 'sklearn-rfr-02', \n",
    "                                    n_iter      = 4,\n",
    "                                    k_fold      = 8,\n",
    "                                    epochs      = 10, \n",
    "                                    batch_size  = 10, \n",
    "                                    description = 'Iterative manyfold test',\n",
    "                                    save_yytest = True\n",
    "                                   )"
   ]
  },
  {
   "cell_type": "code",
   "execution_count": null,
   "id": "ec5df97e",
   "metadata": {},
   "outputs": [],
   "source": [
    "task_manager.run()"
   ]
  },
  {
   "cell_type": "code",
   "execution_count": null,
   "id": "c4382b19",
   "metadata": {},
   "outputs": [],
   "source": [
    "reporter.show_report(f'{run_dir}/Example-03s', \n",
    "                      sections=['title', 'context', 'args', 'settings', 'evaluation', 'monitoring', 'distribution'],\n",
    "                      distribution=[{'metric_id': 0, 'min': None, 'max': None, 'bins': 4, 'figsize': (8, 6), 'savefig': True, 'mplstyle': 'pyterk'}])"
   ]
  },
  {
   "cell_type": "markdown",
   "id": "a1fd51aa",
   "metadata": {},
   "source": [
    "---\n",
    "### PyTerK 2021"
   ]
  }
 ],
 "metadata": {
  "interpreter": {
   "hash": "7822d55dc7294a4f6f06b86d8ad2ca65bd6e1ee5d72628c47c30a06bbf89aef6"
  },
  "kernelspec": {
   "display_name": "Python 3.8.10 64-bit ('fidle': conda)",
   "name": "python3"
  },
  "language_info": {
   "codemirror_mode": {
    "name": "ipython",
    "version": 3
   },
   "file_extension": ".py",
   "mimetype": "text/x-python",
   "name": "python",
   "nbconvert_exporter": "python",
   "pygments_lexer": "ipython3",
   "version": "3.9.7"
  }
 },
 "nbformat": 4,
 "nbformat_minor": 5
}
