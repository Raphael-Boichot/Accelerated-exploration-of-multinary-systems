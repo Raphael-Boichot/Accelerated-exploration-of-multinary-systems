{
 "cells": [
  {
   "cell_type": "markdown",
   "id": "361510ca",
   "metadata": {},
   "source": [
    "# **PyTerK** - A Python Iterated K-fold cross validation with shuffling  \n",
    "----\n",
    "\n",
    "## Example 1 - **manyfold()** using **keras** model\n"
   ]
  },
  {
   "cell_type": "markdown",
   "id": "4a3deec4",
   "metadata": {},
   "source": [
    "## Step 1 - Init python"
   ]
  },
  {
   "cell_type": "code",
   "execution_count": 1,
   "id": "d5822648",
   "metadata": {},
   "outputs": [],
   "source": [
    "import sys\n",
    "sys.path.append('../..')\n",
    "\n",
    "import pyterk.config       as config\n",
    "import pyterk.task_manager as task_manager\n",
    "import pyterk.reporter     as reporter\n",
    "\n",
    "import pandas as pd"
   ]
  },
  {
   "cell_type": "markdown",
   "id": "9d8ba7bf",
   "metadata": {},
   "source": [
    "## Step 2 - Load settings\n",
    "Settings are in a usefull and human readable yaml format :-)"
   ]
  },
  {
   "cell_type": "code",
   "execution_count": 9,
   "id": "219a0225",
   "metadata": {},
   "outputs": [
    {
     "data": {
      "text/markdown": [
       "<br>**Pyterk - A Python iterative KFold stuff...**"
      ],
      "text/plain": [
       "<IPython.core.display.Markdown object>"
      ]
     },
     "metadata": {},
     "output_type": "display_data"
    },
    {
     "name": "stdout",
     "output_type": "stream",
     "text": [
      "settings     : settings_example.yml\n",
      "description  : Parameters for a first iteration campaign.\n",
      "datasets_dir : .\n",
      "run_dir      : ./run\n"
     ]
    }
   ],
   "source": [
    "settings = config.load('settings_example.yml',\n",
    "                        datasets_dir_env='undef', run_dir_env='undef')\n",
    "\n",
    "run_dir  = config.run_dir"
   ]
  },
  {
   "cell_type": "markdown",
   "id": "f7ff0892",
   "metadata": {},
   "source": [
    "## Step 3 - Add manyfold tasks"
   ]
  },
  {
   "cell_type": "code",
   "execution_count": 10,
   "id": "0ff7e62b",
   "metadata": {},
   "outputs": [
    {
     "name": "stdout",
     "output_type": "stream",
     "text": [
      "All pending tasks have been removed.\n"
     ]
    },
    {
     "data": {
      "text/markdown": [
       "<br>**Init random generators...**"
      ],
      "text/plain": [
       "<IPython.core.display.Markdown object>"
      ]
     },
     "metadata": {},
     "output_type": "display_data"
    },
    {
     "name": "stdout",
     "output_type": "stream",
     "text": [
      "With seed    : 123\n"
     ]
    },
    {
     "data": {
      "text/markdown": [
       "<br>**Add manyfold taks...**"
      ],
      "text/plain": [
       "<IPython.core.display.Markdown object>"
      ]
     },
     "metadata": {},
     "output_type": "display_data"
    },
    {
     "name": "stdout",
     "output_type": "stream",
     "text": [
      "Directory          : ./run/Example-01\n",
      "Description        : Manyfold test\n",
      "Models to fit      : 8\n",
      "Total pending tasks: 8\n"
     ]
    }
   ],
   "source": [
    "task_manager.reset()\n",
    "task_manager.seed(settings)\n",
    "\n",
    "task_manager.add_manyfold(settings    = settings, \n",
    "                          run_dir     = f'{run_dir}/Example-01',\n",
    "                          dataset_id  = 'BHPD1', \n",
    "                          model_id    = 'keras-32x64x32', \n",
    "                          k_fold      = 8,\n",
    "                          epochs      = 30, \n",
    "                          batch_size  = 10, \n",
    "                          description = 'Manyfold test',\n",
    "                          save_xxtest = True,\n",
    "                          save_yytest = True\n",
    "                          )"
   ]
  },
  {
   "cell_type": "markdown",
   "id": "84ed34db",
   "metadata": {},
   "source": [
    "## Step 4 - Run tasks\n",
    "On my laptop, with 8 cores : 6 to 8'"
   ]
  },
  {
   "cell_type": "code",
   "execution_count": 11,
   "id": "20315121",
   "metadata": {},
   "outputs": [
    {
     "data": {
      "text/markdown": [
       "<br>**Run pending tasks...**"
      ],
      "text/plain": [
       "<IPython.core.display.Markdown object>"
      ]
     },
     "metadata": {},
     "output_type": "display_data"
    },
    {
     "name": "stdout",
     "output_type": "stream",
     "text": [
      "Number of cores   : 8\n",
      "Number of workers : 8\n",
      "Number of tasks   : 8 \n",
      "\n",
      "o : job start    O : job end    . :job already done    + : results synthesis\n",
      "\n",
      "oooooooo"
     ]
    },
    {
     "ename": "TypeError",
     "evalue": "Object of type float32 is not JSON serializable",
     "output_type": "error",
     "traceback": [
      "\u001b[0;31m---------------------------------------------------------------------------\u001b[0m",
      "\u001b[0;31mRemoteTraceback\u001b[0m                           Traceback (most recent call last)",
      "\u001b[0;31mRemoteTraceback\u001b[0m: \n\"\"\"\nTraceback (most recent call last):\n  File \"/Users/elisegarel/opt/anaconda3/lib/python3.7/multiprocessing/pool.py\", line 121, in worker\n    result = (True, func(*args, **kwds))\n  File \"/Users/elisegarel/opt/anaconda3/lib/python3.7/multiprocessing/pool.py\", line 47, in starmapstar\n    return list(itertools.starmap(args[0], args[1]))\n  File \"../../pyterk/worker.py\", line 288, in model_fit\n    model_fit_tensorflow(model, run_dir, x_train,y_train, x_test,y_test, epochs, batch_size, save_xxtest, save_yytest)\n  File \"../../pyterk/worker.py\", line 119, in model_fit_tensorflow\n    json.dump(history.history, fd, sort_keys=False, indent=4)\n  File \"/Users/elisegarel/opt/anaconda3/lib/python3.7/json/__init__.py\", line 179, in dump\n    for chunk in iterable:\n  File \"/Users/elisegarel/opt/anaconda3/lib/python3.7/json/encoder.py\", line 431, in _iterencode\n    yield from _iterencode_dict(o, _current_indent_level)\n  File \"/Users/elisegarel/opt/anaconda3/lib/python3.7/json/encoder.py\", line 405, in _iterencode_dict\n    yield from chunks\n  File \"/Users/elisegarel/opt/anaconda3/lib/python3.7/json/encoder.py\", line 325, in _iterencode_list\n    yield from chunks\n  File \"/Users/elisegarel/opt/anaconda3/lib/python3.7/json/encoder.py\", line 438, in _iterencode\n    o = _default(o)\n  File \"/Users/elisegarel/opt/anaconda3/lib/python3.7/json/encoder.py\", line 179, in default\n    raise TypeError(f'Object of type {o.__class__.__name__} '\nTypeError: Object of type float32 is not JSON serializable\n\"\"\"",
      "\nThe above exception was the direct cause of the following exception:\n",
      "\u001b[0;31mTypeError\u001b[0m                                 Traceback (most recent call last)",
      "\u001b[0;32m<ipython-input-11-bc6cd60cca3b>\u001b[0m in \u001b[0;36m<module>\u001b[0;34m\u001b[0m\n\u001b[0;32m----> 1\u001b[0;31m \u001b[0mtask_manager\u001b[0m\u001b[0;34m.\u001b[0m\u001b[0mrun\u001b[0m\u001b[0;34m(\u001b[0m\u001b[0;34m)\u001b[0m\u001b[0;34m\u001b[0m\u001b[0;34m\u001b[0m\u001b[0m\n\u001b[0m",
      "\u001b[0;32m~/Desktop/PUBLI/Fichier git/accelerated-exploration-of-multinary/pyterk/task_manager.py\u001b[0m in \u001b[0;36mrun\u001b[0;34m(processes, maxtasksperchild, verbose)\u001b[0m\n\u001b[1;32m    380\u001b[0m     \u001b[0;31m# ---- Run...\u001b[0m\u001b[0;34m\u001b[0m\u001b[0;34m\u001b[0m\u001b[0;34m\u001b[0m\u001b[0m\n\u001b[1;32m    381\u001b[0m     \u001b[0mstart\u001b[0m \u001b[0;34m=\u001b[0m \u001b[0mtimer\u001b[0m\u001b[0;34m(\u001b[0m\u001b[0;34m)\u001b[0m\u001b[0;34m\u001b[0m\u001b[0;34m\u001b[0m\u001b[0m\n\u001b[0;32m--> 382\u001b[0;31m     \u001b[0mres\u001b[0m   \u001b[0;34m=\u001b[0m \u001b[0mpool\u001b[0m\u001b[0;34m.\u001b[0m\u001b[0mstarmap\u001b[0m\u001b[0;34m(\u001b[0m\u001b[0mworker\u001b[0m\u001b[0;34m.\u001b[0m\u001b[0mmodel_fit\u001b[0m\u001b[0;34m,\u001b[0m \u001b[0m_tasks\u001b[0m\u001b[0;34m)\u001b[0m\u001b[0;34m\u001b[0m\u001b[0;34m\u001b[0m\u001b[0m\n\u001b[0m\u001b[1;32m    383\u001b[0m     \u001b[0mpool\u001b[0m\u001b[0;34m.\u001b[0m\u001b[0mclose\u001b[0m\u001b[0;34m(\u001b[0m\u001b[0;34m)\u001b[0m\u001b[0;34m\u001b[0m\u001b[0;34m\u001b[0m\u001b[0m\n\u001b[1;32m    384\u001b[0m     \u001b[0mpool\u001b[0m\u001b[0;34m.\u001b[0m\u001b[0mjoin\u001b[0m\u001b[0;34m(\u001b[0m\u001b[0;34m)\u001b[0m\u001b[0;34m\u001b[0m\u001b[0;34m\u001b[0m\u001b[0m\n",
      "\u001b[0;32m~/opt/anaconda3/lib/python3.7/multiprocessing/pool.py\u001b[0m in \u001b[0;36mstarmap\u001b[0;34m(self, func, iterable, chunksize)\u001b[0m\n\u001b[1;32m    274\u001b[0m         \u001b[0;31m`\u001b[0m\u001b[0mfunc\u001b[0m\u001b[0;31m`\u001b[0m \u001b[0;32mand\u001b[0m \u001b[0;34m(\u001b[0m\u001b[0ma\u001b[0m\u001b[0;34m,\u001b[0m \u001b[0mb\u001b[0m\u001b[0;34m)\u001b[0m \u001b[0mbecomes\u001b[0m \u001b[0mfunc\u001b[0m\u001b[0;34m(\u001b[0m\u001b[0ma\u001b[0m\u001b[0;34m,\u001b[0m \u001b[0mb\u001b[0m\u001b[0;34m)\u001b[0m\u001b[0;34m.\u001b[0m\u001b[0;34m\u001b[0m\u001b[0;34m\u001b[0m\u001b[0m\n\u001b[1;32m    275\u001b[0m         '''\n\u001b[0;32m--> 276\u001b[0;31m         \u001b[0;32mreturn\u001b[0m \u001b[0mself\u001b[0m\u001b[0;34m.\u001b[0m\u001b[0m_map_async\u001b[0m\u001b[0;34m(\u001b[0m\u001b[0mfunc\u001b[0m\u001b[0;34m,\u001b[0m \u001b[0miterable\u001b[0m\u001b[0;34m,\u001b[0m \u001b[0mstarmapstar\u001b[0m\u001b[0;34m,\u001b[0m \u001b[0mchunksize\u001b[0m\u001b[0;34m)\u001b[0m\u001b[0;34m.\u001b[0m\u001b[0mget\u001b[0m\u001b[0;34m(\u001b[0m\u001b[0;34m)\u001b[0m\u001b[0;34m\u001b[0m\u001b[0;34m\u001b[0m\u001b[0m\n\u001b[0m\u001b[1;32m    277\u001b[0m \u001b[0;34m\u001b[0m\u001b[0m\n\u001b[1;32m    278\u001b[0m     def starmap_async(self, func, iterable, chunksize=None, callback=None,\n",
      "\u001b[0;32m~/opt/anaconda3/lib/python3.7/multiprocessing/pool.py\u001b[0m in \u001b[0;36mget\u001b[0;34m(self, timeout)\u001b[0m\n\u001b[1;32m    655\u001b[0m             \u001b[0;32mreturn\u001b[0m \u001b[0mself\u001b[0m\u001b[0;34m.\u001b[0m\u001b[0m_value\u001b[0m\u001b[0;34m\u001b[0m\u001b[0;34m\u001b[0m\u001b[0m\n\u001b[1;32m    656\u001b[0m         \u001b[0;32melse\u001b[0m\u001b[0;34m:\u001b[0m\u001b[0;34m\u001b[0m\u001b[0;34m\u001b[0m\u001b[0m\n\u001b[0;32m--> 657\u001b[0;31m             \u001b[0;32mraise\u001b[0m \u001b[0mself\u001b[0m\u001b[0;34m.\u001b[0m\u001b[0m_value\u001b[0m\u001b[0;34m\u001b[0m\u001b[0;34m\u001b[0m\u001b[0m\n\u001b[0m\u001b[1;32m    658\u001b[0m \u001b[0;34m\u001b[0m\u001b[0m\n\u001b[1;32m    659\u001b[0m     \u001b[0;32mdef\u001b[0m \u001b[0m_set\u001b[0m\u001b[0;34m(\u001b[0m\u001b[0mself\u001b[0m\u001b[0;34m,\u001b[0m \u001b[0mi\u001b[0m\u001b[0;34m,\u001b[0m \u001b[0mobj\u001b[0m\u001b[0;34m)\u001b[0m\u001b[0;34m:\u001b[0m\u001b[0;34m\u001b[0m\u001b[0;34m\u001b[0m\u001b[0m\n",
      "\u001b[0;31mTypeError\u001b[0m: Object of type float32 is not JSON serializable"
     ]
    }
   ],
   "source": [
    "task_manager.run()"
   ]
  },
  {
   "cell_type": "markdown",
   "id": "28e1b3b0",
   "metadata": {},
   "source": [
    "## Step 5 - Show report"
   ]
  },
  {
   "cell_type": "code",
   "execution_count": 7,
   "id": "c2b948dd",
   "metadata": {},
   "outputs": [
    {
     "data": {
      "text/markdown": [
       "Report for : **./run/Example-01**"
      ],
      "text/plain": [
       "<IPython.core.display.Markdown object>"
      ]
     },
     "metadata": {},
     "output_type": "display_data"
    },
    {
     "data": {
      "text/markdown": [
       "This report have **8** parts :"
      ],
      "text/plain": [
       "<IPython.core.display.Markdown object>"
      ]
     },
     "metadata": {},
     "output_type": "display_data"
    },
    {
     "data": {
      "text/markdown": [
       "  - kfold-00\n",
       "  - kfold-01\n",
       "  - kfold-02\n",
       "  - kfold-03\n",
       "  - kfold-04\n",
       "  - kfold-05\n",
       "  - kfold-06\n",
       "  - kfold-07"
      ],
      "text/plain": [
       "<IPython.core.display.Markdown object>"
      ]
     },
     "metadata": {},
     "output_type": "display_data"
    },
    {
     "data": {
      "text/markdown": [
       "Report for : **./run/Example-01/kfold-00**"
      ],
      "text/plain": [
       "<IPython.core.display.Markdown object>"
      ]
     },
     "metadata": {},
     "output_type": "display_data"
    },
    {
     "data": {
      "text/markdown": [
       "This report have **4** parts :"
      ],
      "text/plain": [
       "<IPython.core.display.Markdown object>"
      ]
     },
     "metadata": {},
     "output_type": "display_data"
    },
    {
     "data": {
      "text/markdown": [
       "  - bestmodel.h5\n",
       "  - history.json\n",
       "  - xxtest.json\n",
       "  - yytest.json"
      ],
      "text/plain": [
       "<IPython.core.display.Markdown object>"
      ]
     },
     "metadata": {},
     "output_type": "display_data"
    },
    {
     "ename": "NotADirectoryError",
     "evalue": "[Errno 20] Not a directory: './run/Example-01/kfold-00/bestmodel.h5'",
     "output_type": "error",
     "traceback": [
      "\u001b[0;31m---------------------------------------------------------------------------\u001b[0m",
      "\u001b[0;31mNotADirectoryError\u001b[0m                        Traceback (most recent call last)",
      "\u001b[0;32m<ipython-input-7-577010487001>\u001b[0m in \u001b[0;36m<module>\u001b[0;34m\u001b[0m\n\u001b[1;32m      9\u001b[0m                         \u001b[0mdistribution\u001b[0m \u001b[0;34m=\u001b[0m \u001b[0;34m[\u001b[0m \u001b[0mdict\u001b[0m\u001b[0;34m(\u001b[0m\u001b[0mmetric_id\u001b[0m\u001b[0;34m=\u001b[0m\u001b[0;36m2\u001b[0m\u001b[0;34m,\u001b[0m \u001b[0mbins\u001b[0m\u001b[0;34m=\u001b[0m\u001b[0;36m4\u001b[0m\u001b[0;34m,\u001b[0m \u001b[0mmin\u001b[0m\u001b[0;34m=\u001b[0m\u001b[0;32mNone\u001b[0m\u001b[0;34m,\u001b[0m\u001b[0mmax\u001b[0m\u001b[0;34m=\u001b[0m\u001b[0;32mNone\u001b[0m\u001b[0;34m,\u001b[0m \u001b[0mfigsize\u001b[0m\u001b[0;34m=\u001b[0m\u001b[0;34m(\u001b[0m\u001b[0;36m8\u001b[0m\u001b[0;34m,\u001b[0m\u001b[0;36m6\u001b[0m\u001b[0;34m)\u001b[0m\u001b[0;34m,\u001b[0m \u001b[0msavefig\u001b[0m\u001b[0;34m=\u001b[0m\u001b[0;32mTrue\u001b[0m\u001b[0;34m,\u001b[0m \u001b[0mmplstyle\u001b[0m\u001b[0;34m=\u001b[0m\u001b[0;34m'pyterk'\u001b[0m\u001b[0;34m)\u001b[0m \u001b[0;34m]\u001b[0m\u001b[0;34m,\u001b[0m\u001b[0;34m\u001b[0m\u001b[0;34m\u001b[0m\u001b[0m\n\u001b[1;32m     10\u001b[0m                         \u001b[0mcorrelation\u001b[0m  \u001b[0;34m=\u001b[0m \u001b[0;34m[\u001b[0m \u001b[0mdict\u001b[0m\u001b[0;34m(\u001b[0m\u001b[0maxes_min\u001b[0m\u001b[0;34m=\u001b[0m\u001b[0;34m'auto'\u001b[0m\u001b[0;34m,\u001b[0m\u001b[0maxes_max\u001b[0m\u001b[0;34m=\u001b[0m\u001b[0;34m'auto'\u001b[0m\u001b[0;34m,\u001b[0m \u001b[0mfigsize\u001b[0m\u001b[0;34m=\u001b[0m\u001b[0;34m(\u001b[0m\u001b[0;36m8\u001b[0m\u001b[0;34m,\u001b[0m\u001b[0;36m6\u001b[0m\u001b[0;34m)\u001b[0m\u001b[0;34m,\u001b[0m \u001b[0mmarker\u001b[0m\u001b[0;34m=\u001b[0m\u001b[0;34m'.'\u001b[0m\u001b[0;34m,\u001b[0m \u001b[0mmarkersize\u001b[0m\u001b[0;34m=\u001b[0m\u001b[0;36m8\u001b[0m\u001b[0;34m,\u001b[0m \u001b[0malpha\u001b[0m\u001b[0;34m=\u001b[0m\u001b[0;36m0.7\u001b[0m\u001b[0;34m,\u001b[0m \u001b[0mcolor\u001b[0m\u001b[0;34m=\u001b[0m\u001b[0;34m'auto'\u001b[0m\u001b[0;34m,\u001b[0m \u001b[0msavefig\u001b[0m\u001b[0;34m=\u001b[0m\u001b[0;32mTrue\u001b[0m\u001b[0;34m,\u001b[0m \u001b[0mmplstyle\u001b[0m\u001b[0;34m=\u001b[0m\u001b[0;34m'pyterk'\u001b[0m\u001b[0;34m)\u001b[0m \u001b[0;34m]\u001b[0m\u001b[0;34m,\u001b[0m\u001b[0;34m\u001b[0m\u001b[0;34m\u001b[0m\u001b[0m\n\u001b[0;32m---> 11\u001b[0;31m                         \u001b[0mconfusion\u001b[0m    \u001b[0;34m=\u001b[0m \u001b[0;34m[\u001b[0m \u001b[0mdict\u001b[0m\u001b[0;34m(\u001b[0m\u001b[0mnormalize\u001b[0m\u001b[0;34m=\u001b[0m\u001b[0;34m'pred'\u001b[0m\u001b[0;34m,\u001b[0m \u001b[0mfigsize\u001b[0m\u001b[0;34m=\u001b[0m\u001b[0;34m(\u001b[0m\u001b[0;36m5\u001b[0m\u001b[0;34m,\u001b[0m\u001b[0;36m5\u001b[0m\u001b[0;34m)\u001b[0m\u001b[0;34m,\u001b[0m \u001b[0msavefig\u001b[0m\u001b[0;34m=\u001b[0m\u001b[0;32mTrue\u001b[0m\u001b[0;34m,\u001b[0m \u001b[0mmplstyle\u001b[0m\u001b[0;34m=\u001b[0m\u001b[0;34m'pyterk'\u001b[0m\u001b[0;34m)\u001b[0m \u001b[0;34m]\u001b[0m\u001b[0;34m\u001b[0m\u001b[0;34m\u001b[0m\u001b[0m\n\u001b[0m\u001b[1;32m     12\u001b[0m )\n\u001b[1;32m     13\u001b[0m \u001b[0;34m\u001b[0m\u001b[0m\n",
      "\u001b[0;32m~/Desktop/PUBLI/Fichier git/accelerated-exploration-of-multinary/pyterk/reporter.py\u001b[0m in \u001b[0;36mshow_report\u001b[0;34m(run_dir, padding, sections, context, args, settings, evaluation, monitoring, history, distribution, correlation, confusion)\u001b[0m\n\u001b[1;32m    106\u001b[0m         \u001b[0;32mfor\u001b[0m \u001b[0msubdir\u001b[0m \u001b[0;32min\u001b[0m \u001b[0msubdirs\u001b[0m\u001b[0;34m:\u001b[0m\u001b[0;34m\u001b[0m\u001b[0;34m\u001b[0m\u001b[0m\n\u001b[1;32m    107\u001b[0m             \u001b[0mparams\u001b[0m\u001b[0;34m[\u001b[0m\u001b[0;34m'run_dir'\u001b[0m\u001b[0;34m]\u001b[0m\u001b[0;34m=\u001b[0m\u001b[0mos\u001b[0m\u001b[0;34m.\u001b[0m\u001b[0mpath\u001b[0m\u001b[0;34m.\u001b[0m\u001b[0mjoin\u001b[0m\u001b[0;34m(\u001b[0m\u001b[0mrun_dir\u001b[0m\u001b[0;34m,\u001b[0m \u001b[0msubdir\u001b[0m\u001b[0;34m)\u001b[0m\u001b[0;34m\u001b[0m\u001b[0;34m\u001b[0m\u001b[0m\n\u001b[0;32m--> 108\u001b[0;31m             \u001b[0mshow_report\u001b[0m\u001b[0;34m(\u001b[0m\u001b[0;34m**\u001b[0m\u001b[0mparams\u001b[0m\u001b[0;34m)\u001b[0m\u001b[0;34m\u001b[0m\u001b[0;34m\u001b[0m\u001b[0m\n\u001b[0m\u001b[1;32m    109\u001b[0m         \u001b[0;32mreturn\u001b[0m\u001b[0;34m\u001b[0m\u001b[0;34m\u001b[0m\u001b[0m\n\u001b[1;32m    110\u001b[0m \u001b[0;34m\u001b[0m\u001b[0m\n",
      "\u001b[0;32m~/Desktop/PUBLI/Fichier git/accelerated-exploration-of-multinary/pyterk/reporter.py\u001b[0m in \u001b[0;36mshow_report\u001b[0;34m(run_dir, padding, sections, context, args, settings, evaluation, monitoring, history, distribution, correlation, confusion)\u001b[0m\n\u001b[1;32m    106\u001b[0m         \u001b[0;32mfor\u001b[0m \u001b[0msubdir\u001b[0m \u001b[0;32min\u001b[0m \u001b[0msubdirs\u001b[0m\u001b[0;34m:\u001b[0m\u001b[0;34m\u001b[0m\u001b[0;34m\u001b[0m\u001b[0m\n\u001b[1;32m    107\u001b[0m             \u001b[0mparams\u001b[0m\u001b[0;34m[\u001b[0m\u001b[0;34m'run_dir'\u001b[0m\u001b[0;34m]\u001b[0m\u001b[0;34m=\u001b[0m\u001b[0mos\u001b[0m\u001b[0;34m.\u001b[0m\u001b[0mpath\u001b[0m\u001b[0;34m.\u001b[0m\u001b[0mjoin\u001b[0m\u001b[0;34m(\u001b[0m\u001b[0mrun_dir\u001b[0m\u001b[0;34m,\u001b[0m \u001b[0msubdir\u001b[0m\u001b[0;34m)\u001b[0m\u001b[0;34m\u001b[0m\u001b[0;34m\u001b[0m\u001b[0m\n\u001b[0;32m--> 108\u001b[0;31m             \u001b[0mshow_report\u001b[0m\u001b[0;34m(\u001b[0m\u001b[0;34m**\u001b[0m\u001b[0mparams\u001b[0m\u001b[0;34m)\u001b[0m\u001b[0;34m\u001b[0m\u001b[0;34m\u001b[0m\u001b[0m\n\u001b[0m\u001b[1;32m    109\u001b[0m         \u001b[0;32mreturn\u001b[0m\u001b[0;34m\u001b[0m\u001b[0;34m\u001b[0m\u001b[0m\n\u001b[1;32m    110\u001b[0m \u001b[0;34m\u001b[0m\u001b[0m\n",
      "\u001b[0;32m~/Desktop/PUBLI/Fichier git/accelerated-exploration-of-multinary/pyterk/reporter.py\u001b[0m in \u001b[0;36mshow_report\u001b[0;34m(run_dir, padding, sections, context, args, settings, evaluation, monitoring, history, distribution, correlation, confusion)\u001b[0m\n\u001b[1;32m    100\u001b[0m     \u001b[0;32mif\u001b[0m \u001b[0;32mnot\u001b[0m \u001b[0mos\u001b[0m\u001b[0;34m.\u001b[0m\u001b[0mpath\u001b[0m\u001b[0;34m.\u001b[0m\u001b[0misfile\u001b[0m\u001b[0;34m(\u001b[0m\u001b[0mrun_dir\u001b[0m\u001b[0;34m+\u001b[0m\u001b[0;34m'/about.json'\u001b[0m\u001b[0;34m)\u001b[0m\u001b[0;34m:\u001b[0m\u001b[0;34m\u001b[0m\u001b[0;34m\u001b[0m\u001b[0m\n\u001b[1;32m    101\u001b[0m         \u001b[0mparams\u001b[0m \u001b[0;34m=\u001b[0m \u001b[0mlocals\u001b[0m\u001b[0;34m(\u001b[0m\u001b[0;34m)\u001b[0m\u001b[0;34m.\u001b[0m\u001b[0mcopy\u001b[0m\u001b[0;34m(\u001b[0m\u001b[0;34m)\u001b[0m\u001b[0;34m\u001b[0m\u001b[0;34m\u001b[0m\u001b[0m\n\u001b[0;32m--> 102\u001b[0;31m         \u001b[0msubdirs\u001b[0m \u001b[0;34m=\u001b[0m \u001b[0msorted\u001b[0m\u001b[0;34m(\u001b[0m\u001b[0mos\u001b[0m\u001b[0;34m.\u001b[0m\u001b[0mlistdir\u001b[0m\u001b[0;34m(\u001b[0m\u001b[0mrun_dir\u001b[0m\u001b[0;34m)\u001b[0m\u001b[0;34m)\u001b[0m\u001b[0;34m\u001b[0m\u001b[0;34m\u001b[0m\u001b[0m\n\u001b[0m\u001b[1;32m    103\u001b[0m         \u001b[0m_md\u001b[0m\u001b[0;34m(\u001b[0m\u001b[0;34mf'Report for : **{run_dir}**'\u001b[0m \u001b[0;34m)\u001b[0m\u001b[0;34m\u001b[0m\u001b[0;34m\u001b[0m\u001b[0m\n\u001b[1;32m    104\u001b[0m         \u001b[0m_md\u001b[0m\u001b[0;34m(\u001b[0m\u001b[0;34mf'This report have **{len(subdirs)}** parts :'\u001b[0m\u001b[0;34m)\u001b[0m\u001b[0;34m\u001b[0m\u001b[0;34m\u001b[0m\u001b[0m\n",
      "\u001b[0;31mNotADirectoryError\u001b[0m: [Errno 20] Not a directory: './run/Example-01/kfold-00/bestmodel.h5'"
     ]
    }
   ],
   "source": [
    "reporter.show_report(   run_dir    = f'{run_dir}/Example-01', \n",
    "                        sections   = ['title','context','args','settings','evaluation', 'monitoring', 'history', 'distribution'],\n",
    "                        context    = ['function', 'version', 'date', 'description', 'seed'],\n",
    "                        args       = ['run_dir', 'dataset_id', 'model_id', 'n_iter', 'k_fold', 'epochs', 'batch_size'],\n",
    "                        settings   = ['file', 'version', 'description', 'datasets_dir', 'run_dir'],\n",
    "                        evaluation = ['all'],\n",
    "                        monitoring = ['duration', 'used_data'],\n",
    "                        history      = [ dict(metric='val_mae',    min=None,max=None, figsize=(8,6), savefig=True, mplstyle='pyterk') ],\n",
    "                        distribution = [ dict(metric_id=2, bins=4, min=None,max=None, figsize=(8,6), savefig=True, mplstyle='pyterk') ],\n",
    "                        correlation  = [ dict(axes_min='auto',axes_max='auto', figsize=(8,6), marker='.', markersize=8, alpha=0.7, color='auto', savefig=True, mplstyle='pyterk') ],\n",
    "                        confusion    = [ dict(normalize='pred', figsize=(5,5), savefig=True, mplstyle='pyterk') ]\n",
    ")\n",
    "\n"
   ]
  },
  {
   "cell_type": "markdown",
   "id": "6fd9b4d6",
   "metadata": {},
   "source": [
    "## Step 6 - Retrieve egression outliers (yy_deltamax)"
   ]
  },
  {
   "cell_type": "code",
   "execution_count": 12,
   "id": "75385fc8",
   "metadata": {},
   "outputs": [
    {
     "ename": "FileNotFoundError",
     "evalue": "[Errno 2] No such file or directory: './run/Example-01/kfold-00/about.json'",
     "output_type": "error",
     "traceback": [
      "\u001b[0;31m---------------------------------------------------------------------------\u001b[0m",
      "\u001b[0;31mFileNotFoundError\u001b[0m                         Traceback (most recent call last)",
      "\u001b[0;32m<ipython-input-12-68e35afcb252>\u001b[0m in \u001b[0;36m<module>\u001b[0;34m\u001b[0m\n\u001b[0;32m----> 1\u001b[0;31m \u001b[0mdf\u001b[0m \u001b[0;34m=\u001b[0m \u001b[0mreporter\u001b[0m\u001b[0;34m.\u001b[0m\u001b[0mplot_kfold_correlation\u001b[0m\u001b[0;34m(\u001b[0m\u001b[0;34mf'{run_dir}/Example-01'\u001b[0m\u001b[0;34m,\u001b[0m\u001b[0mchannel\u001b[0m\u001b[0;34m=\u001b[0m\u001b[0;36m0\u001b[0m\u001b[0;34m,\u001b[0m \u001b[0mcolor\u001b[0m\u001b[0;34m=\u001b[0m\u001b[0;34m'tomato'\u001b[0m\u001b[0;34m,\u001b[0m \u001b[0malpha\u001b[0m\u001b[0;34m=\u001b[0m\u001b[0;36m0.4\u001b[0m\u001b[0;34m,\u001b[0m \u001b[0mmarkersize\u001b[0m\u001b[0;34m=\u001b[0m\u001b[0;36m6\u001b[0m\u001b[0;34m,\u001b[0m \u001b[0myy_deltamax\u001b[0m\u001b[0;34m=\u001b[0m\u001b[0;36m20\u001b[0m\u001b[0;34m)\u001b[0m\u001b[0;34m\u001b[0m\u001b[0;34m\u001b[0m\u001b[0m\n\u001b[0m",
      "\u001b[0;32m~/Desktop/PUBLI/Fichier git/accelerated-exploration-of-multinary/pyterk/reporter.py\u001b[0m in \u001b[0;36mplot_kfold_correlation\u001b[0;34m(run_dir, channel, figsize, axes_min, axes_max, yy_deltamax, marker, markersize, alpha, color, savefig, mplstyle)\u001b[0m\n\u001b[1;32m    363\u001b[0m         \u001b[0mall_x_out\u001b[0m\u001b[0;34m,\u001b[0m \u001b[0mall_y_out\u001b[0m\u001b[0;34m,\u001b[0m \u001b[0mall_d_out\u001b[0m \u001b[0;34m=\u001b[0m \u001b[0;34m[\u001b[0m\u001b[0;34m]\u001b[0m\u001b[0;34m,\u001b[0m\u001b[0;34m[\u001b[0m\u001b[0;34m]\u001b[0m\u001b[0;34m,\u001b[0m\u001b[0;34m[\u001b[0m\u001b[0;34m]\u001b[0m\u001b[0;34m\u001b[0m\u001b[0;34m\u001b[0m\u001b[0m\n\u001b[1;32m    364\u001b[0m         \u001b[0;32mfor\u001b[0m \u001b[0ms\u001b[0m \u001b[0;32min\u001b[0m \u001b[0msubdirs\u001b[0m\u001b[0;34m:\u001b[0m\u001b[0;34m\u001b[0m\u001b[0;34m\u001b[0m\u001b[0m\n\u001b[0;32m--> 365\u001b[0;31m             \u001b[0;32mwith\u001b[0m \u001b[0mopen\u001b[0m\u001b[0;34m(\u001b[0m\u001b[0;34mf'{s}/about.json'\u001b[0m\u001b[0;34m)\u001b[0m \u001b[0;32mas\u001b[0m \u001b[0mfd\u001b[0m\u001b[0;34m:\u001b[0m\u001b[0;34m\u001b[0m\u001b[0;34m\u001b[0m\u001b[0m\n\u001b[0m\u001b[1;32m    366\u001b[0m                 \u001b[0mabout\u001b[0m\u001b[0;34m=\u001b[0m\u001b[0mjson\u001b[0m\u001b[0;34m.\u001b[0m\u001b[0mload\u001b[0m\u001b[0;34m(\u001b[0m\u001b[0mfd\u001b[0m\u001b[0;34m)\u001b[0m\u001b[0;34m\u001b[0m\u001b[0;34m\u001b[0m\u001b[0m\n\u001b[1;32m    367\u001b[0m                 \u001b[0mmean\u001b[0m\u001b[0;34m=\u001b[0m\u001b[0mfloat\u001b[0m\u001b[0;34m(\u001b[0m\u001b[0mabout\u001b[0m\u001b[0;34m[\u001b[0m\u001b[0;34m\"monitoring\"\u001b[0m\u001b[0;34m]\u001b[0m\u001b[0;34m[\u001b[0m\u001b[0;34m\"mean\"\u001b[0m\u001b[0;34m]\u001b[0m\u001b[0;34m)\u001b[0m\u001b[0;34m\u001b[0m\u001b[0;34m\u001b[0m\u001b[0m\n",
      "\u001b[0;31mFileNotFoundError\u001b[0m: [Errno 2] No such file or directory: './run/Example-01/kfold-00/about.json'"
     ]
    },
    {
     "data": {
      "image/png": "[encoded data removed]",
      "text/plain": [
       "<Figure size 576x432 with 1 Axes>"
      ]
     },
     "metadata": {
      "needs_background": "light"
     },
     "output_type": "display_data"
    }
   ],
   "source": [
    "df = reporter.plot_kfold_correlation(f'{run_dir}/Example-01',channel=0, color='tomato', alpha=0.4, markersize=6, yy_deltamax=20)"
   ]
  },
  {
   "cell_type": "code",
   "execution_count": 7,
   "id": "91194849",
   "metadata": {},
   "outputs": [
    {
     "name": "stdout",
     "output_type": "stream",
     "text": [
      "Number of regression outliers :  46\n"
     ]
    },
    {
     "data": {
      "text/html": [
       "<div>\n",
       "<style scoped>\n",
       "    .dataframe tbody tr th:only-of-type {\n",
       "        vertical-align: middle;\n",
       "    }\n",
       "\n",
       "    .dataframe tbody tr th {\n",
       "        vertical-align: top;\n",
       "    }\n",
       "\n",
       "    .dataframe thead th {\n",
       "        text-align: right;\n",
       "    }\n",
       "</style>\n",
       "<table border=\"1\" class=\"dataframe\">\n",
       "  <thead>\n",
       "    <tr style=\"text-align: right;\">\n",
       "      <th></th>\n",
       "      <th>x</th>\n",
       "      <th>y</th>\n",
       "      <th>delta</th>\n",
       "    </tr>\n",
       "  </thead>\n",
       "  <tbody>\n",
       "    <tr>\n",
       "      <th>37</th>\n",
       "      <td>[-0.41843269533763616, -0.48203489992164217, -0.35734225529673735, -0.48203489992164217, -0.47768788010074076, -0.4392122767731113, 0.20687473888998656, -0.4739808573342954, -0.3166965866068513, 4.106103294563805, -0.3428751528816931, 2.0404077425871363, -0.4163818113428939]</td>\n",
       "      <td>50.0</td>\n",
       "      <td>32.980022</td>\n",
       "    </tr>\n",
       "    <tr>\n",
       "      <th>7</th>\n",
       "      <td>[-0.4257899595121627, -0.48271701120860866, -0.3580831080720552, -0.4758311602065891, -0.4781172627392596, -0.4422626365717439, 0.13425523857234103, -0.4749387539167274, -0.31745658716013997, 4.103259756136397, -0.34362282096781416, 1.9127328353739448, -0.42157065431067525]</td>\n",
       "      <td>50.0</td>\n",
       "      <td>32.371885</td>\n",
       "    </tr>\n",
       "    <tr>\n",
       "      <th>6</th>\n",
       "      <td>[-0.443674373744178, -0.48271701120860866, -0.3580831080720552, -0.4758311602065891, -0.4783720392263343, -0.43669886896211213, 0.18383336578688164, -0.47337497715416876, -0.31745658716013997, 4.103259756136397, -0.34362282096781416, 2.101749445379381, -0.4570327869710758]</td>\n",
       "      <td>50.0</td>\n",
       "      <td>31.437727</td>\n",
       "    </tr>\n",
       "    <tr>\n",
       "      <th>24</th>\n",
       "      <td>[-0.44865734662616147, -0.48238387668732097, -0.3577569317752942, -0.48238387668732097, -0.47803914728182434, -0.44816310783578656, 0.2061627802852026, -0.4732089924831621, -0.31713267901391534, 4.103336858749686, -0.3432974519788712, 2.1032465295758995, -0.4599372556700167]</td>\n",
       "      <td>50.0</td>\n",
       "      <td>31.083038</td>\n",
       "    </tr>\n",
       "    <tr>\n",
       "      <th>15</th>\n",
       "      <td>[-0.4382260558162148, -0.48334771465139287, -0.35844604752846376, -0.47644707005896586, -0.4789934079135714, -0.4349327921909249, 0.18946513311024166, -0.47505037959345864, -0.31773224443314435, 4.112481583905003, -0.34395469388436706, 2.2220499978096204, -0.4629218066578089]</td>\n",
       "      <td>50.0</td>\n",
       "      <td>30.598028</td>\n",
       "    </tr>\n",
       "    <tr>\n",
       "      <th>19</th>\n",
       "      <td>[-0.4692564187400442, -0.483140925125496, -0.3479006567791472, -0.483140925125496, -0.4789621527889515, -0.42837483280076666, 0.18131841169364368, -0.4690097675662623, -0.44860561655901265, 2.300404945333062, -0.38160711794003493, 2.0676369655949642, -0.45758479678629826]</td>\n",
       "      <td>50.0</td>\n",
       "      <td>29.300087</td>\n",
       "    </tr>\n",
       "    <tr>\n",
       "      <th>18</th>\n",
       "      <td>[-0.4726489602417641, -0.483140925125496, -0.3479006567791472, -0.4762338634121993, -0.4789621527889515, -0.4252942832766364, 0.16543216975306138, -0.46820785770134854, -0.44860561655901265, 2.300404945333062, -0.38160711794003493, 2.1999071974045954, -0.4602094802373511]</td>\n",
       "      <td>50.0</td>\n",
       "      <td>28.762962</td>\n",
       "    </tr>\n",
       "    <tr>\n",
       "      <th>20</th>\n",
       "      <td>[-0.4723079603278479, -0.48238387668732097, -0.3475664412521009, -0.48238387668732097, -0.4782181694126372, -0.4308186175466487, 0.1428164878437304, -0.4688133106250495, -0.4479565438386948, 2.292459150911949, -0.38116751811236, 2.0957413710148987, -0.4704720195216963]</td>\n",
       "      <td>50.0</td>\n",
       "      <td>27.873402</td>\n",
       "    </tr>\n",
       "    <tr>\n",
       "      <th>1</th>\n",
       "      <td>[-0.4700899442166353, -0.48271701120860866, -0.3478920485890663, -0.4758311602065891, -0.47855107135238684, -0.4289936016908523, 0.19347355718970902, -0.4686650550687874, -0.448287756198511, 2.2922809426052613, -0.38149500147892157, 2.20007939768822, -0.46949617728473114]</td>\n",
       "      <td>50.0</td>\n",
       "      <td>26.829834</td>\n",
       "    </tr>\n",
       "    <tr>\n",
       "      <th>42</th>\n",
       "      <td>[-0.47946854878138295, -0.4830890767582658, -0.44048897151340594, -0.4830890767582658, -0.4796261004609417, -0.4231397351032009, 0.0872026547455031, -0.46320169859363314, -0.42812119902296275, 1.6263032313339878, -0.3635339426839817, 2.1416270851024533, -0.4512764175189592]</td>\n",
       "      <td>50.0</td>\n",
       "      <td>25.778927</td>\n",
       "    </tr>\n",
       "    <tr>\n",
       "      <th>30</th>\n",
       "      <td>[-0.4783643958636016, -0.34503675565201014, -0.45526944419931153, -0.4825697419867592, -0.47812054987883007, -0.42271538633387645, 0.11501108363772558, -0.47018489656731505, -0.448186495403072, 1.3328656776319288, -0.39317330086917235, 2.1972604967458267, -0.4473612974850634]</td>\n",
       "      <td>50.0</td>\n",
       "      <td>25.231468</td>\n",
       "    </tr>\n",
       "    <tr>\n",
       "      <th>33</th>\n",
       "      <td>[-0.4797513711418733, -0.48203489992164217, -0.43932250231532116, -0.48203489992164217, -0.47854212805286717, -0.42522052200884713, 0.0029574858017444986, -0.4568766088218803, -0.4269221288167119, 1.6329176912300578, -0.36216462276841876, 2.1285881763550245, -0.4548229691885828]</td>\n",
       "      <td>48.3</td>\n",
       "      <td>24.240109</td>\n",
       "    </tr>\n",
       "    <tr>\n",
       "      <th>34</th>\n",
       "      <td>[-0.47845160532632736, -0.34425297215931644, -0.4546851872608205, -0.48203489992164217, -0.4775776545585309, -0.4241802684542416, 0.14831741959099812, -0.46626920283743806, -0.4475894179810607, 1.3366865465410576, -0.39247664687613043, 2.183080928785025, -0.4413203402678749]</td>\n",
       "      <td>48.8</td>\n",
       "      <td>23.018410</td>\n",
       "    </tr>\n",
       "    <tr>\n",
       "      <th>14</th>\n",
       "      <td>[-0.47935679585780866, -0.34533482280285244, -0.4559521556194576, -0.48334771465139287, -0.4793798440107473, -0.4260930664680259, -0.021004526958782486, -0.4666371137063716, -0.4488444916892578, 1.3384224577493404, -0.3936393349498416, 2.170226156920494, -0.4320069188837359]</td>\n",
       "      <td>50.0</td>\n",
       "      <td>22.678352</td>\n",
       "    </tr>\n",
       "    <tr>\n",
       "      <th>32</th>\n",
       "      <td>[-0.4816489727419799, -0.48203489992164217, -0.46508772280687616, -0.48203489992164217, -0.4786730208842414, -0.4280863861063035, -0.11277933351860915, -0.4599953027567805, -0.4613676107572933, 0.8475607029848012, -0.35940898421317224, 2.2228310149444557, -0.4513784209945247]</td>\n",
       "      <td>50.0</td>\n",
       "      <td>21.736729</td>\n",
       "    </tr>\n",
       "    <tr>\n",
       "      <th>17</th>\n",
       "      <td>[-0.47468958255434046, -0.483140925125496, -0.3479006567791472, -0.483140925125496, -0.4789621527889515, -0.43518519565007724, 0.18960688574959972, -0.4701742981711241, -0.44860561655901265, 2.300404945333062, -0.38160711794003493, 2.0270925133379127, -0.45143751186146425]</td>\n",
       "      <td>41.3</td>\n",
       "      <td>20.810113</td>\n",
       "    </tr>\n",
       "    <tr>\n",
       "      <th>21</th>\n",
       "      <td>[-0.48033069941089457, -0.48238387668732097, -0.4396939839550245, -0.48238387668732097, -0.4789136015361794, -0.4294621806324128, -0.365330945001992, -0.4591447384678413, -0.4273001441295191, 1.6314543602183265, -0.36257675837410186, 2.1169486080496527, -0.455392847733998]</td>\n",
       "      <td>46.7</td>\n",
       "      <td>20.709901</td>\n",
       "    </tr>\n",
       "    <tr>\n",
       "      <th>28</th>\n",
       "      <td>[-0.482474775459695, 0.06756220335223712, -0.47940648330106006, -0.4825697419867592, -0.47966779597509607, -0.42841612861745176, -0.2625169638511607, -0.4437276759860994, -0.4550631447198094, 1.2709758337812918, -0.3835459918257399, 2.2284117181506478, -0.462146093516049]</td>\n",
       "      <td>50.0</td>\n",
       "      <td>20.503889</td>\n",
       "    </tr>\n",
       "    <tr>\n",
       "      <th>41</th>\n",
       "      <td>[-0.4809224491474816, -0.4830890767582658, -0.44048897151340594, -0.4830890767582658, -0.4796261004609417, -0.42629351708826396, 0.05490902657601255, -0.46320169859363314, -0.42812119902296275, 1.6263032313339878, -0.3635339426839817, 2.162583588489038, -0.45464320003024644]</td>\n",
       "      <td>44.8</td>\n",
       "      <td>20.297684</td>\n",
       "    </tr>\n",
       "    <tr>\n",
       "      <th>13</th>\n",
       "      <td>[-0.48320908070153107, 0.17221352162917408, -0.4648539871436884, -0.48334771465139287, -0.480476356436484, -0.4279079359958342, -0.2632171521529709, -0.4480302156273514, -0.4557451362816848, 1.0623966740522597, -0.38190823914271566, 2.21169903092098, -0.4634738582252031]</td>\n",
       "      <td>50.0</td>\n",
       "      <td>17.693283</td>\n",
       "    </tr>\n",
       "    <tr>\n",
       "      <th>5</th>\n",
       "      <td>[-0.4822949774006949, -0.3449999911682181, -0.45978712737188365, -0.4758311602065891, -0.4796672677998143, -0.4300746802981694, -0.14049021640823808, -0.4468286443711831, -0.448287756198511, 1.0046268052276095, -0.3801178312785177, 2.113730826122895, -0.46199059969252987]</td>\n",
       "      <td>46.0</td>\n",
       "      <td>17.303860</td>\n",
       "    </tr>\n",
       "    <tr>\n",
       "      <th>4</th>\n",
       "      <td>[-0.4824706354597564, -0.3449999911682181, -0.45978712737188365, -0.48271701120860866, -0.4796672677998143, -0.42886965637281593, -0.03857962157834909, -0.4503900065094276, -0.448287756198511, 1.0046268052276095, -0.3801178312785177, 2.1842419403835747, -0.4568262114410152]</td>\n",
       "      <td>45.4</td>\n",
       "      <td>17.037844</td>\n",
       "    </tr>\n",
       "    <tr>\n",
       "      <th>39</th>\n",
       "      <td>[-0.4825265492394922, -0.4830890767582658, -0.4632319309263876, -0.4830890767582658, -0.4800314885592396, -0.42935797627200706, -0.2295497407041806, -0.4590736109757119, -0.46934710732444, 1.4133027051096885, -0.359411351853834, 2.2208495388884586, -0.45855966131888687]</td>\n",
       "      <td>43.8</td>\n",
       "      <td>16.985026</td>\n",
       "    </tr>\n",
       "    <tr>\n",
       "      <th>3</th>\n",
       "      <td>[-0.47903914047141, -0.3449999911682181, -0.45538018273059117, -0.48271701120860866, -0.478261865610302, -0.43093541167342186, 0.1328780683719372, -0.46798266723448734, -0.448287756198511, 1.3351476533245468, -0.3932009481823548, 2.1915409424457155, -0.4327257329339469]</td>\n",
       "      <td>43.1</td>\n",
       "      <td>16.706544</td>\n",
       "    </tr>\n",
       "    <tr>\n",
       "      <th>35</th>\n",
       "      <td>[-0.4783113433238653, -0.34425297215931644, -0.4546851872608205, -0.48203489992164217, -0.4780736694984753, -0.4305733499024135, -0.11966842990672544, -0.4622494150949722, -0.4475894179810607, 1.3366865465410576, -0.39247664687613043, 2.2067794203601445, -0.4602653553351947]</td>\n",
       "      <td>43.5</td>\n",
       "      <td>16.228722</td>\n",
       "    </tr>\n",
       "    <tr>\n",
       "      <th>9</th>\n",
       "      <td>[-0.48248980482735887, 0.17255862511393935, -0.4642458263431848, -0.482731917438344, -0.479861744861965, -0.4285635318524168, -0.2537251173042828, -0.44742900168273786, -0.45514073669930044, 1.0623742039480923, -0.3813343282223591, 2.226584075232033, -0.456451317784405]</td>\n",
       "      <td>48.5</td>\n",
       "      <td>16.204468</td>\n",
       "    </tr>\n",
       "    <tr>\n",
       "      <th>22</th>\n",
       "      <td>[-0.47842273662442375, -0.48238387668732097, -0.4396939839550245, -0.48238387668732097, -0.47889294513647024, -0.4249797418955217, 0.02232082287353878, -0.4559547018060876, -0.4273001441295191, 1.6314543602183265, -0.36257675837410186, 2.174786527235345, -0.46537677426009966]</td>\n",
       "      <td>41.7</td>\n",
       "      <td>16.185085</td>\n",
       "    </tr>\n",
       "    <tr>\n",
       "      <th>43</th>\n",
       "      <td>[-0.480554095656808, -0.33192741298618245, -0.4428251063171563, -0.4830890767582658, -0.48012768234527636, -0.42634161398128234, -0.42537280513619763, -0.42189127718013786, -0.43499218373987564, 1.7843358798229838, -0.3518532686652298, 2.244004757384455, -0.45876579086039415]</td>\n",
       "      <td>42.8</td>\n",
       "      <td>15.432339</td>\n",
       "    </tr>\n",
       "    <tr>\n",
       "      <th>23</th>\n",
       "      <td>[-0.48228052583410935, 0.13730811458795023, -0.4740524621379535, -0.47549841011759575, -0.47962280459286116, -0.42783032505538793, -0.31162430575813516, -0.4418629059244879, -0.47549841011759575, 0.8809385041182757, -0.38874153133905776, 2.2409558609704043, -0.46062580232698924]</td>\n",
       "      <td>50.0</td>\n",
       "      <td>14.523666</td>\n",
       "    </tr>\n",
       "    <tr>\n",
       "      <th>27</th>\n",
       "      <td>[-0.48173883644981785, -0.4825697419867592, -0.462696225461388, -0.4825697419867592, -0.4795096330408111, -0.4270820586500047, 0.04005560608528729, -0.4585344772948985, -0.4688164433532843, 1.4153854694327783, -0.35879005428548505, 2.2467723718263364, -0.4536190483632946]</td>\n",
       "      <td>38.7</td>\n",
       "      <td>14.517619</td>\n",
       "    </tr>\n",
       "    <tr>\n",
       "      <th>29</th>\n",
       "      <td>[-0.48246397912026784, 0.13632869651961166, -0.4567823070489938, -0.4825697419867592, -0.4798603421559646, -0.4313111979797983, -0.2473883353543383, -0.43899860425097903, -0.4619397940365469, 1.1953326912971798, -0.37323101785063373, 2.1741549550415886, -0.4611833626117058]</td>\n",
       "      <td>44.0</td>\n",
       "      <td>14.344852</td>\n",
       "    </tr>\n",
       "    <tr>\n",
       "      <th>45</th>\n",
       "      <td>[-0.3838837381200626, -0.4830890767582658, -0.3587242533821427, -0.4830890767582658, -0.4789870988822688, -0.43600908947797873, 0.20400939493302203, -0.4730196486556299, -0.31818544355235673, 4.092986744705711, -0.34429518547662563, 0.7492907420672281, -0.34718099905772903]</td>\n",
       "      <td>27.5</td>\n",
       "      <td>13.473853</td>\n",
       "    </tr>\n",
       "    <tr>\n",
       "      <th>31</th>\n",
       "      <td>[-0.45061470904330514, -0.4825697419867592, -0.35810238935381133, -0.4825697419867592, -0.4783474793062824, -0.4345707297559318, -0.017708248175307365, -0.46515187693239496, -0.3175301583850603, 4.097278702960385, -0.34366142578866266, 2.09397322400843, -0.40238801095360055]</td>\n",
       "      <td>29.8</td>\n",
       "      <td>13.410376</td>\n",
       "    </tr>\n",
       "    <tr>\n",
       "      <th>40</th>\n",
       "      <td>[-0.4826364162851155, -0.4830890767582658, -0.46618645435466016, -0.4830890767582658, -0.4797360362164123, -0.4297358804314373, 0.08926395016057695, -0.4642557076492076, -0.46247612260752713, 0.8430109736059197, -0.3607855487972166, 2.2347976378637924, -0.43114443229840443]</td>\n",
       "      <td>39.8</td>\n",
       "      <td>13.351235</td>\n",
       "    </tr>\n",
       "    <tr>\n",
       "      <th>2</th>\n",
       "      <td>[-0.48008565210669685, -0.48271701120860866, -0.4400247349960876, -0.48271701120860866, -0.47924654230359076, -0.42735476915237164, 0.11290910046608052, -0.4605741801414145, -0.42763020319245243, 1.6312392464113865, -0.3629032037734689, 2.184723949953716, -0.46116429757228755]</td>\n",
       "      <td>37.6</td>\n",
       "      <td>12.359184</td>\n",
       "    </tr>\n",
       "    <tr>\n",
       "      <th>12</th>\n",
       "      <td>[-0.4831974876186157, 0.08595546422383633, -0.469339406128766, -0.48334771465139287, -0.4804839471455356, -0.43083380930302323, -0.37500759455028865, -0.4400806730568755, -0.46954642546653885, 1.9180766035132102, -0.38190823914271566, 2.2450291443024026, -0.4618867099689448]</td>\n",
       "      <td>42.3</td>\n",
       "      <td>12.174950</td>\n",
       "    </tr>\n",
       "    <tr>\n",
       "      <th>38</th>\n",
       "      <td>[-0.4817082878618816, -0.48203489992164217, -0.39984798001141486, -0.48203489992164217, -0.47808744769125155, -0.4404936487013009, 0.07460408823815383, -0.4647777134694109, -0.47514580353352587, 1.3986884140341043, -0.33736387577120014, 2.252247456521712, -0.4277488203832858]</td>\n",
       "      <td>11.9</td>\n",
       "      <td>12.167698</td>\n",
       "    </tr>\n",
       "    <tr>\n",
       "      <th>25</th>\n",
       "      <td>[-0.2183138398985327, -0.48238387668732097, -0.3577569317752942, -0.48238387668732097, -0.4776122483545014, -0.44483742748260924, 0.2061627802852026, -0.4721272856850583, -0.31713267901391534, 4.103336858749686, -0.3432974519788712, 2.2504578048366253, -0.271757454319426]</td>\n",
       "      <td>5.0</td>\n",
       "      <td>11.641214</td>\n",
       "    </tr>\n",
       "    <tr>\n",
       "      <th>26</th>\n",
       "      <td>[-0.01471747889832719, -0.48238387668732097, -0.3577569317752942, -0.48238387668732097, -0.4776122483545014, -0.4432537701715725, 0.2061627802852026, -0.47256933263883466, -0.31713267901391534, 4.103336858749686, -0.3432974519788712, 2.1683141886598034, -0.324155854915035]</td>\n",
       "      <td>5.0</td>\n",
       "      <td>11.352844</td>\n",
       "    </tr>\n",
       "    <tr>\n",
       "      <th>8</th>\n",
       "      <td>[-0.4004235172983731, -0.48271701120860866, -0.3580831080720552, -0.48271701120860866, -0.4781792353982777, -0.44410115878928313, 0.20586808899334416, -0.4738673155008131, -0.31745658716013997, 4.103259756136397, -0.34362282096781416, 1.8040052480520563, -0.39919163855411177]</td>\n",
       "      <td>27.9</td>\n",
       "      <td>11.294108</td>\n",
       "    </tr>\n",
       "    <tr>\n",
       "      <th>16</th>\n",
       "      <td>[-0.38510875810468337, -0.48334771465139287, -0.35844604752846376, -0.48334771465139287, -0.478565567948841, -0.43957692600162823, 0.2067167445913092, -0.4724854099984535, -0.31773224443314435, 4.112481583905003, -0.34395469388436706, 2.2555181240828914, -0.3431266165332758]</td>\n",
       "      <td>7.2</td>\n",
       "      <td>10.941144</td>\n",
       "    </tr>\n",
       "    <tr>\n",
       "      <th>10</th>\n",
       "      <td>[-0.4781551613553033, -0.34477601374312644, -0.4553476705548433, -0.482731917438344, -0.47826904395380365, -0.4321503853484925, 0.20704760103774372, -0.46966335468129605, -0.4482429415145396, 1.3382860113385275, -0.39306058003645256, 2.1611239989286526, -0.4289980929490568]</td>\n",
       "      <td>36.0</td>\n",
       "      <td>10.877794</td>\n",
       "    </tr>\n",
       "    <tr>\n",
       "      <th>0</th>\n",
       "      <td>[-0.48096890021472594, -0.48271701120860866, -0.43513578078465376, -0.48271701120860866, -0.47963214995970394, -0.44554030164870523, 0.17350458928385235, -0.442297065826754, -0.46205945820255007, 1.1216862722619414, -0.35946027827245913, 2.250277251492942, -0.270563941836387]</td>\n",
       "      <td>14.4</td>\n",
       "      <td>10.417806</td>\n",
       "    </tr>\n",
       "    <tr>\n",
       "      <th>11</th>\n",
       "      <td>[-0.4827195489741442, -0.48334771465139287, -0.46637212895402247, -0.48334771465139287, -0.47998020009028847, -0.43397360259257756, 0.15289171677037847, -0.4647118338650845, -0.4626457808741118, 0.8484766916870221, -0.36051624090619194, 2.2363343321159443, -0.4500866077158946]</td>\n",
       "      <td>37.9</td>\n",
       "      <td>10.401558</td>\n",
       "    </tr>\n",
       "    <tr>\n",
       "      <th>44</th>\n",
       "      <td>[-0.4827439471959353, -0.24260461166631506, -0.44145090937377374, -0.4830890767582658, -0.48008027255072966, -0.4438832379635609, -0.28795311079794006, -0.4374609285486624, -0.4762180920413529, 1.605690277183249, -0.3669694350424382, 2.224216321399746, -0.3976827367270387]</td>\n",
       "      <td>17.1</td>\n",
       "      <td>10.345282</td>\n",
       "    </tr>\n",
       "    <tr>\n",
       "      <th>36</th>\n",
       "      <td>[-0.4817385998859893, 0.06909281112766082, -0.46887672582034007, -0.48203489992164217, -0.4791897031133502, -0.44302194707573966, -0.33116368902189547, -0.40910899228595954, -0.454478514369177, 1.8189232937091977, -0.33047477938308384, 2.1551111974492727, -0.42657767399730606]</td>\n",
       "      <td>18.2</td>\n",
       "      <td>10.258454</td>\n",
       "    </tr>\n",
       "  </tbody>\n",
       "</table>\n",
       "</div>"
      ],
      "text/plain": [
       "                                                                                                                                                                                                                                                                                          x  \\\n",
       "37      [-0.41843269533763616, -0.48203489992164217, -0.35734225529673735, -0.48203489992164217, -0.47768788010074076, -0.4392122767731113, 0.20687473888998656, -0.4739808573342954, -0.3166965866068513, 4.106103294563805, -0.3428751528816931, 2.0404077425871363, -0.4163818113428939]   \n",
       "7        [-0.4257899595121627, -0.48271701120860866, -0.3580831080720552, -0.4758311602065891, -0.4781172627392596, -0.4422626365717439, 0.13425523857234103, -0.4749387539167274, -0.31745658716013997, 4.103259756136397, -0.34362282096781416, 1.9127328353739448, -0.42157065431067525]   \n",
       "6         [-0.443674373744178, -0.48271701120860866, -0.3580831080720552, -0.4758311602065891, -0.4783720392263343, -0.43669886896211213, 0.18383336578688164, -0.47337497715416876, -0.31745658716013997, 4.103259756136397, -0.34362282096781416, 2.101749445379381, -0.4570327869710758]   \n",
       "24      [-0.44865734662616147, -0.48238387668732097, -0.3577569317752942, -0.48238387668732097, -0.47803914728182434, -0.44816310783578656, 0.2061627802852026, -0.4732089924831621, -0.31713267901391534, 4.103336858749686, -0.3432974519788712, 2.1032465295758995, -0.4599372556700167]   \n",
       "15     [-0.4382260558162148, -0.48334771465139287, -0.35844604752846376, -0.47644707005896586, -0.4789934079135714, -0.4349327921909249, 0.18946513311024166, -0.47505037959345864, -0.31773224443314435, 4.112481583905003, -0.34395469388436706, 2.2220499978096204, -0.4629218066578089]   \n",
       "19         [-0.4692564187400442, -0.483140925125496, -0.3479006567791472, -0.483140925125496, -0.4789621527889515, -0.42837483280076666, 0.18131841169364368, -0.4690097675662623, -0.44860561655901265, 2.300404945333062, -0.38160711794003493, 2.0676369655949642, -0.45758479678629826]   \n",
       "18         [-0.4726489602417641, -0.483140925125496, -0.3479006567791472, -0.4762338634121993, -0.4789621527889515, -0.4252942832766364, 0.16543216975306138, -0.46820785770134854, -0.44860561655901265, 2.300404945333062, -0.38160711794003493, 2.1999071974045954, -0.4602094802373511]   \n",
       "20            [-0.4723079603278479, -0.48238387668732097, -0.3475664412521009, -0.48238387668732097, -0.4782181694126372, -0.4308186175466487, 0.1428164878437304, -0.4688133106250495, -0.4479565438386948, 2.292459150911949, -0.38116751811236, 2.0957413710148987, -0.4704720195216963]   \n",
       "1          [-0.4700899442166353, -0.48271701120860866, -0.3478920485890663, -0.4758311602065891, -0.47855107135238684, -0.4289936016908523, 0.19347355718970902, -0.4686650550687874, -0.448287756198511, 2.2922809426052613, -0.38149500147892157, 2.20007939768822, -0.46949617728473114]   \n",
       "42       [-0.47946854878138295, -0.4830890767582658, -0.44048897151340594, -0.4830890767582658, -0.4796261004609417, -0.4231397351032009, 0.0872026547455031, -0.46320169859363314, -0.42812119902296275, 1.6263032313339878, -0.3635339426839817, 2.1416270851024533, -0.4512764175189592]   \n",
       "30     [-0.4783643958636016, -0.34503675565201014, -0.45526944419931153, -0.4825697419867592, -0.47812054987883007, -0.42271538633387645, 0.11501108363772558, -0.47018489656731505, -0.448186495403072, 1.3328656776319288, -0.39317330086917235, 2.1972604967458267, -0.4473612974850634]   \n",
       "33  [-0.4797513711418733, -0.48203489992164217, -0.43932250231532116, -0.48203489992164217, -0.47854212805286717, -0.42522052200884713, 0.0029574858017444986, -0.4568766088218803, -0.4269221288167119, 1.6329176912300578, -0.36216462276841876, 2.1285881763550245, -0.4548229691885828]   \n",
       "34      [-0.47845160532632736, -0.34425297215931644, -0.4546851872608205, -0.48203489992164217, -0.4775776545585309, -0.4241802684542416, 0.14831741959099812, -0.46626920283743806, -0.4475894179810607, 1.3366865465410576, -0.39247664687613043, 2.183080928785025, -0.4413203402678749]   \n",
       "14      [-0.47935679585780866, -0.34533482280285244, -0.4559521556194576, -0.48334771465139287, -0.4793798440107473, -0.4260930664680259, -0.021004526958782486, -0.4666371137063716, -0.4488444916892578, 1.3384224577493404, -0.3936393349498416, 2.170226156920494, -0.4320069188837359]   \n",
       "32     [-0.4816489727419799, -0.48203489992164217, -0.46508772280687616, -0.48203489992164217, -0.4786730208842414, -0.4280863861063035, -0.11277933351860915, -0.4599953027567805, -0.4613676107572933, 0.8475607029848012, -0.35940898421317224, 2.2228310149444557, -0.4513784209945247]   \n",
       "17        [-0.47468958255434046, -0.483140925125496, -0.3479006567791472, -0.483140925125496, -0.4789621527889515, -0.43518519565007724, 0.18960688574959972, -0.4701742981711241, -0.44860561655901265, 2.300404945333062, -0.38160711794003493, 2.0270925133379127, -0.45143751186146425]   \n",
       "21        [-0.48033069941089457, -0.48238387668732097, -0.4396939839550245, -0.48238387668732097, -0.4789136015361794, -0.4294621806324128, -0.365330945001992, -0.4591447384678413, -0.4273001441295191, 1.6314543602183265, -0.36257675837410186, 2.1169486080496527, -0.455392847733998]   \n",
       "28         [-0.482474775459695, 0.06756220335223712, -0.47940648330106006, -0.4825697419867592, -0.47966779597509607, -0.42841612861745176, -0.2625169638511607, -0.4437276759860994, -0.4550631447198094, 1.2709758337812918, -0.3835459918257399, 2.2284117181506478, -0.462146093516049]   \n",
       "41      [-0.4809224491474816, -0.4830890767582658, -0.44048897151340594, -0.4830890767582658, -0.4796261004609417, -0.42629351708826396, 0.05490902657601255, -0.46320169859363314, -0.42812119902296275, 1.6263032313339878, -0.3635339426839817, 2.162583588489038, -0.45464320003024644]   \n",
       "13          [-0.48320908070153107, 0.17221352162917408, -0.4648539871436884, -0.48334771465139287, -0.480476356436484, -0.4279079359958342, -0.2632171521529709, -0.4480302156273514, -0.4557451362816848, 1.0623966740522597, -0.38190823914271566, 2.21169903092098, -0.4634738582252031]   \n",
       "5          [-0.4822949774006949, -0.3449999911682181, -0.45978712737188365, -0.4758311602065891, -0.4796672677998143, -0.4300746802981694, -0.14049021640823808, -0.4468286443711831, -0.448287756198511, 1.0046268052276095, -0.3801178312785177, 2.113730826122895, -0.46199059969252987]   \n",
       "4        [-0.4824706354597564, -0.3449999911682181, -0.45978712737188365, -0.48271701120860866, -0.4796672677998143, -0.42886965637281593, -0.03857962157834909, -0.4503900065094276, -0.448287756198511, 1.0046268052276095, -0.3801178312785177, 2.1842419403835747, -0.4568262114410152]   \n",
       "39           [-0.4825265492394922, -0.4830890767582658, -0.4632319309263876, -0.4830890767582658, -0.4800314885592396, -0.42935797627200706, -0.2295497407041806, -0.4590736109757119, -0.46934710732444, 1.4133027051096885, -0.359411351853834, 2.2208495388884586, -0.45855966131888687]   \n",
       "3            [-0.47903914047141, -0.3449999911682181, -0.45538018273059117, -0.48271701120860866, -0.478261865610302, -0.43093541167342186, 0.1328780683719372, -0.46798266723448734, -0.448287756198511, 1.3351476533245468, -0.3932009481823548, 2.1915409424457155, -0.4327257329339469]   \n",
       "35      [-0.4783113433238653, -0.34425297215931644, -0.4546851872608205, -0.48203489992164217, -0.4780736694984753, -0.4305733499024135, -0.11966842990672544, -0.4622494150949722, -0.4475894179810607, 1.3366865465410576, -0.39247664687613043, 2.2067794203601445, -0.4602653553351947]   \n",
       "9            [-0.48248980482735887, 0.17255862511393935, -0.4642458263431848, -0.482731917438344, -0.479861744861965, -0.4285635318524168, -0.2537251173042828, -0.44742900168273786, -0.45514073669930044, 1.0623742039480923, -0.3813343282223591, 2.226584075232033, -0.456451317784405]   \n",
       "22     [-0.47842273662442375, -0.48238387668732097, -0.4396939839550245, -0.48238387668732097, -0.47889294513647024, -0.4249797418955217, 0.02232082287353878, -0.4559547018060876, -0.4273001441295191, 1.6314543602183265, -0.36257675837410186, 2.174786527235345, -0.46537677426009966]   \n",
       "43     [-0.480554095656808, -0.33192741298618245, -0.4428251063171563, -0.4830890767582658, -0.48012768234527636, -0.42634161398128234, -0.42537280513619763, -0.42189127718013786, -0.43499218373987564, 1.7843358798229838, -0.3518532686652298, 2.244004757384455, -0.45876579086039415]   \n",
       "23  [-0.48228052583410935, 0.13730811458795023, -0.4740524621379535, -0.47549841011759575, -0.47962280459286116, -0.42783032505538793, -0.31162430575813516, -0.4418629059244879, -0.47549841011759575, 0.8809385041182757, -0.38874153133905776, 2.2409558609704043, -0.46062580232698924]   \n",
       "27         [-0.48173883644981785, -0.4825697419867592, -0.462696225461388, -0.4825697419867592, -0.4795096330408111, -0.4270820586500047, 0.04005560608528729, -0.4585344772948985, -0.4688164433532843, 1.4153854694327783, -0.35879005428548505, 2.2467723718263364, -0.4536190483632946]   \n",
       "29       [-0.48246397912026784, 0.13632869651961166, -0.4567823070489938, -0.4825697419867592, -0.4798603421559646, -0.4313111979797983, -0.2473883353543383, -0.43899860425097903, -0.4619397940365469, 1.1953326912971798, -0.37323101785063373, 2.1741549550415886, -0.4611833626117058]   \n",
       "45       [-0.3838837381200626, -0.4830890767582658, -0.3587242533821427, -0.4830890767582658, -0.4789870988822688, -0.43600908947797873, 0.20400939493302203, -0.4730196486556299, -0.31818544355235673, 4.092986744705711, -0.34429518547662563, 0.7492907420672281, -0.34718099905772903]   \n",
       "31      [-0.45061470904330514, -0.4825697419867592, -0.35810238935381133, -0.4825697419867592, -0.4783474793062824, -0.4345707297559318, -0.017708248175307365, -0.46515187693239496, -0.3175301583850603, 4.097278702960385, -0.34366142578866266, 2.09397322400843, -0.40238801095360055]   \n",
       "40       [-0.4826364162851155, -0.4830890767582658, -0.46618645435466016, -0.4830890767582658, -0.4797360362164123, -0.4297358804314373, 0.08926395016057695, -0.4642557076492076, -0.46247612260752713, 0.8430109736059197, -0.3607855487972166, 2.2347976378637924, -0.43114443229840443]   \n",
       "2     [-0.48008565210669685, -0.48271701120860866, -0.4400247349960876, -0.48271701120860866, -0.47924654230359076, -0.42735476915237164, 0.11290910046608052, -0.4605741801414145, -0.42763020319245243, 1.6312392464113865, -0.3629032037734689, 2.184723949953716, -0.46116429757228755]   \n",
       "12      [-0.4831974876186157, 0.08595546422383633, -0.469339406128766, -0.48334771465139287, -0.4804839471455356, -0.43083380930302323, -0.37500759455028865, -0.4400806730568755, -0.46954642546653885, 1.9180766035132102, -0.38190823914271566, 2.2450291443024026, -0.4618867099689448]   \n",
       "38     [-0.4817082878618816, -0.48203489992164217, -0.39984798001141486, -0.48203489992164217, -0.47808744769125155, -0.4404936487013009, 0.07460408823815383, -0.4647777134694109, -0.47514580353352587, 1.3986884140341043, -0.33736387577120014, 2.252247456521712, -0.4277488203832858]   \n",
       "25         [-0.2183138398985327, -0.48238387668732097, -0.3577569317752942, -0.48238387668732097, -0.4776122483545014, -0.44483742748260924, 0.2061627802852026, -0.4721272856850583, -0.31713267901391534, 4.103336858749686, -0.3432974519788712, 2.2504578048366253, -0.271757454319426]   \n",
       "26        [-0.01471747889832719, -0.48238387668732097, -0.3577569317752942, -0.48238387668732097, -0.4776122483545014, -0.4432537701715725, 0.2061627802852026, -0.47256933263883466, -0.31713267901391534, 4.103336858749686, -0.3432974519788712, 2.1683141886598034, -0.324155854915035]   \n",
       "8      [-0.4004235172983731, -0.48271701120860866, -0.3580831080720552, -0.48271701120860866, -0.4781792353982777, -0.44410115878928313, 0.20586808899334416, -0.4738673155008131, -0.31745658716013997, 4.103259756136397, -0.34362282096781416, 1.8040052480520563, -0.39919163855411177]   \n",
       "16      [-0.38510875810468337, -0.48334771465139287, -0.35844604752846376, -0.48334771465139287, -0.478565567948841, -0.43957692600162823, 0.2067167445913092, -0.4724854099984535, -0.31773224443314435, 4.112481583905003, -0.34395469388436706, 2.2555181240828914, -0.3431266165332758]   \n",
       "10       [-0.4781551613553033, -0.34477601374312644, -0.4553476705548433, -0.482731917438344, -0.47826904395380365, -0.4321503853484925, 0.20704760103774372, -0.46966335468129605, -0.4482429415145396, 1.3382860113385275, -0.39306058003645256, 2.1611239989286526, -0.4289980929490568]   \n",
       "0      [-0.48096890021472594, -0.48271701120860866, -0.43513578078465376, -0.48271701120860866, -0.47963214995970394, -0.44554030164870523, 0.17350458928385235, -0.442297065826754, -0.46205945820255007, 1.1216862722619414, -0.35946027827245913, 2.250277251492942, -0.270563941836387]   \n",
       "11    [-0.4827195489741442, -0.48334771465139287, -0.46637212895402247, -0.48334771465139287, -0.47998020009028847, -0.43397360259257756, 0.15289171677037847, -0.4647118338650845, -0.4626457808741118, 0.8484766916870221, -0.36051624090619194, 2.2363343321159443, -0.4500866077158946]   \n",
       "44        [-0.4827439471959353, -0.24260461166631506, -0.44145090937377374, -0.4830890767582658, -0.48008027255072966, -0.4438832379635609, -0.28795311079794006, -0.4374609285486624, -0.4762180920413529, 1.605690277183249, -0.3669694350424382, 2.224216321399746, -0.3976827367270387]   \n",
       "36    [-0.4817385998859893, 0.06909281112766082, -0.46887672582034007, -0.48203489992164217, -0.4791897031133502, -0.44302194707573966, -0.33116368902189547, -0.40910899228595954, -0.454478514369177, 1.8189232937091977, -0.33047477938308384, 2.1551111974492727, -0.42657767399730606]   \n",
       "\n",
       "       y      delta  \n",
       "37  50.0  32.980022  \n",
       "7   50.0  32.371885  \n",
       "6   50.0  31.437727  \n",
       "24  50.0  31.083038  \n",
       "15  50.0  30.598028  \n",
       "19  50.0  29.300087  \n",
       "18  50.0  28.762962  \n",
       "20  50.0  27.873402  \n",
       "1   50.0  26.829834  \n",
       "42  50.0  25.778927  \n",
       "30  50.0  25.231468  \n",
       "33  48.3  24.240109  \n",
       "34  48.8  23.018410  \n",
       "14  50.0  22.678352  \n",
       "32  50.0  21.736729  \n",
       "17  41.3  20.810113  \n",
       "21  46.7  20.709901  \n",
       "28  50.0  20.503889  \n",
       "41  44.8  20.297684  \n",
       "13  50.0  17.693283  \n",
       "5   46.0  17.303860  \n",
       "4   45.4  17.037844  \n",
       "39  43.8  16.985026  \n",
       "3   43.1  16.706544  \n",
       "35  43.5  16.228722  \n",
       "9   48.5  16.204468  \n",
       "22  41.7  16.185085  \n",
       "43  42.8  15.432339  \n",
       "23  50.0  14.523666  \n",
       "27  38.7  14.517619  \n",
       "29  44.0  14.344852  \n",
       "45  27.5  13.473853  \n",
       "31  29.8  13.410376  \n",
       "40  39.8  13.351235  \n",
       "2   37.6  12.359184  \n",
       "12  42.3  12.174950  \n",
       "38  11.9  12.167698  \n",
       "25   5.0  11.641214  \n",
       "26   5.0  11.352844  \n",
       "8   27.9  11.294108  \n",
       "16   7.2  10.941144  \n",
       "10  36.0  10.877794  \n",
       "0   14.4  10.417806  \n",
       "11  37.9  10.401558  \n",
       "44  17.1  10.345282  \n",
       "36  18.2  10.258454  "
      ]
     },
     "metadata": {},
     "output_type": "display_data"
    },
    {
     "name": "stdout",
     "output_type": "stream",
     "text": [
      "saved.\n"
     ]
    }
   ],
   "source": [
    "print(\"Number of regression outliers : \", len(df))\n",
    "\n",
    "with pd.option_context('display.max_colwidth', None):\n",
    "    display(df)\n",
    "\n",
    "df.to_csv(f'{run_dir}/Example-01/outliers-10.csv')\n",
    "print('saved.')\n"
   ]
  },
  {
   "cell_type": "markdown",
   "id": "3b00dfdb",
   "metadata": {},
   "source": [
    "---\n",
    "### PyTerK 2021"
   ]
  }
 ],
 "metadata": {
  "interpreter": {
   "hash": "7822d55dc7294a4f6f06b86d8ad2ca65bd6e1ee5d72628c47c30a06bbf89aef6"
  },
  "kernelspec": {
   "display_name": "Python 3",
   "language": "python",
   "name": "python3"
  },
  "language_info": {
   "codemirror_mode": {
    "name": "ipython",
    "version": 3
   },
   "file_extension": ".py",
   "mimetype": "text/x-python",
   "name": "python",
   "nbconvert_exporter": "python",
   "pygments_lexer": "ipython3",
   "version": "3.7.9"
  }
 },
 "nbformat": 4,
 "nbformat_minor": 5
}
