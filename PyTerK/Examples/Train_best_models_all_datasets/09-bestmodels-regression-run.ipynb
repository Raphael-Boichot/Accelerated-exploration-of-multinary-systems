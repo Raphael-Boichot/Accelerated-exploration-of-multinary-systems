{
 "cells": [
  {
   "cell_type": "markdown",
   "id": "c6909046",
   "metadata": {},
   "source": [
    "# **PyTerK** - run / 09-bestmodel-regression-run\n",
    "----\n",
    "An Python Iterated K-fold cross validation with shuffling  \n",
    "\n"
   ]
  },
  {
   "cell_type": "markdown",
   "id": "62252929",
   "metadata": {},
   "source": [
    "## Step 1 - Init all\n",
    "See [settings_pjluc1.yml](settings_pjluc1.yml)"
   ]
  },
  {
   "cell_type": "code",
   "execution_count": 5,
   "id": "24f57f06",
   "metadata": {},
   "outputs": [
    {
     "data": {
      "text/markdown": [
       "<br>**Pyterk - A Python iterative KFold stuff...**"
      ],
      "text/plain": [
       "<IPython.core.display.Markdown object>"
      ]
     },
     "metadata": {},
     "output_type": "display_data"
    },
    {
     "name": "stdout",
     "output_type": "stream",
     "text": [
      "settings     : 09-settings-databases_best-models.yml\n",
      "description  : Best models of NN, RF, SVM with all datasets\n",
      "settings v.  : 1.0\n",
      "seed         : 123\n",
      "datasets_dir : /Users/elisegarel/Desktop/THESE/Data_NN/datasets/\n",
      "run_dir      : ./run/campaign09\n",
      "file         : 09-settings-databases_best-models.yml\n"
     ]
    },
    {
     "data": {
      "text/markdown": [
       "<br>**Load datasets...**"
      ],
      "text/plain": [
       "<IPython.core.display.Markdown object>"
      ]
     },
     "metadata": {},
     "output_type": "display_data"
    },
    {
     "name": "stdout",
     "output_type": "stream",
     "text": [
      "compo_E_w_outliers : 28d251e41881acd959013e08cb3ff80d6cf2d1fb10be969405dd1f1cb3301742 (sha256)\n",
      "compo_H_w_outliers : efead55a07a765702b4d77ea58403bab5c4747b0310a0995ab35a3bfbe97cce9 (sha256)\n",
      "compo_E_threshold : bf4cc5502e56aa8e028c5928d3fd413fc566555f7e1e0be2fb739b918f08ab1d (sha256)\n",
      "compo_H_threshold : ac9db4d27bd5cd3deba3371386384dd1ac11f867995badddb72e701cf02c0a9f (sha256)\n",
      "compo_E_wo_outliers : e813ad5a7ea2aa5bccc2d2c475f8dda7781b10dcdb5a7214de5db12401d5afd1 (sha256)\n",
      "compo_H_wo_outliers : 2e04a0cd30b366f6924e390516b15d97eb1773c266b4cfeed7e49b1931ff1535 (sha256)\n",
      "compo_E_wo_outliers_averaged : 07161b7f216c7b40ed00728c3aafa3ee93931ddac15d45641358141ba8c75c83 (sha256)\n",
      "compo_H_wo_outliers_averaged : 6f8e7bf2c9ce7a89193c62eb9687c646c09bd5301f013b3abe8fdfa0ea8cfd69 (sha256)\n",
      "compo_CI     : 9bd13906829bbf95a356b255a4094675efacd5ac66a0ceb00d523df7b29a889d (sha256)\n",
      "compo_IQ     : a0c059122183e985552dd1e1856ebb40810ef47ccaabee07a8472d0aa19a28ed (sha256)\n",
      "compo_CI_class : 3aa0715c7d579e5295c804c3d2d947b6d07b6928110a2e920f27900552b33542 (sha256)\n",
      "compo_DRX_class : de98f8c5d0d366ea06ca51bf615c5aa4049d26d0408d056f12d510f16e7c9c8c (sha256)\n"
     ]
    }
   ],
   "source": [
    "import sys\n",
    "sys.path.append('../..')\n",
    "\n",
    "import pyterk.config        as config\n",
    "import pyterk.task_manager  as task_manager\n",
    "import pyterk.reporter      as evaluation\n",
    "\n",
    "settings = config.load('09-bestmodels-regression-settings.yml', verbose=1)"
   ]
  },
  {
   "cell_type": "markdown",
   "id": "9b73ca27",
   "metadata": {},
   "source": [
    "## Step 2 - Add tasks"
   ]
  },
  {
   "cell_type": "code",
   "execution_count": 6,
   "id": "859480ce",
   "metadata": {},
   "outputs": [],
   "source": [
    "# rm -r ./run/campaign3"
   ]
  },
  {
   "cell_type": "code",
   "execution_count": 7,
   "id": "9f86db7d",
   "metadata": {
    "tags": []
   },
   "outputs": [
    {
     "name": "stdout",
     "output_type": "stream",
     "text": [
      "All pending tasks have been removed.\n"
     ]
    },
    {
     "data": {
      "text/markdown": [
       "<br>**Add combinational iterative manyfold...**"
      ],
      "text/plain": [
       "<IPython.core.display.Markdown object>"
      ]
     },
     "metadata": {},
     "output_type": "display_data"
    },
    {
     "name": "stdout",
     "output_type": "stream",
     "text": [
      "Run name           : Fit_E\n",
      "Directory          : ./run/campaign09/Fit_E\n",
      "Description        : Fit E on all dataset and all best models\n",
      "Iterative manifold : 12\n",
      "Models to fit      : 1800\n",
      "Total pending tasks: 1800\n"
     ]
    },
    {
     "data": {
      "text/markdown": [
       "<br>**Add combinational iterative manyfold...**"
      ],
      "text/plain": [
       "<IPython.core.display.Markdown object>"
      ]
     },
     "metadata": {},
     "output_type": "display_data"
    },
    {
     "name": "stdout",
     "output_type": "stream",
     "text": [
      "Run name           : Fit_H\n",
      "Directory          : ./run/campaign09/Fit_H\n",
      "Description        : Fit H on all dataset and all best models\n",
      "Iterative manifold : 12\n",
      "Models to fit      : 1800\n",
      "Total pending tasks: 3600\n"
     ]
    },
    {
     "data": {
      "text/markdown": [
       "<br>**Add combinational iterative manyfold...**"
      ],
      "text/plain": [
       "<IPython.core.display.Markdown object>"
      ]
     },
     "metadata": {},
     "output_type": "display_data"
    },
    {
     "name": "stdout",
     "output_type": "stream",
     "text": [
      "Run name           : Fit_CI\n",
      "Directory          : ./run/campaign09/Fit_CI\n",
      "Description        : Comparison of architecture on CI\n",
      "Iterative manifold : 3\n",
      "Models to fit      : 720\n",
      "Total pending tasks: 4320\n"
     ]
    },
    {
     "data": {
      "text/markdown": [
       "<br>**Add combinational iterative manyfold...**"
      ],
      "text/plain": [
       "<IPython.core.display.Markdown object>"
      ]
     },
     "metadata": {},
     "output_type": "display_data"
    },
    {
     "name": "stdout",
     "output_type": "stream",
     "text": [
      "Run name           : Fit_IQ\n",
      "Directory          : ./run/campaign09/Fit_IQ\n",
      "Description        : Comparison of architecture on IQ\n",
      "Iterative manifold : 3\n",
      "Models to fit      : 450\n",
      "Total pending tasks: 4770\n"
     ]
    },
    {
     "data": {
      "text/markdown": [
       "<br>**Add combinational iterative manyfold...**"
      ],
      "text/plain": [
       "<IPython.core.display.Markdown object>"
      ]
     },
     "metadata": {},
     "output_type": "display_data"
    },
    {
     "name": "stdout",
     "output_type": "stream",
     "text": [
      "Run name           : Class_CI\n",
      "Directory          : ./run/campaign09/Class_CI\n",
      "Description        : Comparison of architecture on CI class\n",
      "Iterative manifold : 3\n",
      "Models to fit      : 450\n",
      "Total pending tasks: 5220\n"
     ]
    },
    {
     "data": {
      "text/markdown": [
       "<br>**Add combinational iterative manyfold...**"
      ],
      "text/plain": [
       "<IPython.core.display.Markdown object>"
      ]
     },
     "metadata": {},
     "output_type": "display_data"
    },
    {
     "name": "stdout",
     "output_type": "stream",
     "text": [
      "Run name           : Class_DRX\n",
      "Directory          : ./run/campaign09/Class_DRX\n",
      "Description        : Comparison of architecture on DRX class\n",
      "Iterative manifold : 3\n",
      "Models to fit      : 450\n",
      "Total pending tasks: 5670\n"
     ]
    }
   ],
   "source": [
    "task_manager.reset()\n",
    "task_manager.add_combinational_iterative_manyfold(settings = settings, run_key= 'Fit_E')\n",
    "task_manager.add_combinational_iterative_manyfold(settings = settings, run_key= 'Fit_H')\n",
    "task_manager.add_combinational_iterative_manyfold(settings = settings, run_key= 'Fit_CI')\n",
    "task_manager.add_combinational_iterative_manyfold(settings = settings, run_key= 'Fit_IQ')"
   ]
  },
  {
   "cell_type": "markdown",
   "id": "02997447",
   "metadata": {},
   "source": [
    "## Step 3 -  Run tasks\n",
    "At GRICAD, 32 cores : 340'"
   ]
  },
  {
   "cell_type": "code",
   "execution_count": null,
   "id": "4fc15f97",
   "metadata": {},
   "outputs": [
    {
     "data": {
      "text/markdown": [
       "<br>**Run pending tasks...**"
      ],
      "text/plain": [
       "<IPython.core.display.Markdown object>"
      ]
     },
     "metadata": {},
     "output_type": "display_data"
    },
    {
     "name": "stdout",
     "output_type": "stream",
     "text": [
      "Number of cores   : 8\n",
      "Number of workers : 5\n",
      "Number of tasks   : 5670 \n",
      "\n",
      "o : job start    O : job end    . :job already done    + : results synthesis\n",
      "\n"
     ]
    }
   ],
   "source": [
    "task_manager.run(processes=40, maxtasksperchild=20)"
   ]
  },
  {
   "cell_type": "markdown",
   "id": "471e7d1f",
   "metadata": {},
   "source": [
    "\n",
    "---\n",
    "### PyTerK 2021"
   ]
  }
 ],
 "metadata": {
  "kernelspec": {
   "display_name": "Python 3",
   "language": "python",
   "name": "python3"
  },
  "language_info": {
   "codemirror_mode": {
    "name": "ipython",
    "version": 3
   },
   "file_extension": ".py",
   "mimetype": "text/x-python",
   "name": "python",
   "nbconvert_exporter": "python",
   "pygments_lexer": "ipython3",
   "version": "3.8.10"
  }
 },
 "nbformat": 4,
 "nbformat_minor": 5
}
