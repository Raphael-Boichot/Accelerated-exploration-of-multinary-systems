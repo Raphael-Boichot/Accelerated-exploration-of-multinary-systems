{
 "cells": [
  {
   "cell_type": "markdown",
   "id": "0af17052",
   "metadata": {},
   "source": [
    "# **PyTerK** - report / settings 04\n",
    "----\n",
    "An Python Iterated K-fold cross validation with shuffling  \n",
    "\n",
    "See [04-settings-structures.yml](04-settings-structures.yml)\n",
    "\n"
   ]
  },
  {
   "cell_type": "code",
   "execution_count": null,
   "id": "e9eadbc2",
   "metadata": {
    "scrolled": true
   },
   "outputs": [],
   "source": [
    "import sys\n",
    "sys.path.append('..')\n",
    "\n",
    "import pyterk.config   as config\n",
    "import pyterk.reporter as reporter"
   ]
  },
  {
   "cell_type": "code",
   "execution_count": null,
   "id": "06385256",
   "metadata": {
    "scrolled": false
   },
   "outputs": [],
   "source": [
    "settings = config.load('07-settings-randomforest-architecture.yml', datasets_dir_env='DATASETS_DIR_EG', verbose=1)\n",
    "\n",
    "reporter.show_run_reports(settings,\n",
    "                          args       = ['dataset_id','model_id', 'batch_size'],\n",
    "                          evaluation = ['all'],\n",
    "                          history      = [ dict(metric='val_mae', figsize=(8,6), savefig=True, mplstyle='pyterk') ],\n",
    "                          distribution = [ dict(metric_id=2, min=3,max=15, bins=10, figsize=(8,6), savefig=True, mplstyle='pyterk') ])"
   ]
  },
  {
   "cell_type": "markdown",
   "id": "3dc957ce",
   "metadata": {},
   "source": [
    "---\n",
    "### PyTerK 2021"
   ]
  }
 ],
 "metadata": {
  "kernelspec": {
   "display_name": "Python 3",
   "language": "python",
   "name": "python3"
  },
  "language_info": {
   "codemirror_mode": {
    "name": "ipython",
    "version": 3
   },
   "file_extension": ".py",
   "mimetype": "text/x-python",
   "name": "python",
   "nbconvert_exporter": "python",
   "pygments_lexer": "ipython3",
   "version": "3.7.10"
  }
 },
 "nbformat": 4,
 "nbformat_minor": 5
}
