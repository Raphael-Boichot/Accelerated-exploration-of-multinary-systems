{
 "cells": [
  {
   "cell_type": "markdown",
   "id": "0af17052",
   "metadata": {},
   "source": [
    "# **PyTerK** / 08.1-SVM-report\n",
    "\n",
    "----\n",
    "An Python Iterated K-fold cross validation with shuffling  "
   ]
  },
  {
   "cell_type": "code",
   "execution_count": 1,
   "id": "e9eadbc2",
   "metadata": {
    "scrolled": true
   },
   "outputs": [],
   "source": [
    "import sys\n",
    "sys.path.append('../..')\n",
    "\n",
    "import pyterk.config   as config\n",
    "import pyterk.reporter as reporter"
   ]
  },
  {
   "cell_type": "code",
   "execution_count": null,
   "id": "06385256",
   "metadata": {},
   "outputs": [],
   "source": [
    "settings = config.load('08.1-SVM-settings.yml', verbose=1)\n",
    "\n",
    "reporter.show_run_reports(settings,\n",
    "                          sections   = ['title','context','args','settings','evaluation', 'monitoring', 'distribution', 'correlation'],\n",
    "                          args       = ['dataset_id','model_id', 'batch_size'],\n",
    "                          evaluation = ['all'],\n",
    "                          history      = [ dict(metric='score', figsize=(8,6), savefig=True, mplstyle='pyterk') ],\n",
    "                          distribution = [ dict(metric_id=0, min=None,max=None, bins=10, figsize=(8,6), savefig=True, mplstyle='pyterk') ])"
   ]
  },
  {
   "cell_type": "markdown",
   "id": "3dc957ce",
   "metadata": {},
   "source": [
    "---\n",
    "### PyTerK 2021"
   ]
  }
 ],
 "metadata": {
  "kernelspec": {
   "display_name": "Python 3",
   "language": "python",
   "name": "python3"
  },
  "language_info": {
   "codemirror_mode": {
    "name": "ipython",
    "version": 3
   },
   "file_extension": ".py",
   "mimetype": "text/x-python",
   "name": "python",
   "nbconvert_exporter": "python",
   "pygments_lexer": "ipython3",
   "version": "3.7.9"
  }
 },
 "nbformat": 4,
 "nbformat_minor": 5
}
