{
 "cells": [
  {
   "cell_type": "markdown",
   "id": "0af17052",
   "metadata": {},
   "source": [
    "# **PyTerK** / 08.6-SVM_class-settings\n",
    "\n",
    "----\n",
    "An Python Iterated K-fold cross validation with shuffling  "
   ]
  },
  {
   "cell_type": "code",
   "execution_count": 3,
   "id": "e9eadbc2",
   "metadata": {
    "scrolled": true
   },
   "outputs": [],
   "source": [
    "import sys\n",
    "sys.path.append('../..')\n",
    "\n",
    "import pyterk.config   as config\n",
    "import pyterk.reporter as reporter"
   ]
  },
  {
   "cell_type": "code",
   "execution_count": 8,
   "id": "06385256",
   "metadata": {
    "scrolled": false
   },
   "outputs": [
    {
     "data": {
      "text/markdown": [
       "<br>**Pyterk - A Python iterative KFold stuff...**"
      ],
      "text/plain": [
       "<IPython.core.display.Markdown object>"
      ]
     },
     "metadata": {},
     "output_type": "display_data"
    },
    {
     "name": "stdout",
     "output_type": "stream",
     "text": [
      "settings     : 09-bestmodels-classNN-settings.yml\n",
      "description  : Best classification models of NN, RF, SVM with all datasets\n",
      "settings v.  : 1.0\n",
      "seed         : 123\n",
      "datasets_dir : /Users/elisegarel/Desktop/PUBLI/datasets//./\n",
      "run_dir      : /Users/elisegarel/Desktop/PUBLI/run//./campaign09cNN\n",
      "file         : 09-bestmodels-classNN-settings.yml\n"
     ]
    },
    {
     "data": {
      "text/markdown": [
       "<br>**Load datasets...**"
      ],
      "text/plain": [
       "<IPython.core.display.Markdown object>"
      ]
     },
     "metadata": {},
     "output_type": "display_data"
    },
    {
     "name": "stdout",
     "output_type": "stream",
     "text": [
      "** WARNING : Dataset compo_CI_class have 2 missing value(s) !\n",
      "compo_CI_class : 74294bc7021bebc7a9f7d18f29fab04c2a20ddc966a5ab3b0694259162396008 (sha256)\n",
      "compo_DRX_class : 86d75db877b96a80aed23124683a9f6ab3c46f034027fc1a415c80f43910fa11 (sha256)\n"
     ]
    },
    {
     "data": {
      "text/html": [
       "<a name=\"Sommaire\"></a>"
      ],
      "text/plain": [
       "<IPython.core.display.HTML object>"
      ]
     },
     "metadata": {},
     "output_type": "display_data"
    },
    {
     "data": {
      "text/markdown": [
       "## Sommaire"
      ],
      "text/plain": [
       "<IPython.core.display.Markdown object>"
      ]
     },
     "metadata": {},
     "output_type": "display_data"
    },
    {
     "data": {
      "text/markdown": [
       "### 1. Short reports"
      ],
      "text/plain": [
       "<IPython.core.display.Markdown object>"
      ]
     },
     "metadata": {},
     "output_type": "display_data"
    },
    {
     "data": {
      "text/markdown": [
       "[1.1 - Comparison of architecture on EBSD class - (Class_EBSD)](#1.1---Comparison-of-architecture-on-EBSD-class----Class_EBSD-)  \n",
       "[1.2 - Comparison of architecture on XRD class - (Class_XRD)](#1.2---Comparison-of-architecture-on-XRD-class----Class_XRD-)"
      ],
      "text/plain": [
       "<IPython.core.display.Markdown object>"
      ]
     },
     "metadata": {},
     "output_type": "display_data"
    },
    {
     "data": {
      "text/markdown": [
       "### 2. Long reports"
      ],
      "text/plain": [
       "<IPython.core.display.Markdown object>"
      ]
     },
     "metadata": {},
     "output_type": "display_data"
    },
    {
     "data": {
      "text/markdown": [
       "[2.1 - Comparison of architecture on EBSD class - (Class_EBSD)](#2.1---Comparison-of-architecture-on-EBSD-class----Class_EBSD-)  \n",
       "[2.2 - Comparison of architecture on XRD class - (Class_XRD)](#2.2---Comparison-of-architecture-on-XRD-class----Class_XRD-)"
      ],
      "text/plain": [
       "<IPython.core.display.Markdown object>"
      ]
     },
     "metadata": {},
     "output_type": "display_data"
    },
    {
     "data": {
      "text/markdown": [
       "# 1. Short reports"
      ],
      "text/plain": [
       "<IPython.core.display.Markdown object>"
      ]
     },
     "metadata": {},
     "output_type": "display_data"
    },
    {
     "data": {
      "text/html": [
       "<a name=\"1.1---Comparison-of-architecture-on-EBSD-class----Class_EBSD-\"></a>"
      ],
      "text/plain": [
       "<IPython.core.display.HTML object>"
      ]
     },
     "metadata": {},
     "output_type": "display_data"
    },
    {
     "data": {
      "text/markdown": [
       "## 1.1 - Comparison of architecture on EBSD class - (Class_EBSD)"
      ],
      "text/plain": [
       "<IPython.core.display.Markdown object>"
      ]
     },
     "metadata": {},
     "output_type": "display_data"
    },
    {
     "data": {
      "text/markdown": [
       "[(Sommaire)](#Sommaire)"
      ],
      "text/plain": [
       "<IPython.core.display.Markdown object>"
      ]
     },
     "metadata": {},
     "output_type": "display_data"
    },
    {
     "data": {
      "text/markdown": [
       "Report for : **/Users/elisegarel/Desktop/PUBLI/run//./campaign09cNN/Class_EBSD**"
      ],
      "text/plain": [
       "<IPython.core.display.Markdown object>"
      ]
     },
     "metadata": {},
     "output_type": "display_data"
    },
    {
     "data": {
      "text/markdown": [
       "This report have **1** parts :"
      ],
      "text/plain": [
       "<IPython.core.display.Markdown object>"
      ]
     },
     "metadata": {},
     "output_type": "display_data"
    },
    {
     "data": {
      "text/markdown": [
       "  - Class_EBSD-0000"
      ],
      "text/plain": [
       "<IPython.core.display.Markdown object>"
      ]
     },
     "metadata": {},
     "output_type": "display_data"
    },
    {
     "data": {
      "text/markdown": [
       "<br>**Class_EBSD-0000 Comparison of architecture on EBSD class**"
      ],
      "text/plain": [
       "<IPython.core.display.Markdown object>"
      ]
     },
     "metadata": {},
     "output_type": "display_data"
    },
    {
     "name": "stdout",
     "output_type": "stream",
     "text": [
      "     ---- args --------------------------------------------------\n",
      "     run_dir      : /gpfsscratch/rech/ieq/commun/./run/campaign09cNN/Class_EBSD/Class_EBSD-0000\n",
      "     dataset_id   : compo_CI_class\n",
      "     model_id     : keras-50x50x100x100\n",
      "     ---- evaluation --------------------------------------------\n",
      "     id      count        mean           std\n",
      "     0       150           0.12          0.07\n",
      "     1       150           0.96          0.02\n",
      "     2       150           0.12          0.07\n",
      "     ------------------------------------------------------------\n"
     ]
    },
    {
     "data": {
      "text/html": [
       "<a name=\"1.2---Comparison-of-architecture-on-XRD-class----Class_XRD-\"></a>"
      ],
      "text/plain": [
       "<IPython.core.display.HTML object>"
      ]
     },
     "metadata": {},
     "output_type": "display_data"
    },
    {
     "data": {
      "text/markdown": [
       "## 1.2 - Comparison of architecture on XRD class - (Class_XRD)"
      ],
      "text/plain": [
       "<IPython.core.display.Markdown object>"
      ]
     },
     "metadata": {},
     "output_type": "display_data"
    },
    {
     "data": {
      "text/markdown": [
       "[(Sommaire)](#Sommaire)"
      ],
      "text/plain": [
       "<IPython.core.display.Markdown object>"
      ]
     },
     "metadata": {},
     "output_type": "display_data"
    },
    {
     "data": {
      "text/markdown": [
       "Report for : **/Users/elisegarel/Desktop/PUBLI/run//./campaign09cNN/Class_XRD**"
      ],
      "text/plain": [
       "<IPython.core.display.Markdown object>"
      ]
     },
     "metadata": {},
     "output_type": "display_data"
    },
    {
     "data": {
      "text/markdown": [
       "This report have **1** parts :"
      ],
      "text/plain": [
       "<IPython.core.display.Markdown object>"
      ]
     },
     "metadata": {},
     "output_type": "display_data"
    },
    {
     "data": {
      "text/markdown": [
       "  - Class_XRD-0000"
      ],
      "text/plain": [
       "<IPython.core.display.Markdown object>"
      ]
     },
     "metadata": {},
     "output_type": "display_data"
    },
    {
     "data": {
      "text/markdown": [
       "<br>**Class_XRD-0000 Comparison of architecture on XRD class**"
      ],
      "text/plain": [
       "<IPython.core.display.Markdown object>"
      ]
     },
     "metadata": {},
     "output_type": "display_data"
    },
    {
     "name": "stdout",
     "output_type": "stream",
     "text": [
      "     ---- args --------------------------------------------------\n",
      "     run_dir      : /gpfsscratch/rech/ieq/commun/./run/campaign09cNN/Class_XRD/Class_XRD-0000\n",
      "     dataset_id   : compo_DRX_class\n",
      "     model_id     : keras-50x50x100x100\n",
      "     ---- evaluation --------------------------------------------\n",
      "     id      count        mean           std\n",
      "     0       150           0.17          0.08\n",
      "     1       150           0.95          0.03\n",
      "     2       150           0.17          0.08\n",
      "     ------------------------------------------------------------\n"
     ]
    },
    {
     "data": {
      "text/markdown": [
       "# 2. Long reports"
      ],
      "text/plain": [
       "<IPython.core.display.Markdown object>"
      ]
     },
     "metadata": {},
     "output_type": "display_data"
    },
    {
     "data": {
      "text/html": [
       "<a name=\"2.1---Comparison-of-architecture-on-EBSD-class----Class_EBSD-\"></a>"
      ],
      "text/plain": [
       "<IPython.core.display.HTML object>"
      ]
     },
     "metadata": {},
     "output_type": "display_data"
    },
    {
     "data": {
      "text/markdown": [
       "## 2.1 - Comparison of architecture on EBSD class - (Class_EBSD)"
      ],
      "text/plain": [
       "<IPython.core.display.Markdown object>"
      ]
     },
     "metadata": {},
     "output_type": "display_data"
    },
    {
     "data": {
      "text/markdown": [
       "[(Sommaire)](#Sommaire)"
      ],
      "text/plain": [
       "<IPython.core.display.Markdown object>"
      ]
     },
     "metadata": {},
     "output_type": "display_data"
    },
    {
     "data": {
      "text/markdown": [
       "Report for : **/Users/elisegarel/Desktop/PUBLI/run//./campaign09cNN/Class_EBSD**"
      ],
      "text/plain": [
       "<IPython.core.display.Markdown object>"
      ]
     },
     "metadata": {},
     "output_type": "display_data"
    },
    {
     "data": {
      "text/markdown": [
       "This report have **1** parts :"
      ],
      "text/plain": [
       "<IPython.core.display.Markdown object>"
      ]
     },
     "metadata": {},
     "output_type": "display_data"
    },
    {
     "data": {
      "text/markdown": [
       "  - Class_EBSD-0000"
      ],
      "text/plain": [
       "<IPython.core.display.Markdown object>"
      ]
     },
     "metadata": {},
     "output_type": "display_data"
    },
    {
     "data": {
      "text/markdown": [
       "<br>**Class_EBSD-0000 Comparison of architecture on EBSD class**"
      ],
      "text/plain": [
       "<IPython.core.display.Markdown object>"
      ]
     },
     "metadata": {},
     "output_type": "display_data"
    },
    {
     "name": "stdout",
     "output_type": "stream",
     "text": [
      "     ---- context -----------------------------------------------\n",
      "     function     : iterative_manyfold\n",
      "     version      : 2.14\n",
      "     date         : Wednesday 22 December 2021, 16:48:58\n",
      "     description  : Class_EBSD-0000 Comparison of architecture on EBSD class\n",
      "     seed         : None\n",
      "     ---- args --------------------------------------------------\n",
      "     run_dir      : /gpfsscratch/rech/ieq/commun/./run/campaign09cNN/Class_EBSD/Class_EBSD-0000\n",
      "     dataset_id   : compo_CI_class\n",
      "     model_id     : keras-50x50x100x100\n",
      "     n_iter       : 30\n",
      "     k_fold       : 5\n",
      "     epochs       : 200\n",
      "     batch_size   : 8\n",
      "     ---- settings ----------------------------------------------\n",
      "     file         : 09-bestmodels-classNN-settings.yml\n",
      "     description  : Best classification models of NN, RF, SVM with all datasets\n",
      "     datasets_dir : /gpfswork/rech/ieq/commun/./datasets\n",
      "     run_dir      : /gpfsscratch/rech/ieq/commun/./run/campaign09cNN\n",
      "     ---- evaluation --------------------------------------------\n",
      "     id      count        mean           std\n",
      "     0       150           0.12          0.07\n",
      "     1       150           0.96          0.02\n",
      "     2       150           0.12          0.07\n",
      "     ---- monitoring --------------------------------------------\n",
      "     duration     : 8136.19\n",
      "     used_data    : ['74294bc7021bebc7a9f7d18f29fab04c2a20ddc966a5ab3b0694259162396008']\n",
      "     ------------------------------------------------------------\n"
     ]
    },
    {
     "data": {
      "image/png": "[encoded data removed]",
      "text/plain": [
       "<Figure size 360x360 with 1 Axes>"
      ]
     },
     "metadata": {
      "needs_background": "light"
     },
     "output_type": "display_data"
    },
    {
     "name": "stdout",
     "output_type": "stream",
     "text": [
      "saved as :  /Users/elisegarel/Desktop/PUBLI/run//./campaign09cNN/Class_EBSD/Class_EBSD-0000/distribution-0.png\n",
      "y_pred is considered as sigmoid array\n",
      "Nombre de données cumulées :  13920\n"
     ]
    },
    {
     "data": {
      "text/markdown": [
       "**Confusion matrix**"
      ],
      "text/plain": [
       "<IPython.core.display.Markdown object>"
      ]
     },
     "metadata": {},
     "output_type": "display_data"
    },
    {
     "data": {
      "image/png": "[encoded data removed]",
      "text/plain": [
       "<Figure size 576x432 with 2 Axes>"
      ]
     },
     "metadata": {
      "needs_background": "light"
     },
     "output_type": "display_data"
    },
    {
     "name": "stdout",
     "output_type": "stream",
     "text": [
      "saved as :  /Users/elisegarel/Desktop/PUBLI/run//./campaign09cNN/Class_EBSD/Class_EBSD-0000/confusion-matrix.png\n"
     ]
    },
    {
     "data": {
      "text/markdown": [
       "**Classification report**"
      ],
      "text/plain": [
       "<IPython.core.display.Markdown object>"
      ]
     },
     "metadata": {},
     "output_type": "display_data"
    },
    {
     "data": {
      "text/html": [
       "<div>\n",
       "<style scoped>\n",
       "    .dataframe tbody tr th:only-of-type {\n",
       "        vertical-align: middle;\n",
       "    }\n",
       "\n",
       "    .dataframe tbody tr th {\n",
       "        vertical-align: top;\n",
       "    }\n",
       "\n",
       "    .dataframe thead th {\n",
       "        text-align: right;\n",
       "    }\n",
       "</style>\n",
       "<table border=\"1\" class=\"dataframe\">\n",
       "  <thead>\n",
       "    <tr style=\"text-align: right;\">\n",
       "      <th></th>\n",
       "      <th>precision</th>\n",
       "      <th>recall</th>\n",
       "      <th>f1-score</th>\n",
       "      <th>support</th>\n",
       "    </tr>\n",
       "  </thead>\n",
       "  <tbody>\n",
       "    <tr>\n",
       "      <th>0.0</th>\n",
       "      <td>0.966552</td>\n",
       "      <td>0.946345</td>\n",
       "      <td>0.956342</td>\n",
       "      <td>6840.000000</td>\n",
       "    </tr>\n",
       "    <tr>\n",
       "      <th>1.0</th>\n",
       "      <td>0.949190</td>\n",
       "      <td>0.968362</td>\n",
       "      <td>0.958680</td>\n",
       "      <td>7080.000000</td>\n",
       "    </tr>\n",
       "    <tr>\n",
       "      <th>accuracy</th>\n",
       "      <td>0.957543</td>\n",
       "      <td>0.957543</td>\n",
       "      <td>0.957543</td>\n",
       "      <td>0.957543</td>\n",
       "    </tr>\n",
       "    <tr>\n",
       "      <th>macro avg</th>\n",
       "      <td>0.957871</td>\n",
       "      <td>0.957353</td>\n",
       "      <td>0.957511</td>\n",
       "      <td>13920.000000</td>\n",
       "    </tr>\n",
       "    <tr>\n",
       "      <th>weighted avg</th>\n",
       "      <td>0.957721</td>\n",
       "      <td>0.957543</td>\n",
       "      <td>0.957531</td>\n",
       "      <td>13920.000000</td>\n",
       "    </tr>\n",
       "  </tbody>\n",
       "</table>\n",
       "</div>"
      ],
      "text/plain": [
       "              precision    recall  f1-score       support\n",
       "0.0            0.966552  0.946345  0.956342   6840.000000\n",
       "1.0            0.949190  0.968362  0.958680   7080.000000\n",
       "accuracy       0.957543  0.957543  0.957543      0.957543\n",
       "macro avg      0.957871  0.957353  0.957511  13920.000000\n",
       "weighted avg   0.957721  0.957543  0.957531  13920.000000"
      ]
     },
     "metadata": {},
     "output_type": "display_data"
    },
    {
     "data": {
      "text/markdown": [
       "**Hamming Loss**"
      ],
      "text/plain": [
       "<IPython.core.display.Markdown object>"
      ]
     },
     "metadata": {},
     "output_type": "display_data"
    },
    {
     "name": "stdout",
     "output_type": "stream",
     "text": [
      "Hamming loss : 0.042\n"
     ]
    },
    {
     "data": {
      "text/html": [
       "<a name=\"2.2---Comparison-of-architecture-on-XRD-class----Class_XRD-\"></a>"
      ],
      "text/plain": [
       "<IPython.core.display.HTML object>"
      ]
     },
     "metadata": {},
     "output_type": "display_data"
    },
    {
     "data": {
      "text/markdown": [
       "## 2.2 - Comparison of architecture on XRD class - (Class_XRD)"
      ],
      "text/plain": [
       "<IPython.core.display.Markdown object>"
      ]
     },
     "metadata": {},
     "output_type": "display_data"
    },
    {
     "data": {
      "text/markdown": [
       "[(Sommaire)](#Sommaire)"
      ],
      "text/plain": [
       "<IPython.core.display.Markdown object>"
      ]
     },
     "metadata": {},
     "output_type": "display_data"
    },
    {
     "data": {
      "text/markdown": [
       "Report for : **/Users/elisegarel/Desktop/PUBLI/run//./campaign09cNN/Class_XRD**"
      ],
      "text/plain": [
       "<IPython.core.display.Markdown object>"
      ]
     },
     "metadata": {},
     "output_type": "display_data"
    },
    {
     "data": {
      "text/markdown": [
       "This report have **1** parts :"
      ],
      "text/plain": [
       "<IPython.core.display.Markdown object>"
      ]
     },
     "metadata": {},
     "output_type": "display_data"
    },
    {
     "data": {
      "text/markdown": [
       "  - Class_XRD-0000"
      ],
      "text/plain": [
       "<IPython.core.display.Markdown object>"
      ]
     },
     "metadata": {},
     "output_type": "display_data"
    },
    {
     "data": {
      "text/markdown": [
       "<br>**Class_XRD-0000 Comparison of architecture on XRD class**"
      ],
      "text/plain": [
       "<IPython.core.display.Markdown object>"
      ]
     },
     "metadata": {},
     "output_type": "display_data"
    },
    {
     "name": "stdout",
     "output_type": "stream",
     "text": [
      "     ---- context -----------------------------------------------\n",
      "     function     : iterative_manyfold\n",
      "     version      : 2.14\n",
      "     date         : Wednesday 22 December 2021, 16:48:58\n",
      "     description  : Class_XRD-0000 Comparison of architecture on XRD class\n",
      "     seed         : None\n",
      "     ---- args --------------------------------------------------\n",
      "     run_dir      : /gpfsscratch/rech/ieq/commun/./run/campaign09cNN/Class_XRD/Class_XRD-0000\n",
      "     dataset_id   : compo_DRX_class\n",
      "     model_id     : keras-50x50x100x100\n",
      "     n_iter       : 30\n",
      "     k_fold       : 5\n",
      "     epochs       : 200\n",
      "     batch_size   : 8\n",
      "     ---- settings ----------------------------------------------\n",
      "     file         : 09-bestmodels-classNN-settings.yml\n",
      "     description  : Best classification models of NN, RF, SVM with all datasets\n",
      "     datasets_dir : /gpfswork/rech/ieq/commun/./datasets\n",
      "     run_dir      : /gpfsscratch/rech/ieq/commun/./run/campaign09cNN\n",
      "     ---- evaluation --------------------------------------------\n",
      "     id      count        mean           std\n",
      "     0       150           0.17          0.08\n",
      "     1       150           0.95          0.03\n",
      "     2       150           0.17          0.08\n",
      "     ---- monitoring --------------------------------------------\n",
      "     duration     : 6900.88\n",
      "     used_data    : ['86d75db877b96a80aed23124683a9f6ab3c46f034027fc1a415c80f43910fa11']\n",
      "     ------------------------------------------------------------\n"
     ]
    },
    {
     "data": {
      "image/png": "[encoded data removed]",
      "text/plain": [
       "<Figure size 360x360 with 1 Axes>"
      ]
     },
     "metadata": {
      "needs_background": "light"
     },
     "output_type": "display_data"
    },
    {
     "name": "stdout",
     "output_type": "stream",
     "text": [
      "saved as :  /Users/elisegarel/Desktop/PUBLI/run//./campaign09cNN/Class_XRD/Class_XRD-0000/distribution-0.png\n",
      "y_pred is considered as sigmoid array\n",
      "Nombre de données cumulées :  13740\n"
     ]
    },
    {
     "data": {
      "text/markdown": [
       "**Confusion matrix**"
      ],
      "text/plain": [
       "<IPython.core.display.Markdown object>"
      ]
     },
     "metadata": {},
     "output_type": "display_data"
    },
    {
     "data": {
      "image/png": "[encoded data removed]",
      "text/plain": [
       "<Figure size 576x432 with 2 Axes>"
      ]
     },
     "metadata": {
      "needs_background": "light"
     },
     "output_type": "display_data"
    },
    {
     "name": "stdout",
     "output_type": "stream",
     "text": [
      "saved as :  /Users/elisegarel/Desktop/PUBLI/run//./campaign09cNN/Class_XRD/Class_XRD-0000/confusion-matrix.png\n"
     ]
    },
    {
     "data": {
      "text/markdown": [
       "**Classification report**"
      ],
      "text/plain": [
       "<IPython.core.display.Markdown object>"
      ]
     },
     "metadata": {},
     "output_type": "display_data"
    },
    {
     "data": {
      "text/html": [
       "<div>\n",
       "<style scoped>\n",
       "    .dataframe tbody tr th:only-of-type {\n",
       "        vertical-align: middle;\n",
       "    }\n",
       "\n",
       "    .dataframe tbody tr th {\n",
       "        vertical-align: top;\n",
       "    }\n",
       "\n",
       "    .dataframe thead th {\n",
       "        text-align: right;\n",
       "    }\n",
       "</style>\n",
       "<table border=\"1\" class=\"dataframe\">\n",
       "  <thead>\n",
       "    <tr style=\"text-align: right;\">\n",
       "      <th></th>\n",
       "      <th>precision</th>\n",
       "      <th>recall</th>\n",
       "      <th>f1-score</th>\n",
       "      <th>support</th>\n",
       "    </tr>\n",
       "  </thead>\n",
       "  <tbody>\n",
       "    <tr>\n",
       "      <th>0</th>\n",
       "      <td>0.917011</td>\n",
       "      <td>0.924644</td>\n",
       "      <td>0.920812</td>\n",
       "      <td>4565.000000</td>\n",
       "    </tr>\n",
       "    <tr>\n",
       "      <th>1</th>\n",
       "      <td>0.962351</td>\n",
       "      <td>0.958365</td>\n",
       "      <td>0.960354</td>\n",
       "      <td>9175.000000</td>\n",
       "    </tr>\n",
       "    <tr>\n",
       "      <th>accuracy</th>\n",
       "      <td>0.947162</td>\n",
       "      <td>0.947162</td>\n",
       "      <td>0.947162</td>\n",
       "      <td>0.947162</td>\n",
       "    </tr>\n",
       "    <tr>\n",
       "      <th>macro avg</th>\n",
       "      <td>0.939681</td>\n",
       "      <td>0.941505</td>\n",
       "      <td>0.940583</td>\n",
       "      <td>13740.000000</td>\n",
       "    </tr>\n",
       "    <tr>\n",
       "      <th>weighted avg</th>\n",
       "      <td>0.947287</td>\n",
       "      <td>0.947162</td>\n",
       "      <td>0.947216</td>\n",
       "      <td>13740.000000</td>\n",
       "    </tr>\n",
       "  </tbody>\n",
       "</table>\n",
       "</div>"
      ],
      "text/plain": [
       "              precision    recall  f1-score       support\n",
       "0              0.917011  0.924644  0.920812   4565.000000\n",
       "1              0.962351  0.958365  0.960354   9175.000000\n",
       "accuracy       0.947162  0.947162  0.947162      0.947162\n",
       "macro avg      0.939681  0.941505  0.940583  13740.000000\n",
       "weighted avg   0.947287  0.947162  0.947216  13740.000000"
      ]
     },
     "metadata": {},
     "output_type": "display_data"
    },
    {
     "data": {
      "text/markdown": [
       "**Hamming Loss**"
      ],
      "text/plain": [
       "<IPython.core.display.Markdown object>"
      ]
     },
     "metadata": {},
     "output_type": "display_data"
    },
    {
     "name": "stdout",
     "output_type": "stream",
     "text": [
      "Hamming loss : 0.053\n"
     ]
    }
   ],
   "source": [
    "settings = config.load('09-bestmodels-classNN-settings.yml', verbose=1)\n",
    "\n",
    "reporter.show_run_reports(  settings,\n",
    "                            run_filter='.*',\n",
    "                            sections   = ['title','context','args','settings','evaluation', 'monitoring', 'distribution', 'confusion'],\n",
    "                            context    = ['function', 'version', 'date', 'description', 'seed'],\n",
    "                            args       = ['run_dir', 'dataset_id', 'model_id', 'n_iter', 'k_fold', 'epochs', 'batch_size'],\n",
    "                            settings   = ['file', 'version', 'description', 'datasets_dir', 'run_dir'],\n",
    "                            evaluation = ['all'],\n",
    "                            monitoring = ['duration', 'used_data'],\n",
    "                            history      = [ dict(metric='val_accuracy', min=None,max=None, figsize=(5,5), savefig=True, mplstyle='pyterk') ],\n",
    "                            distribution = [ dict(metric_id=0, bins=4,  min=None,max=None, figsize=(5,5), savefig=True, mplstyle='pyterk') ],\n",
    "                            correlation  = [ dict(axes_min='auto',axes_max='auto', figsize=(8,6), marker='.', markersize=8, alpha=0.7, color='auto', savefig=True, mplstyle='pyterk') ],\n",
    "                            confusion    = [ dict(normalize='pred', predict_type='sigmoid', figsize=(8,6), savefig=True, mplstyle='pyterk') ]\n",
    "                             )"
   ]
  },
  {
   "cell_type": "markdown",
   "id": "3dc957ce",
   "metadata": {},
   "source": [
    "---\n",
    "### PyTerK 2021"
   ]
  }
 ],
 "metadata": {
  "kernelspec": {
   "display_name": "Python 3",
   "language": "python",
   "name": "python3"
  },
  "language_info": {
   "codemirror_mode": {
    "name": "ipython",
    "version": 3
   },
   "file_extension": ".py",
   "mimetype": "text/x-python",
   "name": "python",
   "nbconvert_exporter": "python",
   "pygments_lexer": "ipython3",
   "version": "3.7.9"
  }
 },
 "nbformat": 4,
 "nbformat_minor": 5
}
