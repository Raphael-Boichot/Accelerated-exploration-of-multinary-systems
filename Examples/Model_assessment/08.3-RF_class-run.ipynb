{
 "cells": [
  {
   "cell_type": "markdown",
   "id": "f42660df",
   "metadata": {},
   "source": [
    "# **PyTerK** / 08.3-RF_class-run\n",
    "----\n",
    "An Python Iterated K-fold cross validation with shuffling  "
   ]
  },
  {
   "cell_type": "markdown",
   "id": "45f0aaa9",
   "metadata": {},
   "source": [
    "## Step 1 - Init all"
   ]
  },
  {
   "cell_type": "code",
   "execution_count": 7,
   "id": "2d8d9392",
   "metadata": {},
   "outputs": [
    {
     "data": {
      "text/markdown": [
       "<br>**Pyterk - A Python iterative KFold stuff...**"
      ],
      "text/plain": [
       "<IPython.core.display.Markdown object>"
      ]
     },
     "metadata": {},
     "output_type": "display_data"
    },
    {
     "name": "stdout",
     "output_type": "stream",
     "text": [
      "settings     : 08.3-RF_class-settings.yml\n",
      "description  : Test of random forrest architecture.\n",
      "settings v.  : 1.0\n",
      "seed         : 123\n",
      "datasets_dir : /gpfswork/rech/ieq/commun/./datasets\n",
      "run_dir      : /gpfsscratch/rech/ieq/commun/./run/campaign08/RF_class\n",
      "file         : 08.3-RF_class-settings.yml\n"
     ]
    },
    {
     "data": {
      "text/markdown": [
       "<br>**Load datasets...**"
      ],
      "text/plain": [
       "<IPython.core.display.Markdown object>"
      ]
     },
     "metadata": {},
     "output_type": "display_data"
    },
    {
     "name": "stdout",
     "output_type": "stream",
     "text": [
      "compo_CI_class : 74294bc7021bebc7a9f7d18f29fab04c2a20ddc966a5ab3b0694259162396008 (sha256)\n",
      "compo_DRX_class : 86d75db877b96a80aed23124683a9f6ab3c46f034027fc1a415c80f43910fa11 (sha256)\n"
     ]
    }
   ],
   "source": [
    "import sys\n",
    "sys.path.append('../..')\n",
    "\n",
    "import pyterk.config        as config\n",
    "import pyterk.task_manager  as task_manager\n",
    "import pyterk.reporter      as evaluation\n",
    "\n",
    "settings = config.load('08.3-RF_class-settings.yml', verbose=1)"
   ]
  },
  {
   "cell_type": "markdown",
   "id": "cbcb9f67",
   "metadata": {},
   "source": [
    "## Step 2 - Add tasks"
   ]
  },
  {
   "cell_type": "code",
   "execution_count": 8,
   "id": "46d1930f",
   "metadata": {
    "tags": []
   },
   "outputs": [
    {
     "name": "stdout",
     "output_type": "stream",
     "text": [
      "All pending tasks have been removed.\n"
     ]
    },
    {
     "data": {
      "text/markdown": [
       "<br>**Add combinational iterative manyfold...**"
      ],
      "text/plain": [
       "<IPython.core.display.Markdown object>"
      ]
     },
     "metadata": {},
     "output_type": "display_data"
    },
    {
     "name": "stdout",
     "output_type": "stream",
     "text": [
      "Run name           : Class_CI\n",
      "Directory          : /gpfsscratch/rech/ieq/commun/./run/campaign08/RF_class/Class_CI\n",
      "Description        : Comparison of architecture on CI class\n",
      "Iterative manifold : 9\n",
      "Models to fit      : 1350\n",
      "Total pending tasks: 1350\n"
     ]
    },
    {
     "data": {
      "text/markdown": [
       "<br>**Add combinational iterative manyfold...**"
      ],
      "text/plain": [
       "<IPython.core.display.Markdown object>"
      ]
     },
     "metadata": {},
     "output_type": "display_data"
    },
    {
     "name": "stdout",
     "output_type": "stream",
     "text": [
      "Run name           : Class_DRX\n",
      "Directory          : /gpfsscratch/rech/ieq/commun/./run/campaign08/RF_class/Class_DRX\n",
      "Description        : Comparison of architecture on DRX class\n",
      "Iterative manifold : 9\n",
      "Models to fit      : 1350\n",
      "Total pending tasks: 2700\n"
     ]
    }
   ],
   "source": [
    "task_manager.reset()\n",
    "task_manager.add_combinational_iterative_manyfold(settings = settings, run_key= 'Class_CI')\n",
    "task_manager.add_combinational_iterative_manyfold(settings = settings, run_key= 'Class_DRX')"
   ]
  },
  {
   "cell_type": "markdown",
   "id": "862a257a",
   "metadata": {},
   "source": [
    "## Step 3 -  Run tasks"
   ]
  },
  {
   "cell_type": "code",
   "execution_count": 9,
   "id": "f810a49b",
   "metadata": {},
   "outputs": [
    {
     "data": {
      "text/markdown": [
       "<br>**Run pending tasks...**"
      ],
      "text/plain": [
       "<IPython.core.display.Markdown object>"
      ]
     },
     "metadata": {},
     "output_type": "display_data"
    },
    {
     "name": "stdout",
     "output_type": "stream",
     "text": [
      "Number of cores   : 80\n",
      "Number of workers : 40\n",
      "Number of tasks   : 2700 \n",
      "\n",
      "o : job start    O : job end    . :job already done    + : results synthesis\n",
      "\n",
      "ooooooooooooooooooooooooooooooooooooooooOoOOOOOoooOOOoooooOOOoooOoOOooOOOOOOooooOOOoooOoOoOOoOooOOooOOOOOooooooOoOOOOooOOOOOoooOoooooOoOOOOoOOOooOoOoooooOoOooOOOoOOoOOoOooooOOOooooOOOOoOOOOOoooOOOOoooooooooOOoOoOOoOoooOOOOOoOooOOooOoOooooOOOooOOoOOooooOOOOOOoooOooOoOOOOOooOoooooOOOoOOOOoOoOoOooOoOoOoOooOooOoOooOoOoOoooOOOOoOoOOOOOooooooooOOOOOoOoooooOOOoOooOOoOoOoOoOOoOOOoOoooOoooOoOOooOOoOOOOoooOoooOoOOoOoOoooOOOOOOoOooOoOoOooooOoOOOOOOOOoOoooOoooooooOoOoOoOoOOoOOoooOOoOoOoOOOooooOOOOOoooOOOooOooOooOoOOoOoooOOOOoOooOoOOoOoOooOooOoOooOOOOOOooooOoooOOOoOOooOooOoOOOoOoOoOoOOoOOoOOoOOoOooooooooOOOooOOoOOoOoOOooOoOooOOOoOooooOoOOoOOooooOOOOooOoOoOoooOOoOoOoOoOoOOOooooOOOOooOOooooOOoOOoOOOOOooooooOoOoOOoOOOoOoOoOoOOoOOooOooOooooOoOOOOoOOoOOoooooooOoOOOOoooOOOooooOOOOOOooooOoOOoOOOooooooOOOOOOooooooOOOOooooOOOOOOOoooooooOOOooOOoOOOooOooooOOOoOoOOoOOoOooOooOoOOOooOOOooOoOooOoOOoOOoooooOoOOOOOOOOOOoooooooooOooOOoOoOoOoOooOoOOooOOoOOooooOOOoOoOOooooOOOOOooooOOoOooOOoOOOooOooooOOoOOoOoOOoOOOOOooOoOoooooooOOOOOoooooOOoOooOOoOOooOooOOOOoOooooOOOoooOOOoooOOOOooOooOOOoOOOoOoOoooooOOoOOOoooooOoOOOOooooOOOOOOOoooooOooOoOOOooOOooOoOOooooOoOOooOoOoOOooOoOOooOOOoOoooOoOOOOOooooOOoOOooOOOOooOoooOoOOoOoooOOoOOOooOOoOoooooOOOoOooOOoOoooOOooOOOOoOooOooOoOOoooOOooOOooOOooOOoOoOOoOoOoOoOoOooOoOoOOoOOOOOoooOoooOooOoOOOooooOOoOoOOOoOoOooOOoOooooOOOOooOooOoOoOooOOoOoOOoooOoOoOOoOoOOoooOOooOoOOooOoOOOOOOOoOoooOOooooOOOOooOoOooOooOOoOOOooooOoooOOOOooooOOOOOOoooooOoOoOoOOoOOOooOoooOoOooOoOoOOoOOOooooOOOoOooOOoOOoooOOoOOOOOoooOooooOoOOOOOOoOOOOooooooOOooOoooooOOOoooOOOOOOooooooOOOoOoOooOooOoOOOOoOoooOoOOOoOOoooooOOooOOOOooOoOoOOooooOOOOoOOOooooooOOOOOooooOoOOooOoOoOOoOOoOOooooOOoooOOOOOoOOooooooOOOOOooOoooOooOOoOooOOooOOoOOoOooOOoooOOooOOOoOoOoOoOooOooOOOoooOOOOOooooOOOOOOooOOOooooooooOOOOoOOOOooOooOoooooOOooOOOoooOOoOOoooOOooOOooOOooOOOOooOOoOOOooOOoOoooooOoOoOoOOOOOooOooooOOoooOOOoOooOOoooOOoOOoOOoooOoOooOOOOooooOOOooOoOOoOOooOoOooOOooOoOoOOoooOoOoOOOoOOooOoooOOOoOOOoOOooooooOOOoOooOoOoOoOoOOOoooOoOOooOoOoOoOOOooOooOOoOoOooOOOoooOooOOooOoOOoOoOooOoOOooOOOOoooOOooOoOOOOoOooOooOoOOOoOooooOoOOOOooOOOooooooOOOOooooOoOOOOOoooooOOOoOooOoOOOOooooOoOoOOoOoOooOooOoOOOOoOOoooOOoOoOooooOOOooOoOoOOOOooOOoooooOOoOOoOoooOOOoooOOOOOOOoooooOoOoOOOoOOooooOoOoOOooooOoOOOOoOooooOOOoOOooooOOOOoooOoOOOOooOoooOoOoOoOoOOoOOOoOOOoOooooOoooOOOOoooooOOooOOOOoooOoOOoooOoOOOOOoOooOOooOoOoooOoOoOOooOoOooOOoOoOOOOoOOooooooOOOooOoOoOOoOOooooOOOoOooOOoOooOOoOOoooOoOoOoOOOOOooOoooooOOOOOooOooooOoOOOOOOooOOooooOoOOoooOoOoOoOoOoOOooOOoOOooOOooOOOoooOoOoOoOooOOoOoOoOoOOOoOoOoOoooOOooOOOOoOoooooOoOOOOOOoooooooOOOoOoooOoOOooOOOooOooOOoOoOOooOoOOOOoOoooOoOOOoOoooooOOOoOooOOoOoooOoOOooOOOoooOOOOOOooooooOOOOOoOOOooooOoOoOOoooooOOoOoOOOOoooooOOooOOOoOoooOoOOOoooOoOoOOOOOooOoooOOOOooooOoOOoOOOOooOooooOoOOOoOoooOoOOOOOOooooooOOOOoOOOooooOoooOOoooOOOOoooOoOooOOOoOOOooooOoOoOoOoOoOOoOoooOOOoOOooOoOOoOoooOOOoOOoooOOooOoooOoOoOOoOooOOOOooOOOoOoooOOoOoOOOooOoooOoOooOOOoOOOoooOooooOOOoOoOOOOooooooOOOOOoooooOOoOooOOOOOOOOooOOooOooooooOoOoOOOoOOoOoOoOoOOooooOoOooOoOooOOoOOOoOoooOOOoOOooOoOOoOoooooOOOOOOoooOoOooooOOOoOoOooOOOoOOOOoOoOoOoOOoooooOoooOooOOOoooOOOoOoOoOOoooOoOOOOoOoooooOOOOooooOOoOoOOOooooOoOOOooOoOOOOoooOooOOOOoOooOoOOoOOooooooOOOoooOOOoOoOOooOoOOOoooOOoOoOooooOOOOOOoOoooooOooOoOoOOOoOOooOooOoOOOOOoOooOooOooOOoOoOOOoOooooooOOooOOOoooOOOoooOOOoOooOOoOooOoOOooOoOOOOooooOoOOOooooOoOOOOOOOOooOoooooooOOOOOOooOOooOoOoOooOoooOoOooOoOOOOOOoooOooOoOoOOOooooOOOoOOoooooOOooOOOOOOOOOOOoooooooooooOOOOOOOOOooooooOoooOOoOOoOOoooOoOoOoooOOOoooOoOOoOOOoOooOooOoOOoooOOOOOOOOOOoooooooooOoOOoOooOooOOOOOoOoOOOooOooooooOOOOoooOoOOOooooOoOoOoOoOoOOOoooOOOOOOOOoooooOOOoooOoooOooOOoOooOOOoOOooOoooOOOoooOOOoOOooOOooOooOOoOoOOooooOoOoOOooOOOOooOOOOoOoooooOOOooooOOOOOoooooOOOOOOOooOoooOooOoooOOoOooOoOoOOoOooOOOoOooOoOOooOOOOooooOoOOOOOoOOoooooOOooOOooooOOOOOOooOooooOOoOoOOoOOoooooOOOOoOooOooOoOOOoooOOOoooOooOoOOOOoOOooOooooOOooOoOOOoooOOoOOOoooOoOoOOoOOOooOOooOoooOOoOOooOoOoOooOOOOoOoooooOOOOooooOOOOooooOoOOOOooooOOooOoOOoOoOOoOoOOoooOOOoOooooOOooOOOoooOOoOOoOoOOooOOOOOOooOOOOOooOooooOOooooooOOOooOOoooOoooOOooOoOoOOOoooOoOOOOooOoOOoOooooOOOOOOOOooooooooOOOOOoooOOooOooOoOooOOOOOOOOOOoOOoOooOoooooooooOoOOOOOOoooooooOOOoooOoOoOOoOOOoOooOoOOooOoOooOOOooOoOoooOoOOoOOoooOOoOoOOoOoooOOOOOoooooOOooOoOOoOoOOOoOoOOooOoOoooOoOOOOOOoOoOooOooOoOoOooOoooOOoooOoOOOoooOoOoOOOOOOOOooooooooOOOOooooOOOOooooOOoOOooOOoooOoOoOOOOOOOoooooOoooOOOOOOoOooooooOoOOOOOOoOoooooOoOoOOooOOoOOooooOoOoOOoOOoooOOOOOooooOOOooOoOoooOOOOoOOoooOooOOoOOooooOoOOOooOoOOoOOoOoooOoOOOOOOOoooooOoOooOOooOooOOOOoooooOOoOoOOoOooOoOOOOoOooooOOOooooOOOOOOooOoooOOooOoOOoOOOoOoOOOooooooooOOOOOooOOooOooOooOOoOOoOOooOOoooOoOooOoOoOooOOOOooooOOOOooOOOooOoOOOooOoOOoOoooOoooOooOOOOoOooOoOooOoOOOoooOoOOOOOooOoooooOOOOOOooOoooooOOOoOOooooOOoOOOoOOoooOoOOOoOoooOooOOOoooOOOoOOooOoOoOoOOOoOOOoOoOOOoOoOoooOoOoOoOOoOOoOOOooOOoOoOoOoOoOoOoOoOoOoOoOoOOOoooOoOoOoOoOoOoOoOoOoOoOoOoOoOoOOoOoOoOoOoOoOOoOoOoOoOoOoOoOoOoOoOoOoOOooOoOoOoOoOoOOooOoOoOoOoOoOoOoOoOoOoOoOoOoOoOoOoOoOoOoOoOoOOooOoOOooOoOoOoOoOoOoOOooOoOoOoOoOoOoOoOoOoOoOoOoOoOoOoOoOoOoOoOoOoOoOOoOoOoOoOoOoOoOoOoOOoOoOoOoOoOoOoOoOoOoOoOoOoOoOoOoOoOOooOoOoOoOoOoOoOoOoOoOoOoOoOoOoOoOoOoOoOoOoOoOoOOoOooOoOoOoOoOoOoOOoOoOOoOoOoOoOOoOoOOoOoOoOoOoOOOOoOoOoOoOoOoOOoOoOoOOOoOOoOoOOOoOoOoOOoOoOoOOoOoOOoOoOoOoOoOoOoOoOoOoOoOoOoOoOoOoOoOoOoOoOoOoOoOoOoOoOoOoOoOoOoOoOoOoOoOoOoOoOoOOooOoOoOoOoOoOoOOOoOOOOoOOoOoOoOoOOO\n",
      "++++++++++++++++++++++++++++++++++++++++++++++++++++++++++++++++++++++++++++++++++++++++++++++++++++++++++++++++++++++++++++++++++++++++++++++++++++++++++++++++++++++++++++++++++++++++++++++++++++++++++++++++++++++++++++++++++++++++++++++++++++++++++++++++++++++++++++++++++++++++++++++++++++++++++++++++++++++++++++++++++++++++++++++++++++++++++++++++++++++++++++++++++++++++++++++++++++++++++++++++++++++++++++++++++++++++++++++++++++++++++++++++++++++++++++++++++++++++++++++++++++++++++++++++++++++++++++++++++++++++++++++++++++++++++++++++++++++++++++++\n",
      "\n",
      "Done. All 2700 tasks appear to have been completed correctly.\n",
      "\n",
      "Duration : 23.75 s\n"
     ]
    }
   ],
   "source": [
    "task_manager.run(processes=40, maxtasksperchild=20)"
   ]
  },
  {
   "cell_type": "markdown",
   "id": "b00f761a",
   "metadata": {},
   "source": [
    "\n",
    "\n",
    "---\n",
    "### PyTerK 2021"
   ]
  }
 ],
 "metadata": {
  "kernelspec": {
   "display_name": "Python 3",
   "language": "python",
   "name": "python3"
  },
  "language_info": {
   "codemirror_mode": {
    "name": "ipython",
    "version": 3
   },
   "file_extension": ".py",
   "mimetype": "text/x-python",
   "name": "python",
   "nbconvert_exporter": "python",
   "pygments_lexer": "ipython3",
   "version": "3.7.10"
  }
 },
 "nbformat": 4,
 "nbformat_minor": 5
}
