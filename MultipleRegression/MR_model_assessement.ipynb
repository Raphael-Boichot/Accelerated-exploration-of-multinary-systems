{
 "cells": [
  {
   "cell_type": "markdown",
   "metadata": {},
   "source": [
    "# Multiple regressions models on Statistically processed data"
   ]
  },
  {
   "cell_type": "markdown",
   "metadata": {},
   "source": [
    "Different Multiple Regression with Scheffé interactions are trained with Statistically process data to assess the performance of the models on each output (elastic modulus E, hardness H, EBSD Confidence Index CI and Image Quality IQ).\n",
    "\n",
    "For each output, for each multiple regression model:\n",
    " - set OLS expressions for each model\n",
    " - import dataset as dataframe and compute Scheffé interaction terms for quartic multiple regression\n",
    " - iterative kfold crossvalidation on each multiple regression\n",
    " - compute R² mean and standard deviation for each model"
   ]
  },
  {
   "cell_type": "markdown",
   "metadata": {},
   "source": [
    "## Import libraries"
   ]
  },
  {
   "cell_type": "code",
   "execution_count": 15,
   "metadata": {},
   "outputs": [],
   "source": [
    "import statsmodels.formula.api as smf\n",
    "import pandas as pd\n",
    "import numpy as np\n",
    "from sklearn.model_selection import KFold\n",
    "import matplotlib.pyplot as plt\n",
    "import MultipleRegression as MR\n",
    "import os\n"
   ]
  },
  {
   "cell_type": "markdown",
   "metadata": {},
   "source": [
    "## Path to datasets"
   ]
  },
  {
   "cell_type": "code",
   "execution_count": 16,
   "metadata": {},
   "outputs": [],
   "source": [
    "datasets_dir=os.getenv(\"DATASETS_DIR\")\n",
    "run_dir=os.getenv(\"RUN_DIR\")"
   ]
  },
  {
   "cell_type": "markdown",
   "metadata": {},
   "source": [
    "## Model assessement on elastic modulus E"
   ]
  },
  {
   "cell_type": "markdown",
   "metadata": {},
   "source": [
    "### Multiple regression model"
   ]
  },
  {
   "cell_type": "code",
   "execution_count": 17,
   "metadata": {},
   "outputs": [],
   "source": [
    "expression_linear ='E ~ Zr + Nb + Mo + Ti + Cr  -1'\n",
    "expression_quadratic = 'E ~ Zr + Nb + Mo + Ti + Cr +Zr:Nb +Zr:Mo +Zr:Ti +Zr:Cr +Nb:Mo +Nb:Ti +Nb:Cr +Mo:Ti + Mo:Cr + Ti:Cr  -1'\n",
    "expression_sp_cubic = 'E ~ Zr + Nb + Mo + Ti + Cr +Zr:Nb +Zr:Mo +Zr:Ti +Zr:Cr +Nb:Mo +Nb:Ti +Nb:Cr +Mo:Ti + Mo:Cr + Ti:Cr + Zr:Nb:Mo +Zr:Nb:Ti +Zr:Nb:Cr +Zr:Mo:Ti +Zr:Mo:Cr +Zr:Ti:Cr + Nb:Mo:Ti + Nb:Mo:Cr + Nb:Ti:Cr + Mo:Ti:Cr -1'\n",
    "expression_cubic = 'E ~ Zr + Nb + Mo + Ti + Cr +Zr:Nb +Zr:Mo +Zr:Ti +Zr:Cr +Nb:Mo +Nb:Ti +Nb:Cr +Mo:Ti + Mo:Cr + Ti:Cr + Zr:Nb:Mo +Zr:Nb:Ti +Zr:Nb:Cr +Zr:Mo:Ti +Zr:Mo:Cr +Zr:Ti:Cr + Nb:Mo:Ti + Nb:Mo:Cr + Nb:Ti:Cr + Mo:Ti:Cr + Zr:Nb:Zr_Nb +Zr:Mo:Zr_Mo + Zr:Ti:Zr_Ti+ Zr:Cr:Zr_Cr + Nb:Mo:Nb_Mo + Nb:Ti:Nb_Ti + Nb:Cr:Nb_Cr +Mo:Ti:Mo_Ti + Mo:Cr:Mo_Cr + Ti:Cr:Ti_Cr -1'\n",
    "expression_quartic = 'E ~ Zr + Nb + Mo + Ti + Cr + Zr:Nb +Zr:Mo +Zr:Ti +Zr:Cr +Nb:Mo +Nb:Ti +Nb:Cr +Mo:Ti + Mo:Cr + Ti:Cr + Zr:Nb:Zr_Nb +Zr:Mo:Zr_Mo + Zr:Ti:Zr_Ti+ Zr:Cr:Zr_Cr + Nb:Mo:Nb_Mo +Nb:Ti:Nb_Ti +Nb:Cr:Nb_Cr +Mo:Ti:Mo_Ti + Mo:Cr:Mo_Cr + Ti:Cr:Ti_Cr + Zr:Nb:Mo:Ti + Zr:Nb:Mo:Cr + Zr:Nb:Ti:Cr + Zr:Mo:Ti:Cr + Nb:Mo:Ti:Cr + Zr2:Nb:Mo +Zr2:Nb:Ti +Zr2:Nb:Cr +Zr2:Mo:Ti +Zr2:Mo:Cr +Zr2:Ti:Cr + Zr:Nb2:Mo + Zr:Nb2:Ti +Zr:Nb2:Cr + Zr:Nb:Mo2 + Zr:Nb:Ti2 +Zr:Nb:Cr2 + Zr:Mo2:Ti + Zr:Mo2:Cr + Zr:Mo:Ti2 + Zr:Mo:Cr2 + Zr:Ti2:Cr + Zr:Ti:Cr2 + Nb2:Mo:Ti + Nb2:Mo:Cr + Nb2:Ti:Cr + Nb:Mo2:Ti + Nb:Mo2:Cr +  Nb:Mo:Ti2 + Nb:Mo:Cr2 + Nb:Ti2:Cr + Nb:Ti:Cr2 + Mo2:Ti:Cr +Mo:Ti2:Cr + Mo:Ti:Cr2 + Zr:Nb:Zr_Nb2 +Zr:Mo:Zr_Mo2 + Zr:Ti:Zr_Ti2+ Zr:Cr:Zr_Cr2 + Nb:Mo:Nb_Mo2 +Nb:Ti:Nb_Ti2 +Nb:Cr:Nb_Cr2 +Mo:Ti:Mo_Ti2 + Mo:Cr:Mo_Cr2 + Ti:Cr:Ti_Cr2 -1'\n"
   ]
  },
  {
   "cell_type": "markdown",
   "metadata": {},
   "source": [
    "### Import database "
   ]
  },
  {
   "cell_type": "code",
   "execution_count": 18,
   "metadata": {},
   "outputs": [],
   "source": [
    "data=pd.read_csv(f\"{datasets_dir}/Compo_E_wo_outlier.csv\", header=0)\n",
    "data.columns=['compo','sample','Zr', 'Nb','Mo','Ti','Cr','Zr_m','Nb_m','Mo_m','Ti_m','Cr_m','E']\n",
    "data=MR.Scheffe_interactions_terms(data)"
   ]
  },
  {
   "cell_type": "markdown",
   "metadata": {},
   "source": [
    "### Define X and y data and train the multiple regressions "
   ]
  },
  {
   "cell_type": "code",
   "execution_count": 19,
   "metadata": {},
   "outputs": [
    {
     "data": {
      "text/html": [
       "<div>\n",
       "<style scoped>\n",
       "    .dataframe tbody tr th:only-of-type {\n",
       "        vertical-align: middle;\n",
       "    }\n",
       "\n",
       "    .dataframe tbody tr th {\n",
       "        vertical-align: top;\n",
       "    }\n",
       "\n",
       "    .dataframe thead th {\n",
       "        text-align: right;\n",
       "    }\n",
       "</style>\n",
       "<table border=\"1\" class=\"dataframe\">\n",
       "  <thead>\n",
       "    <tr style=\"text-align: right;\">\n",
       "      <th></th>\n",
       "      <th>mean R2</th>\n",
       "      <th>std R2</th>\n",
       "    </tr>\n",
       "  </thead>\n",
       "  <tbody>\n",
       "    <tr>\n",
       "      <th>linear</th>\n",
       "      <td>0.798645</td>\n",
       "      <td>0.014472</td>\n",
       "    </tr>\n",
       "    <tr>\n",
       "      <th>quadratic</th>\n",
       "      <td>0.898061</td>\n",
       "      <td>0.011121</td>\n",
       "    </tr>\n",
       "    <tr>\n",
       "      <th>special cubic</th>\n",
       "      <td>0.913233</td>\n",
       "      <td>0.010504</td>\n",
       "    </tr>\n",
       "    <tr>\n",
       "      <th>cubic</th>\n",
       "      <td>0.930598</td>\n",
       "      <td>0.009667</td>\n",
       "    </tr>\n",
       "    <tr>\n",
       "      <th>quartic</th>\n",
       "      <td>0.950646</td>\n",
       "      <td>0.010382</td>\n",
       "    </tr>\n",
       "  </tbody>\n",
       "</table>\n",
       "</div>"
      ],
      "text/plain": [
       "                mean R2    std R2\n",
       "linear         0.798645  0.014472\n",
       "quadratic      0.898061  0.011121\n",
       "special cubic  0.913233  0.010504\n",
       "cubic          0.930598  0.009667\n",
       "quartic        0.950646  0.010382"
      ]
     },
     "metadata": {},
     "output_type": "display_data"
    }
   ],
   "source": [
    "X=data[['Zr','Nb','Mo','Ti','Cr','Zr_Nb','Zr_Mo','Zr_Ti','Zr_Cr','Nb_Mo','Nb_Ti','Nb_Cr','Mo_Ti','Mo_Cr','Ti_Cr','Zr2','Nb2','Mo2','Ti2','Cr2','Zr_Nb2','Zr_Mo2','Zr_Ti2','Zr_Cr2','Nb_Mo2','Nb_Ti2','Nb_Cr2','Mo_Ti2','Mo_Cr2','Ti_Cr2']]\n",
    "y= data['E']\n",
    "\n",
    "k=5\n",
    "nb_it=30\n",
    "output='E'\n",
    "\n",
    "model_linear, MAE_list_linear,R2_list_linear,Y_pred_linear,Y_test_linear= MR.fit_outputs(expression_linear,k,nb_it,output,X,y)\n",
    "model_quadratic, MAE_list_quadratic,R2_list_quadratic,Y_pred_quadratic,Y_test_quadratic= MR.fit_outputs(expression_quadratic,k,nb_it,output,X,y)\n",
    "model_sp_cubic, MAE_list_sp_cubic,R2_list_sp_cubic,Y_pred_sp_cubic,Y_test_sp_cubic= MR.fit_outputs(expression_sp_cubic,k,nb_it,output,X,y)\n",
    "model_cubic, MAE_list_cubic,R2_list_cubic,Y_pred_cubic,Y_test_cubic= MR.fit_outputs(expression_cubic,k,nb_it,output,X,y)\n",
    "model_quartic, MAE_list_quartic,R2_list_quartic,Y_pred_quartic,Y_test_quartic= MR.fit_outputs(expression_quartic,k,nb_it,output,X,y)\n",
    "\n",
    "df_all_R2=pd.DataFrame([R2_list_linear, R2_list_quadratic,R2_list_sp_cubic,R2_list_cubic,R2_list_quartic])\n",
    "df_mean_std_R2=pd.DataFrame(df_all_R2.T.mean().tolist(),columns=['mean R2'],index=['linear','quadratic','special cubic','cubic', 'quartic'])\n",
    "df_mean_std_R2['std R2']=df_all_R2.T.std().tolist()\n",
    "display(df_mean_std_R2)\n"
   ]
  },
  {
   "cell_type": "markdown",
   "metadata": {},
   "source": [
    "## Model assessement on H"
   ]
  },
  {
   "cell_type": "markdown",
   "metadata": {},
   "source": [
    "### Multiple regression model"
   ]
  },
  {
   "cell_type": "code",
   "execution_count": 6,
   "metadata": {},
   "outputs": [],
   "source": [
    "expression_linear ='H ~ Zr + Nb + Mo + Ti + Cr  -1'\n",
    "expression_quadratic = 'H ~ Zr + Nb + Mo + Ti + Cr +Zr:Nb +Zr:Mo +Zr:Ti +Zr:Cr +Nb:Mo +Nb:Ti +Nb:Cr +Mo:Ti + Mo:Cr + Ti:Cr  -1'\n",
    "expression_sp_cubic = 'H ~ Zr + Nb + Mo + Ti + Cr +Zr:Nb +Zr:Mo +Zr:Ti +Zr:Cr +Nb:Mo +Nb:Ti +Nb:Cr +Mo:Ti + Mo:Cr + Ti:Cr + Zr:Nb:Mo +Zr:Nb:Ti +Zr:Nb:Cr +Zr:Mo:Ti +Zr:Mo:Cr +Zr:Ti:Cr + Nb:Mo:Ti + Nb:Mo:Cr + Nb:Ti:Cr + Mo:Ti:Cr -1'\n",
    "expression_cubic = 'H ~ Zr + Nb + Mo + Ti + Cr +Zr:Nb +Zr:Mo +Zr:Ti +Zr:Cr +Nb:Mo +Nb:Ti +Nb:Cr +Mo:Ti + Mo:Cr + Ti:Cr + Zr:Nb:Mo +Zr:Nb:Ti +Zr:Nb:Cr +Zr:Mo:Ti +Zr:Mo:Cr +Zr:Ti:Cr + Nb:Mo:Ti + Nb:Mo:Cr + Nb:Ti:Cr + Mo:Ti:Cr + Zr:Nb:Zr_Nb +Zr:Mo:Zr_Mo + Zr:Ti:Zr_Ti+ Zr:Cr:Zr_Cr + Nb:Mo:Nb_Mo + Nb:Ti:Nb_Ti + Nb:Cr:Nb_Cr +Mo:Ti:Mo_Ti + Mo:Cr:Mo_Cr + Ti:Cr:Ti_Cr -1'\n",
    "expression_quartic = 'H ~ Zr + Nb + Mo + Ti + Cr + Zr:Nb +Zr:Mo +Zr:Ti +Zr:Cr +Nb:Mo +Nb:Ti +Nb:Cr +Mo:Ti + Mo:Cr + Ti:Cr + Zr:Nb:Zr_Nb +Zr:Mo:Zr_Mo + Zr:Ti:Zr_Ti+ Zr:Cr:Zr_Cr + Nb:Mo:Nb_Mo +Nb:Ti:Nb_Ti +Nb:Cr:Nb_Cr +Mo:Ti:Mo_Ti + Mo:Cr:Mo_Cr + Ti:Cr:Ti_Cr + Zr:Nb:Mo:Ti + Zr:Nb:Mo:Cr + Zr:Nb:Ti:Cr + Zr:Mo:Ti:Cr + Nb:Mo:Ti:Cr + Zr2:Nb:Mo +Zr2:Nb:Ti +Zr2:Nb:Cr +Zr2:Mo:Ti +Zr2:Mo:Cr +Zr2:Ti:Cr + Zr:Nb2:Mo + Zr:Nb2:Ti +Zr:Nb2:Cr + Zr:Nb:Mo2 + Zr:Nb:Ti2 +Zr:Nb:Cr2 + Zr:Mo2:Ti + Zr:Mo2:Cr + Zr:Mo:Ti2 + Zr:Mo:Cr2 + Zr:Ti2:Cr + Zr:Ti:Cr2 + Nb2:Mo:Ti + Nb2:Mo:Cr + Nb2:Ti:Cr + Nb:Mo2:Ti + Nb:Mo2:Cr +  Nb:Mo:Ti2 + Nb:Mo:Cr2 + Nb:Ti2:Cr + Nb:Ti:Cr2 + Mo2:Ti:Cr +Mo:Ti2:Cr + Mo:Ti:Cr2 + Zr:Nb:Zr_Nb2 +Zr:Mo:Zr_Mo2 + Zr:Ti:Zr_Ti2+ Zr:Cr:Zr_Cr2 + Nb:Mo:Nb_Mo2 +Nb:Ti:Nb_Ti2 +Nb:Cr:Nb_Cr2 +Mo:Ti:Mo_Ti2 + Mo:Cr:Mo_Cr2 + Ti:Cr:Ti_Cr2 -1'\n"
   ]
  },
  {
   "cell_type": "markdown",
   "metadata": {},
   "source": [
    "### Import database "
   ]
  },
  {
   "cell_type": "code",
   "execution_count": 7,
   "metadata": {},
   "outputs": [],
   "source": [
    "data=pd.read_csv(f\"{datasets_dir}/Compo_H_wo_outlier.csv\", header=0)\n",
    "data.columns=['compo','sample','Zr', 'Nb','Mo','Ti','Cr','Zr_m','Nb_m','Mo_m','Ti_m','Cr_m','H']\n",
    "data=MR.Scheffe_interactions_terms(data)"
   ]
  },
  {
   "cell_type": "markdown",
   "metadata": {},
   "source": [
    "### Define X and y data and train the multiple regressions "
   ]
  },
  {
   "cell_type": "code",
   "execution_count": 8,
   "metadata": {},
   "outputs": [
    {
     "data": {
      "text/html": [
       "<div>\n",
       "<style scoped>\n",
       "    .dataframe tbody tr th:only-of-type {\n",
       "        vertical-align: middle;\n",
       "    }\n",
       "\n",
       "    .dataframe tbody tr th {\n",
       "        vertical-align: top;\n",
       "    }\n",
       "\n",
       "    .dataframe thead th {\n",
       "        text-align: right;\n",
       "    }\n",
       "</style>\n",
       "<table border=\"1\" class=\"dataframe\">\n",
       "  <thead>\n",
       "    <tr style=\"text-align: right;\">\n",
       "      <th></th>\n",
       "      <th>mean R2</th>\n",
       "      <th>std R2</th>\n",
       "    </tr>\n",
       "  </thead>\n",
       "  <tbody>\n",
       "    <tr>\n",
       "      <th>linear</th>\n",
       "      <td>0.605520</td>\n",
       "      <td>0.026663</td>\n",
       "    </tr>\n",
       "    <tr>\n",
       "      <th>quadratic</th>\n",
       "      <td>0.777289</td>\n",
       "      <td>0.017732</td>\n",
       "    </tr>\n",
       "    <tr>\n",
       "      <th>special cubic</th>\n",
       "      <td>0.827958</td>\n",
       "      <td>0.016644</td>\n",
       "    </tr>\n",
       "    <tr>\n",
       "      <th>cubic</th>\n",
       "      <td>0.862331</td>\n",
       "      <td>0.017009</td>\n",
       "    </tr>\n",
       "    <tr>\n",
       "      <th>quartic</th>\n",
       "      <td>0.915855</td>\n",
       "      <td>0.013723</td>\n",
       "    </tr>\n",
       "  </tbody>\n",
       "</table>\n",
       "</div>"
      ],
      "text/plain": [
       "                mean R2    std R2\n",
       "linear         0.605520  0.026663\n",
       "quadratic      0.777289  0.017732\n",
       "special cubic  0.827958  0.016644\n",
       "cubic          0.862331  0.017009\n",
       "quartic        0.915855  0.013723"
      ]
     },
     "metadata": {},
     "output_type": "display_data"
    }
   ],
   "source": [
    "X=data[['Zr','Nb','Mo','Ti','Cr','Zr_Nb','Zr_Mo','Zr_Ti','Zr_Cr','Nb_Mo','Nb_Ti','Nb_Cr','Mo_Ti','Mo_Cr','Ti_Cr','Zr2','Nb2','Mo2','Ti2','Cr2','Zr_Nb2','Zr_Mo2','Zr_Ti2','Zr_Cr2','Nb_Mo2','Nb_Ti2','Nb_Cr2','Mo_Ti2','Mo_Cr2','Ti_Cr2']]\n",
    "y= data['H']\n",
    "\n",
    "k=5\n",
    "nb_it=30\n",
    "output='H'\n",
    "\n",
    "model_linear, MAE_list_linear,R2_list_linear,Y_pred_linear,Y_test_linear= MR.fit_outputs(expression_linear,k,nb_it,output,X,y)\n",
    "model_quadratic, MAE_list_quadratic,R2_list_quadratic,Y_pred_quadratic,Y_test_quadratic= MR.fit_outputs(expression_quadratic,k,nb_it,output,X,y)\n",
    "model_sp_cubic, MAE_list_sp_cubic,R2_list_sp_cubic,Y_pred_sp_cubic,Y_test_sp_cubic= MR.fit_outputs(expression_sp_cubic,k,nb_it,output,X,y)\n",
    "model_cubic, MAE_list_cubic,R2_list_cubic,Y_pred_cubic,Y_test_cubic= MR.fit_outputs(expression_cubic,k,nb_it,output,X,y)\n",
    "model_quartic, MAE_list_quartic,R2_list_quartic,Y_pred_quartic,Y_test_quartic= MR.fit_outputs(expression_quartic,k,nb_it,output,X,y)\n",
    "\n",
    "df_all_R2=pd.DataFrame([R2_list_linear, R2_list_quadratic,R2_list_sp_cubic,R2_list_cubic,R2_list_quartic])\n",
    "df_mean_std_R2=pd.DataFrame(df_all_R2.T.mean().tolist(),columns=['mean R2'],index=['linear','quadratic','special cubic','cubic', 'quartic'])\n",
    "df_mean_std_R2['std R2']=df_all_R2.T.std().tolist()\n",
    "display(df_mean_std_R2)\n"
   ]
  },
  {
   "cell_type": "markdown",
   "metadata": {},
   "source": [
    "## Model assessement on CI"
   ]
  },
  {
   "cell_type": "markdown",
   "metadata": {},
   "source": [
    "### Multiple regression model"
   ]
  },
  {
   "cell_type": "code",
   "execution_count": 9,
   "metadata": {},
   "outputs": [],
   "source": [
    "expression_linear ='CI ~ Zr + Nb + Mo + Ti + Cr  -1'\n",
    "expression_quadratic = ' CI~ Zr + Nb + Mo + Ti + Cr +Zr:Nb +Zr:Mo +Zr:Ti +Zr:Cr +Nb:Mo +Nb:Ti +Nb:Cr +Mo:Ti + Mo:Cr + Ti:Cr  -1'\n",
    "expression_sp_cubic = 'CI ~ Zr + Nb + Mo + Ti + Cr +Zr:Nb +Zr:Mo +Zr:Ti +Zr:Cr +Nb:Mo +Nb:Ti +Nb:Cr +Mo:Ti + Mo:Cr + Ti:Cr + Zr:Nb:Mo +Zr:Nb:Ti +Zr:Nb:Cr +Zr:Mo:Ti +Zr:Mo:Cr +Zr:Ti:Cr + Nb:Mo:Ti + Nb:Mo:Cr + Nb:Ti:Cr + Mo:Ti:Cr -1'\n",
    "expression_cubic = 'CI ~ Zr + Nb + Mo + Ti + Cr +Zr:Nb +Zr:Mo +Zr:Ti +Zr:Cr +Nb:Mo +Nb:Ti +Nb:Cr +Mo:Ti + Mo:Cr + Ti:Cr + Zr:Nb:Mo +Zr:Nb:Ti +Zr:Nb:Cr +Zr:Mo:Ti +Zr:Mo:Cr +Zr:Ti:Cr + Nb:Mo:Ti + Nb:Mo:Cr + Nb:Ti:Cr + Mo:Ti:Cr + Zr:Nb:Zr_Nb +Zr:Mo:Zr_Mo + Zr:Ti:Zr_Ti+ Zr:Cr:Zr_Cr + Nb:Mo:Nb_Mo + Nb:Ti:Nb_Ti + Nb:Cr:Nb_Cr +Mo:Ti:Mo_Ti + Mo:Cr:Mo_Cr + Ti:Cr:Ti_Cr -1'\n",
    "expression_quartic = 'CI ~ Zr + Nb + Mo + Ti + Cr + Zr:Nb +Zr:Mo +Zr:Ti +Zr:Cr +Nb:Mo +Nb:Ti +Nb:Cr +Mo:Ti + Mo:Cr + Ti:Cr + Zr:Nb:Zr_Nb +Zr:Mo:Zr_Mo + Zr:Ti:Zr_Ti+ Zr:Cr:Zr_Cr + Nb:Mo:Nb_Mo +Nb:Ti:Nb_Ti +Nb:Cr:Nb_Cr +Mo:Ti:Mo_Ti + Mo:Cr:Mo_Cr + Ti:Cr:Ti_Cr + Zr:Nb:Mo:Ti + Zr:Nb:Mo:Cr + Zr:Nb:Ti:Cr + Zr:Mo:Ti:Cr + Nb:Mo:Ti:Cr + Zr2:Nb:Mo +Zr2:Nb:Ti +Zr2:Nb:Cr +Zr2:Mo:Ti +Zr2:Mo:Cr +Zr2:Ti:Cr + Zr:Nb2:Mo + Zr:Nb2:Ti +Zr:Nb2:Cr + Zr:Nb:Mo2 + Zr:Nb:Ti2 +Zr:Nb:Cr2 + Zr:Mo2:Ti + Zr:Mo2:Cr + Zr:Mo:Ti2 + Zr:Mo:Cr2 + Zr:Ti2:Cr + Zr:Ti:Cr2 + Nb2:Mo:Ti + Nb2:Mo:Cr + Nb2:Ti:Cr + Nb:Mo2:Ti + Nb:Mo2:Cr +  Nb:Mo:Ti2 + Nb:Mo:Cr2 + Nb:Ti2:Cr + Nb:Ti:Cr2 + Mo2:Ti:Cr +Mo:Ti2:Cr + Mo:Ti:Cr2 + Zr:Nb:Zr_Nb2 +Zr:Mo:Zr_Mo2 + Zr:Ti:Zr_Ti2+ Zr:Cr:Zr_Cr2 + Nb:Mo:Nb_Mo2 +Nb:Ti:Nb_Ti2 +Nb:Cr:Nb_Cr2 +Mo:Ti:Mo_Ti2 + Mo:Cr:Mo_Cr2 + Ti:Cr:Ti_Cr2 -1'\n"
   ]
  },
  {
   "cell_type": "markdown",
   "metadata": {},
   "source": [
    "### Import database "
   ]
  },
  {
   "cell_type": "code",
   "execution_count": 10,
   "metadata": {},
   "outputs": [],
   "source": [
    "data=pd.read_csv(f\"{datasets_dir}/Data_averaged.csv\", header=0)\n",
    "data.columns=['compo','sample','Zr', 'Nb','Mo','Ti','Cr','Zr_m','Nb_m','Mo_m','Ti_m','Cr_m', 'E', 'H', 'stdE', 'stdH','CI','IQ','class']\n",
    "data=MR.Scheffe_interactions_terms(data)"
   ]
  },
  {
   "cell_type": "markdown",
   "metadata": {},
   "source": [
    "### Define X and y data and train the multiple regressions "
   ]
  },
  {
   "cell_type": "code",
   "execution_count": 11,
   "metadata": {},
   "outputs": [
    {
     "data": {
      "text/html": [
       "<div>\n",
       "<style scoped>\n",
       "    .dataframe tbody tr th:only-of-type {\n",
       "        vertical-align: middle;\n",
       "    }\n",
       "\n",
       "    .dataframe tbody tr th {\n",
       "        vertical-align: top;\n",
       "    }\n",
       "\n",
       "    .dataframe thead th {\n",
       "        text-align: right;\n",
       "    }\n",
       "</style>\n",
       "<table border=\"1\" class=\"dataframe\">\n",
       "  <thead>\n",
       "    <tr style=\"text-align: right;\">\n",
       "      <th></th>\n",
       "      <th>mean R2</th>\n",
       "      <th>std R2</th>\n",
       "    </tr>\n",
       "  </thead>\n",
       "  <tbody>\n",
       "    <tr>\n",
       "      <th>linear</th>\n",
       "      <td>0.471658</td>\n",
       "      <td>0.070280</td>\n",
       "    </tr>\n",
       "    <tr>\n",
       "      <th>quadratic</th>\n",
       "      <td>0.660545</td>\n",
       "      <td>0.080759</td>\n",
       "    </tr>\n",
       "    <tr>\n",
       "      <th>special cubic</th>\n",
       "      <td>0.679949</td>\n",
       "      <td>0.074751</td>\n",
       "    </tr>\n",
       "    <tr>\n",
       "      <th>cubic</th>\n",
       "      <td>0.756954</td>\n",
       "      <td>0.071959</td>\n",
       "    </tr>\n",
       "    <tr>\n",
       "      <th>quartic</th>\n",
       "      <td>0.832662</td>\n",
       "      <td>0.075821</td>\n",
       "    </tr>\n",
       "  </tbody>\n",
       "</table>\n",
       "</div>"
      ],
      "text/plain": [
       "                mean R2    std R2\n",
       "linear         0.471658  0.070280\n",
       "quadratic      0.660545  0.080759\n",
       "special cubic  0.679949  0.074751\n",
       "cubic          0.756954  0.071959\n",
       "quartic        0.832662  0.075821"
      ]
     },
     "metadata": {},
     "output_type": "display_data"
    }
   ],
   "source": [
    "X=data[['Zr','Nb','Mo','Ti','Cr','Zr_Nb','Zr_Mo','Zr_Ti','Zr_Cr','Nb_Mo','Nb_Ti','Nb_Cr','Mo_Ti','Mo_Cr','Ti_Cr','Zr2','Nb2','Mo2','Ti2','Cr2','Zr_Nb2','Zr_Mo2','Zr_Ti2','Zr_Cr2','Nb_Mo2','Nb_Ti2','Nb_Cr2','Mo_Ti2','Mo_Cr2','Ti_Cr2']]\n",
    "y= data['CI']\n",
    "\n",
    "k=5\n",
    "nb_it=30\n",
    "output='CI'\n",
    "\n",
    "model_linear, MAE_list_linear,R2_list_linear,Y_pred_linear,Y_test_linear= MR.fit_outputs(expression_linear,k,nb_it,output,X,y)\n",
    "model_quadratic, MAE_list_quadratic,R2_list_quadratic,Y_pred_quadratic,Y_test_quadratic= MR.fit_outputs(expression_quadratic,k,nb_it,output,X,y)\n",
    "model_sp_cubic, MAE_list_sp_cubic,R2_list_sp_cubic,Y_pred_sp_cubic,Y_test_sp_cubic= MR.fit_outputs(expression_sp_cubic,k,nb_it,output,X,y)\n",
    "model_cubic, MAE_list_cubic,R2_list_cubic,Y_pred_cubic,Y_test_cubic= MR.fit_outputs(expression_cubic,k,nb_it,output,X,y)\n",
    "model_quartic, MAE_list_quartic,R2_list_quartic,Y_pred_quartic,Y_test_quartic= MR.fit_outputs(expression_quartic,k,nb_it,output,X,y)\n",
    "\n",
    "df_all_R2=pd.DataFrame([R2_list_linear, R2_list_quadratic,R2_list_sp_cubic,R2_list_cubic,R2_list_quartic])\n",
    "df_mean_std_R2=pd.DataFrame(df_all_R2.T.mean().tolist(),columns=['mean R2'],index=['linear','quadratic','special cubic','cubic', 'quartic'])\n",
    "df_mean_std_R2['std R2']=df_all_R2.T.std().tolist()\n",
    "display(df_mean_std_R2)\n"
   ]
  },
  {
   "cell_type": "markdown",
   "metadata": {},
   "source": [
    "## Model assessement on IQ"
   ]
  },
  {
   "cell_type": "markdown",
   "metadata": {},
   "source": [
    "### Multiple regression model"
   ]
  },
  {
   "cell_type": "code",
   "execution_count": 12,
   "metadata": {},
   "outputs": [],
   "source": [
    "expression_linear ='IQ ~ Zr + Nb + Mo + Ti + Cr  -1'\n",
    "expression_quadratic = 'IQ ~ Zr + Nb + Mo + Ti + Cr +Zr:Nb +Zr:Mo +Zr:Ti +Zr:Cr +Nb:Mo +Nb:Ti +Nb:Cr +Mo:Ti + Mo:Cr + Ti:Cr  -1'\n",
    "expression_sp_cubic = 'IQ ~ Zr + Nb + Mo + Ti + Cr +Zr:Nb +Zr:Mo +Zr:Ti +Zr:Cr +Nb:Mo +Nb:Ti +Nb:Cr +Mo:Ti + Mo:Cr + Ti:Cr + Zr:Nb:Mo +Zr:Nb:Ti +Zr:Nb:Cr +Zr:Mo:Ti +Zr:Mo:Cr +Zr:Ti:Cr + Nb:Mo:Ti + Nb:Mo:Cr + Nb:Ti:Cr + Mo:Ti:Cr -1'\n",
    "expression_cubic = 'IQ ~ Zr + Nb + Mo + Ti + Cr +Zr:Nb +Zr:Mo +Zr:Ti +Zr:Cr +Nb:Mo +Nb:Ti +Nb:Cr +Mo:Ti + Mo:Cr + Ti:Cr + Zr:Nb:Mo +Zr:Nb:Ti +Zr:Nb:Cr +Zr:Mo:Ti +Zr:Mo:Cr +Zr:Ti:Cr + Nb:Mo:Ti + Nb:Mo:Cr + Nb:Ti:Cr + Mo:Ti:Cr + Zr:Nb:Zr_Nb +Zr:Mo:Zr_Mo + Zr:Ti:Zr_Ti+ Zr:Cr:Zr_Cr + Nb:Mo:Nb_Mo + Nb:Ti:Nb_Ti + Nb:Cr:Nb_Cr +Mo:Ti:Mo_Ti + Mo:Cr:Mo_Cr + Ti:Cr:Ti_Cr -1'\n",
    "expression_quartic = 'IQ ~ Zr + Nb + Mo + Ti + Cr + Zr:Nb +Zr:Mo +Zr:Ti +Zr:Cr +Nb:Mo +Nb:Ti +Nb:Cr +Mo:Ti + Mo:Cr + Ti:Cr + Zr:Nb:Zr_Nb +Zr:Mo:Zr_Mo + Zr:Ti:Zr_Ti+ Zr:Cr:Zr_Cr + Nb:Mo:Nb_Mo +Nb:Ti:Nb_Ti +Nb:Cr:Nb_Cr +Mo:Ti:Mo_Ti + Mo:Cr:Mo_Cr + Ti:Cr:Ti_Cr + Zr:Nb:Mo:Ti + Zr:Nb:Mo:Cr + Zr:Nb:Ti:Cr + Zr:Mo:Ti:Cr + Nb:Mo:Ti:Cr + Zr2:Nb:Mo +Zr2:Nb:Ti +Zr2:Nb:Cr +Zr2:Mo:Ti +Zr2:Mo:Cr +Zr2:Ti:Cr + Zr:Nb2:Mo + Zr:Nb2:Ti +Zr:Nb2:Cr + Zr:Nb:Mo2 + Zr:Nb:Ti2 +Zr:Nb:Cr2 + Zr:Mo2:Ti + Zr:Mo2:Cr + Zr:Mo:Ti2 + Zr:Mo:Cr2 + Zr:Ti2:Cr + Zr:Ti:Cr2 + Nb2:Mo:Ti + Nb2:Mo:Cr + Nb2:Ti:Cr + Nb:Mo2:Ti + Nb:Mo2:Cr +  Nb:Mo:Ti2 + Nb:Mo:Cr2 + Nb:Ti2:Cr + Nb:Ti:Cr2 + Mo2:Ti:Cr +Mo:Ti2:Cr + Mo:Ti:Cr2 + Zr:Nb:Zr_Nb2 +Zr:Mo:Zr_Mo2 + Zr:Ti:Zr_Ti2+ Zr:Cr:Zr_Cr2 + Nb:Mo:Nb_Mo2 +Nb:Ti:Nb_Ti2 +Nb:Cr:Nb_Cr2 +Mo:Ti:Mo_Ti2 + Mo:Cr:Mo_Cr2 + Ti:Cr:Ti_Cr2 -1'\n"
   ]
  },
  {
   "cell_type": "markdown",
   "metadata": {},
   "source": [
    "### Import database "
   ]
  },
  {
   "cell_type": "code",
   "execution_count": 13,
   "metadata": {},
   "outputs": [],
   "source": [
    "data=pd.read_csv(f\"{datasets_dir}/Data_averaged.csv\", header=0)\n",
    "data.columns=['compo','sample','Zr', 'Nb','Mo','Ti','Cr','Zr_m','Nb_m','Mo_m','Ti_m','Cr_m', 'E', 'H', 'stdE', 'stdH','CI','IQ','class']\n",
    "data=MR.Scheffe_interactions_terms(data)"
   ]
  },
  {
   "cell_type": "markdown",
   "metadata": {},
   "source": [
    "### Define X and y data and train the multiple regressions "
   ]
  },
  {
   "cell_type": "code",
   "execution_count": 14,
   "metadata": {},
   "outputs": [
    {
     "data": {
      "text/html": [
       "<div>\n",
       "<style scoped>\n",
       "    .dataframe tbody tr th:only-of-type {\n",
       "        vertical-align: middle;\n",
       "    }\n",
       "\n",
       "    .dataframe tbody tr th {\n",
       "        vertical-align: top;\n",
       "    }\n",
       "\n",
       "    .dataframe thead th {\n",
       "        text-align: right;\n",
       "    }\n",
       "</style>\n",
       "<table border=\"1\" class=\"dataframe\">\n",
       "  <thead>\n",
       "    <tr style=\"text-align: right;\">\n",
       "      <th></th>\n",
       "      <th>mean R2</th>\n",
       "      <th>std R2</th>\n",
       "    </tr>\n",
       "  </thead>\n",
       "  <tbody>\n",
       "    <tr>\n",
       "      <th>linear</th>\n",
       "      <td>0.478117</td>\n",
       "      <td>0.070078</td>\n",
       "    </tr>\n",
       "    <tr>\n",
       "      <th>quadratic</th>\n",
       "      <td>0.675062</td>\n",
       "      <td>0.069941</td>\n",
       "    </tr>\n",
       "    <tr>\n",
       "      <th>special cubic</th>\n",
       "      <td>0.698441</td>\n",
       "      <td>0.066431</td>\n",
       "    </tr>\n",
       "    <tr>\n",
       "      <th>cubic</th>\n",
       "      <td>0.766688</td>\n",
       "      <td>0.069973</td>\n",
       "    </tr>\n",
       "    <tr>\n",
       "      <th>quartic</th>\n",
       "      <td>0.870797</td>\n",
       "      <td>0.051775</td>\n",
       "    </tr>\n",
       "  </tbody>\n",
       "</table>\n",
       "</div>"
      ],
      "text/plain": [
       "                mean R2    std R2\n",
       "linear         0.478117  0.070078\n",
       "quadratic      0.675062  0.069941\n",
       "special cubic  0.698441  0.066431\n",
       "cubic          0.766688  0.069973\n",
       "quartic        0.870797  0.051775"
      ]
     },
     "metadata": {},
     "output_type": "display_data"
    }
   ],
   "source": [
    "X=data[['Zr','Nb','Mo','Ti','Cr','Zr_Nb','Zr_Mo','Zr_Ti','Zr_Cr','Nb_Mo','Nb_Ti','Nb_Cr','Mo_Ti','Mo_Cr','Ti_Cr','Zr2','Nb2','Mo2','Ti2','Cr2','Zr_Nb2','Zr_Mo2','Zr_Ti2','Zr_Cr2','Nb_Mo2','Nb_Ti2','Nb_Cr2','Mo_Ti2','Mo_Cr2','Ti_Cr2']]\n",
    "y= data['IQ']\n",
    "\n",
    "k=5\n",
    "nb_it=30\n",
    "output='IQ'\n",
    "\n",
    "model_linear, MAE_list_linear,R2_list_linear,Y_pred_linear,Y_test_linear= MR.fit_outputs(expression_linear,k,nb_it,output,X,y)\n",
    "model_quadratic, MAE_list_quadratic,R2_list_quadratic,Y_pred_quadratic,Y_test_quadratic= MR.fit_outputs(expression_quadratic,k,nb_it,output,X,y)\n",
    "model_sp_cubic, MAE_list_sp_cubic,R2_list_sp_cubic,Y_pred_sp_cubic,Y_test_sp_cubic= MR.fit_outputs(expression_sp_cubic,k,nb_it,output,X,y)\n",
    "model_cubic, MAE_list_cubic,R2_list_cubic,Y_pred_cubic,Y_test_cubic= MR.fit_outputs(expression_cubic,k,nb_it,output,X,y)\n",
    "model_quartic, MAE_list_quartic,R2_list_quartic,Y_pred_quartic,Y_test_quartic= MR.fit_outputs(expression_quartic,k,nb_it,output,X,y)\n",
    "\n",
    "df_all_R2=pd.DataFrame([R2_list_linear, R2_list_quadratic,R2_list_sp_cubic,R2_list_cubic,R2_list_quartic])\n",
    "df_mean_std_R2=pd.DataFrame(df_all_R2.T.mean().tolist(),columns=['mean R2'],index=['linear','quadratic','special cubic','cubic', 'quartic'])\n",
    "df_mean_std_R2['std R2']=df_all_R2.T.std().tolist()\n",
    "display(df_mean_std_R2)\n"
   ]
  }
 ],
 "metadata": {
  "interpreter": {
   "hash": "06fc15fa6bdb13a3686bf33772bf6a0a99b1d8643cfe8cc29c50656ce894c1c6"
  },
  "kernelspec": {
   "display_name": "Python 3.8.5 64-bit ('base': conda)",
   "language": "python",
   "name": "python3"
  },
  "language_info": {
   "codemirror_mode": {
    "name": "ipython",
    "version": 3
   },
   "file_extension": ".py",
   "mimetype": "text/x-python",
   "name": "python",
   "nbconvert_exporter": "python",
   "pygments_lexer": "ipython3",
   "version": "3.7.9"
  },
  "orig_nbformat": 4
 },
 "nbformat": 4,
 "nbformat_minor": 2
}
